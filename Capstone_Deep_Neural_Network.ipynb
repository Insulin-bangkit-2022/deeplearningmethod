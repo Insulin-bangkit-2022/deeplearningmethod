{
  "nbformat": 4,
  "nbformat_minor": 0,
  "metadata": {
    "colab": {
      "name": "Capstone Deep Neural Network",
      "provenance": [],
      "include_colab_link": true
    },
    "kernelspec": {
      "name": "python3",
      "display_name": "Python 3"
    },
    "language_info": {
      "name": "python"
    }
  },
  "cells": [
    {
      "cell_type": "markdown",
      "metadata": {
        "id": "view-in-github",
        "colab_type": "text"
      },
      "source": [
        "<a href=\"https://colab.research.google.com/github/Insulin-bangkit-2022/deeplearningmethod/blob/main/Capstone_Deep_Neural_Network.ipynb\" target=\"_parent\"><img src=\"https://colab.research.google.com/assets/colab-badge.svg\" alt=\"Open In Colab\"/></a>"
      ]
    },
    {
      "cell_type": "code",
      "execution_count": 1,
      "metadata": {
        "id": "s5SSMF1qjq_E"
      },
      "outputs": [],
      "source": [
        "#import numpy as np \n",
        "import pandas as pd \n",
        "import matplotlib.pyplot as plt\n",
        "import seaborn as sns\n",
        "import tensorflow as tf\n",
        "from sklearn.model_selection import train_test_split\n",
        "from sklearn.metrics import confusion_matrix,accuracy_score\n",
        "from google.colab import files\n",
        "from keras.models import load_model\n",
        "import numpy as np\n",
        "%matplotlib inline"
      ]
    },
    {
      "cell_type": "code",
      "source": [
        "files.upload()"
      ],
      "metadata": {
        "colab": {
          "resources": {
            "http://localhost:8080/nbextensions/google.colab/files.js": {
              "data": "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",
              "ok": true,
              "headers": [
                [
                  "content-type",
                  "application/javascript"
                ]
              ],
              "status": 200,
              "status_text": ""
            }
          },
          "base_uri": "https://localhost:8080/",
          "height": 113
        },
        "id": "hsVo9C3ikAwi",
        "outputId": "1875ddd6-dfbd-4149-8dcf-994df88b31ab"
      },
      "execution_count": null,
      "outputs": [
        {
          "output_type": "display_data",
          "data": {
            "text/plain": [
              "<IPython.core.display.HTML object>"
            ],
            "text/html": [
              "\n",
              "     <input type=\"file\" id=\"files-5786a01b-7813-4755-89f8-95afda338e08\" name=\"files[]\" multiple disabled\n",
              "        style=\"border:none\" />\n",
              "     <output id=\"result-5786a01b-7813-4755-89f8-95afda338e08\">\n",
              "      Upload widget is only available when the cell has been executed in the\n",
              "      current browser session. Please rerun this cell to enable.\n",
              "      </output>\n",
              "      <script src=\"/nbextensions/google.colab/files.js\"></script> "
            ]
          },
          "metadata": {}
        },
        {
          "output_type": "stream",
          "name": "stdout",
          "text": [
            "Saving diabetes_data.csv to diabetes_data.csv\n"
          ]
        },
        {
          "output_type": "execute_result",
          "data": {
            "text/plain": [
              "{'diabetes_data.csv': b'age;gender;polyuria;polydipsia;sudden_weight_loss;weakness;polyphagia;genital_thrush;visual_blurring;itching;irritability;delayed_healing;partial_paresis;muscle_stiffness;alopecia;obesity;class\\r\\n40;Male;0;1;0;1;0;0;0;1;0;1;0;1;1;1;1\\r\\n58;Male;0;0;0;1;0;0;1;0;0;0;1;0;1;0;1\\r\\n41;Male;1;0;0;1;1;0;0;1;0;1;0;1;1;0;1\\r\\n45;Male;0;0;1;1;1;1;0;1;0;1;0;0;0;0;1\\r\\n60;Male;1;1;1;1;1;0;1;1;1;1;1;1;1;1;1\\r\\n55;Male;1;1;0;1;1;0;1;1;0;1;0;1;1;1;1\\r\\n57;Male;1;1;0;1;1;1;0;0;0;1;1;0;0;0;1\\r\\n66;Male;1;1;1;1;0;0;1;1;1;0;1;1;0;0;1\\r\\n67;Male;1;1;0;1;1;1;0;1;1;0;1;1;0;1;1\\r\\n70;Male;0;1;1;1;1;0;1;1;1;0;0;0;1;0;1\\r\\n44;Male;1;1;0;1;0;1;0;0;1;1;0;1;1;0;1\\r\\n38;Male;1;1;0;0;1;1;0;1;0;1;0;1;0;0;1\\r\\n35;Male;1;0;0;0;1;1;0;0;1;1;0;0;1;0;1\\r\\n61;Male;1;1;1;1;1;1;1;1;0;0;0;0;1;1;1\\r\\n60;Male;1;1;0;1;1;0;1;1;0;1;1;0;0;0;1\\r\\n58;Male;1;1;0;1;1;0;0;0;0;1;1;1;0;0;1\\r\\n54;Male;1;1;1;1;0;1;0;0;0;1;0;1;0;0;1\\r\\n67;Male;0;1;0;1;1;0;1;0;1;1;1;1;1;1;1\\r\\n66;Male;1;1;0;1;1;0;1;0;0;0;1;1;0;0;1\\r\\n43;Male;1;1;1;1;0;1;0;0;0;0;0;0;0;0;1\\r\\n62;Male;1;1;0;1;1;0;1;0;1;0;1;1;0;0;1\\r\\n54;Male;1;1;1;1;1;1;1;1;0;1;0;1;1;0;1\\r\\n39;Male;1;0;1;0;0;1;0;1;1;0;0;0;1;0;1\\r\\n48;Male;0;1;1;1;0;0;1;1;1;1;0;0;0;0;1\\r\\n58;Male;1;1;1;1;1;0;1;0;0;1;1;1;0;1;1\\r\\n32;Male;0;0;0;0;0;1;0;0;1;1;0;0;0;1;1\\r\\n42;Male;0;0;0;1;1;0;0;0;1;0;0;1;0;0;1\\r\\n52;Male;1;1;1;1;1;0;1;1;0;1;1;1;0;0;1\\r\\n38;Male;0;1;0;0;0;1;0;0;0;0;0;0;1;0;1\\r\\n53;Male;1;1;1;1;1;0;1;0;1;0;1;0;1;0;1\\r\\n57;Male;1;1;1;1;1;0;1;0;0;0;1;0;0;0;1\\r\\n41;Male;1;1;1;1;1;1;1;1;1;0;0;0;0;1;1\\r\\n37;Male;0;0;0;1;0;0;0;0;0;1;0;0;1;0;1\\r\\n54;Male;1;1;1;1;0;0;1;1;1;1;1;1;0;0;1\\r\\n49;Male;1;1;0;1;0;0;1;1;0;0;0;0;0;0;1\\r\\n48;Male;1;1;0;1;0;1;1;1;0;0;0;0;0;0;1\\r\\n60;Male;1;0;0;0;0;0;1;0;0;0;1;0;1;0;1\\r\\n63;Male;1;1;1;1;1;0;1;0;0;0;0;1;1;1;1\\r\\n35;Male;1;0;1;0;0;0;0;0;0;0;1;0;1;0;1\\r\\n30;Female;1;0;1;1;1;0;0;0;0;1;0;0;0;0;1\\r\\n53;Female;0;1;1;0;1;1;1;1;1;1;0;1;0;0;1\\r\\n50;Female;1;1;1;0;1;0;0;0;0;1;1;0;0;0;1\\r\\n50;Female;0;1;0;1;1;0;1;1;1;1;1;1;0;0;1\\r\\n35;Female;1;1;1;1;1;0;0;1;0;1;1;1;0;0;1\\r\\n40;Female;1;1;1;1;0;0;1;1;0;0;1;1;0;0;1\\r\\n48;Female;0;0;1;1;0;0;1;1;0;1;1;0;0;0;1\\r\\n60;Female;1;1;1;1;1;0;1;1;0;1;1;1;0;1;1\\r\\n60;Female;1;1;1;1;1;0;1;1;0;0;1;1;0;0;1\\r\\n35;Female;1;1;1;1;1;0;1;1;0;1;0;1;0;1;1\\r\\n46;Female;1;0;1;1;0;0;1;0;0;1;1;1;0;0;1\\r\\n36;Female;1;1;1;0;1;0;1;0;1;1;1;1;0;0;1\\r\\n50;Female;1;1;1;1;1;0;1;0;0;0;1;0;0;0;1\\r\\n60;Female;0;1;1;1;1;1;1;0;1;1;1;1;0;0;1\\r\\n50;Female;0;1;1;1;0;0;1;0;0;1;0;0;0;0;1\\r\\n51;Female;0;0;0;0;0;0;1;0;0;0;1;1;0;0;1\\r\\n38;Female;0;0;0;0;0;0;0;0;0;0;0;0;0;1;1\\r\\n66;Female;1;1;1;1;1;1;1;1;0;1;1;1;0;0;1\\r\\n53;Female;0;0;0;0;1;0;1;0;0;0;1;0;0;0;1\\r\\n59;Female;0;0;0;0;0;0;0;0;0;0;0;0;0;0;1\\r\\n39;Female;1;1;0;1;1;0;1;0;1;1;1;1;0;1;1\\r\\n65;Female;1;1;0;1;1;0;0;1;0;0;1;1;0;0;1\\r\\n35;Female;1;1;1;1;1;0;1;1;0;1;1;1;0;0;1\\r\\n55;Female;1;1;0;1;1;0;1;1;0;1;1;1;0;0;1\\r\\n60;Female;1;0;1;1;0;1;1;1;0;1;1;1;0;1;1\\r\\n45;Female;0;0;0;0;0;0;1;1;0;0;1;0;0;0;1\\r\\n40;Female;1;0;1;0;1;0;0;0;0;0;0;0;0;0;1\\r\\n30;Female;1;1;0;0;0;0;0;1;0;1;1;0;0;0;1\\r\\n35;Female;0;1;1;1;1;0;0;1;0;0;1;0;0;0;1\\r\\n25;Female;0;0;0;1;1;0;1;0;0;0;0;0;1;0;1\\r\\n50;Female;1;1;1;1;1;0;1;0;0;0;1;0;0;1;1\\r\\n40;Female;0;0;1;1;0;0;0;0;0;0;0;0;0;0;1\\r\\n35;Female;0;1;1;1;0;0;0;1;0;1;1;1;0;0;1\\r\\n65;Female;0;0;0;0;0;1;0;0;0;0;0;0;0;0;1\\r\\n38;Female;1;1;1;1;1;0;0;0;0;0;1;0;0;0;1\\r\\n50;Female;1;1;1;1;1;0;0;1;0;1;1;1;0;0;1\\r\\n55;Female;1;1;1;1;0;0;1;0;0;0;1;0;0;1;1\\r\\n48;Female;1;1;1;1;1;0;0;0;0;0;1;0;0;0;1\\r\\n55;Female;1;1;1;0;1;0;0;1;0;1;1;0;0;0;1\\r\\n39;Female;1;1;1;1;1;0;0;1;1;1;1;0;0;0;1\\r\\n43;Female;1;1;1;1;1;0;1;0;0;0;1;1;0;1;1\\r\\n35;Female;1;1;0;1;0;0;1;0;0;0;0;0;0;0;1\\r\\n47;Female;0;0;1;1;1;0;0;0;0;0;0;1;0;0;1\\r\\n50;Female;1;1;0;1;1;0;0;0;0;1;1;0;0;0;1\\r\\n48;Female;1;1;0;1;0;0;1;1;0;1;1;0;0;0;1\\r\\n35;Female;1;1;1;1;1;0;1;1;0;1;1;1;0;0;1\\r\\n49;Female;0;0;1;1;0;0;0;0;0;0;0;0;0;1;1\\r\\n38;Female;1;1;1;1;1;0;1;1;1;1;1;1;0;0;1\\r\\n28;Female;0;0;0;0;0;0;1;0;0;0;1;1;0;0;1\\r\\n68;Female;1;1;0;1;1;0;1;1;0;1;1;0;0;0;1\\r\\n35;Female;0;0;0;0;0;0;0;0;0;0;0;0;0;0;1\\r\\n45;Female;0;0;0;0;1;0;1;1;0;0;1;0;0;0;1\\r\\n48;Female;1;1;1;1;1;0;1;1;1;1;1;1;0;0;1\\r\\n40;Female;1;1;1;1;0;0;1;0;0;1;1;1;0;0;1\\r\\n40;Female;1;1;0;1;1;0;0;1;0;0;1;0;0;0;1\\r\\n36;Female;1;1;0;1;1;0;1;1;0;1;1;0;0;0;1\\r\\n56;Female;1;1;0;1;0;0;1;1;0;0;1;0;0;0;1\\r\\n30;Female;1;1;1;1;0;0;0;1;0;1;1;1;0;0;1\\r\\n31;Female;1;1;1;1;1;0;0;1;1;0;1;1;0;0;1\\r\\n35;Female;1;1;0;0;0;0;1;0;0;0;0;0;1;0;1\\r\\n39;Female;1;1;0;0;1;1;1;1;0;1;1;0;0;0;1\\r\\n48;Female;1;1;1;0;1;1;0;0;1;1;0;1;1;1;1\\r\\n85;Male;1;1;1;1;1;1;1;1;0;1;1;1;0;0;1\\r\\n90;Female;0;1;1;0;0;1;1;1;0;0;0;1;1;0;1\\r\\n72;Male;1;0;1;1;1;0;0;0;1;1;1;1;1;0;1\\r\\n70;Male;1;0;1;1;1;1;0;0;1;1;1;1;1;0;1\\r\\n69;Female;1;0;1;1;1;1;1;1;0;1;0;0;1;0;1\\r\\n58;Male;0;1;1;1;1;0;1;1;0;0;1;0;1;1;1\\r\\n47;Male;1;0;1;1;1;0;0;0;0;1;1;1;0;0;1\\r\\n25;Male;1;1;0;0;1;1;1;1;0;1;0;0;1;0;1\\r\\n39;Female;1;1;0;0;1;0;1;0;1;1;1;1;0;0;1\\r\\n53;Female;0;0;1;1;0;0;1;1;0;1;0;0;0;0;1\\r\\n52;Male;1;1;1;0;1;1;1;0;1;0;1;0;1;1;1\\r\\n68;Female;1;1;1;0;1;1;1;0;1;1;0;1;1;0;1\\r\\n79;Male;0;1;1;1;1;1;0;1;1;0;1;0;0;0;1\\r\\n55;Female;1;0;1;0;0;1;1;1;0;1;1;0;0;0;1\\r\\n45;Female;1;1;1;1;1;0;1;1;1;1;1;0;0;0;1\\r\\n30;Female;1;1;1;0;1;0;0;0;1;0;1;1;0;0;1\\r\\n45;Female;1;1;0;1;1;0;1;1;1;1;1;1;0;0;1\\r\\n65;Female;1;1;0;1;0;0;1;1;1;1;1;0;0;0;1\\r\\n34;Female;1;1;0;1;0;0;0;0;1;0;0;1;0;0;1\\r\\n48;Male;1;1;0;1;1;0;0;0;0;1;0;1;1;0;1\\r\\n35;Male;1;1;0;1;1;1;0;1;0;1;1;1;0;0;1\\r\\n40;Male;0;1;0;1;1;0;0;1;1;1;1;1;0;1;1\\r\\n47;Male;0;1;0;0;0;0;1;1;0;0;0;0;1;1;1\\r\\n38;Male;1;0;1;1;0;0;0;0;0;0;0;0;0;0;1\\r\\n55;Male;1;1;1;1;1;0;1;0;0;1;1;0;0;0;1\\r\\n66;Male;1;1;0;1;0;1;0;1;1;1;1;0;0;0;1\\r\\n57;Male;1;0;0;1;1;0;0;1;1;0;0;1;1;0;1\\r\\n32;Male;0;1;0;1;1;1;0;1;1;0;0;0;1;0;1\\r\\n48;Male;1;1;1;1;0;0;0;1;0;0;1;0;1;0;1\\r\\n47;Male;1;1;1;1;1;1;1;1;1;0;0;1;0;0;1\\r\\n43;Male;1;0;0;0;1;0;0;0;1;0;0;1;0;0;1\\r\\n30;Male;1;1;1;1;0;1;0;0;0;1;0;0;0;0;1\\r\\n16;Male;1;0;1;0;1;0;0;0;0;0;0;0;0;0;1\\r\\n35;Male;1;1;1;1;0;0;0;0;0;0;0;0;0;0;1\\r\\n66;Male;0;0;0;1;0;1;1;0;1;1;1;1;1;0;1\\r\\n54;Male;0;0;0;0;0;1;0;1;1;0;0;1;1;1;1\\r\\n58;Male;1;1;1;1;1;1;0;1;1;1;1;1;1;1;1\\r\\n51;Male;1;1;1;1;0;1;0;0;1;1;1;0;1;0;1\\r\\n40;Male;1;0;0;0;0;1;0;1;0;1;0;0;1;0;1\\r\\n47;Male;1;1;0;0;0;0;0;0;0;0;0;1;0;0;1\\r\\n62;Male;1;1;0;0;1;0;1;0;1;1;1;0;1;0;1\\r\\n49;Male;1;1;1;0;0;0;0;1;0;0;0;0;0;0;1\\r\\n53;Male;1;0;1;0;0;0;0;0;0;1;1;0;0;0;1\\r\\n68;Male;1;1;0;0;1;0;1;1;1;0;1;0;0;0;1\\r\\n61;Male;1;0;0;1;1;1;1;1;1;1;1;0;0;0;1\\r\\n39;Male;1;1;0;0;0;1;0;1;0;0;0;1;0;1;1\\r\\n38;Male;1;0;0;0;0;1;0;1;0;0;0;1;0;1;1\\r\\n44;Male;0;1;0;0;0;1;0;0;0;1;0;0;0;1;1\\r\\n45;Male;1;1;0;1;0;1;0;0;0;1;0;0;1;0;1\\r\\n50;Male;1;1;1;1;1;0;0;1;1;1;0;0;1;0;1\\r\\n42;Male;1;1;0;1;0;1;0;0;1;0;1;0;1;0;1\\r\\n55;Male;0;1;0;1;0;1;0;0;1;1;0;0;1;0;1\\r\\n57;Male;0;1;0;1;0;1;1;0;1;1;1;1;1;0;1\\r\\n62;Male;1;0;0;1;0;1;1;1;1;0;1;1;1;1;1\\r\\n33;Male;0;1;0;0;0;0;0;0;0;0;0;0;0;0;1\\r\\n55;Male;1;1;1;1;0;1;0;0;1;0;1;0;0;0;1\\r\\n48;Male;1;1;1;0;1;1;0;0;0;1;0;0;0;0;1\\r\\n56;Male;1;0;1;1;0;1;0;1;1;0;0;0;1;0;1\\r\\n38;Female;1;1;1;1;1;0;1;1;1;1;1;1;0;0;1\\r\\n28;Female;0;0;0;0;0;0;1;0;0;0;1;1;0;0;1\\r\\n68;Female;1;1;0;1;1;0;1;1;0;1;1;0;0;0;1\\r\\n35;Female;0;0;0;0;0;0;0;0;0;0;0;0;0;0;1\\r\\n45;Female;0;0;0;0;1;0;1;1;0;0;1;0;0;0;1\\r\\n48;Female;1;1;1;1;1;0;1;1;1;1;1;1;0;0;1\\r\\n40;Female;1;1;1;1;0;0;1;0;0;1;1;1;0;0;1\\r\\n57;Male;1;1;1;1;1;0;1;0;0;0;1;0;0;0;1\\r\\n41;Male;1;1;1;1;1;1;1;1;1;0;0;0;0;1;1\\r\\n37;Male;0;0;0;1;0;0;0;0;0;1;0;0;1;0;1\\r\\n54;Male;1;1;1;1;0;0;1;1;1;1;1;1;0;0;1\\r\\n49;Male;1;1;0;1;0;0;1;1;0;0;0;0;0;0;1\\r\\n48;Male;1;1;0;1;0;1;1;1;0;0;0;0;0;0;1\\r\\n60;Male;1;0;0;0;0;0;1;0;0;0;1;0;1;0;1\\r\\n63;Male;1;1;1;1;1;0;1;0;0;0;0;1;1;1;1\\r\\n35;Male;1;0;1;0;0;0;0;0;0;0;1;0;1;0;1\\r\\n30;Female;1;0;1;1;1;0;0;0;0;1;0;0;0;0;1\\r\\n53;Female;0;1;1;0;1;1;1;1;1;1;0;1;0;0;1\\r\\n50;Female;1;1;1;0;1;0;0;0;0;1;1;0;0;0;1\\r\\n50;Female;0;1;0;1;1;0;1;1;1;1;1;1;0;0;1\\r\\n35;Female;1;1;1;1;1;0;0;1;0;1;1;1;0;0;1\\r\\n40;Female;1;1;1;1;0;0;1;1;0;0;1;1;0;0;1\\r\\n31;Female;1;1;1;1;1;0;0;1;1;0;1;1;0;0;1\\r\\n35;Female;1;1;0;0;0;0;1;0;0;0;0;0;1;0;1\\r\\n39;Female;1;1;0;0;1;1;1;1;0;1;1;0;0;0;1\\r\\n48;Female;1;1;1;0;1;1;0;0;1;1;0;1;1;1;1\\r\\n85;Male;1;1;1;1;1;1;1;1;0;1;1;1;0;0;1\\r\\n90;Female;0;1;1;0;0;1;1;1;0;0;0;1;1;0;1\\r\\n72;Male;1;0;1;1;1;0;0;0;1;1;1;1;1;0;1\\r\\n70;Male;1;0;1;1;1;1;0;0;1;1;1;1;1;0;1\\r\\n69;Female;1;0;1;1;1;1;1;1;0;1;0;0;1;0;1\\r\\n58;Male;0;1;1;1;1;0;1;1;0;0;1;0;1;1;1\\r\\n54;Male;1;1;0;0;0;0;1;0;0;0;0;0;0;0;1\\r\\n64;Male;0;1;0;0;0;0;0;0;1;1;0;0;0;0;1\\r\\n36;Male;1;0;0;1;0;1;1;1;0;1;0;0;0;0;1\\r\\n43;Male;0;0;1;1;1;1;1;1;1;1;0;0;0;0;1\\r\\n31;Male;1;0;0;0;1;0;1;0;0;0;1;0;1;0;1\\r\\n66;Male;0;0;0;0;1;0;1;0;0;0;1;0;1;0;1\\r\\n61;Female;1;0;0;0;1;0;0;0;1;0;0;0;1;0;1\\r\\n58;Female;1;0;1;0;1;0;0;0;1;0;0;1;0;1;1\\r\\n69;Female;1;1;1;1;0;0;1;1;1;0;0;1;0;1;1\\r\\n40;Male;0;1;1;1;0;0;1;1;0;0;1;1;0;0;0\\r\\n28;Male;0;0;1;0;0;0;0;0;0;0;0;0;0;0;0\\r\\n37;Male;0;0;0;0;0;0;0;0;0;0;0;0;0;0;0\\r\\n34;Male;0;0;0;0;0;0;0;0;0;0;0;0;0;0;0\\r\\n30;Male;0;0;0;0;0;0;0;0;0;0;0;0;0;0;0\\r\\n67;Male;1;0;0;1;1;0;1;1;1;1;0;1;1;1;0\\r\\n60;Male;0;0;0;1;0;0;0;0;0;0;1;1;0;0;0\\r\\n58;Male;0;0;0;0;1;0;0;1;0;1;0;0;1;1;0\\r\\n54;Male;0;0;1;1;0;1;0;0;0;1;0;0;1;0;0\\r\\n43;Male;0;0;1;0;0;1;0;0;0;1;0;0;1;0;0\\r\\n39;Male;0;0;0;1;0;1;0;0;0;0;0;0;0;0;0\\r\\n40;Male;0;0;0;1;0;0;0;0;1;0;0;0;0;0;0\\r\\n43;Male;0;0;0;0;0;0;0;0;1;0;0;0;0;0;0\\r\\n49;Male;0;1;0;0;0;0;0;1;0;0;1;0;0;1;0\\r\\n47;Male;0;0;0;0;0;0;0;1;0;0;0;0;1;0;0\\r\\n45;Male;0;0;0;0;1;1;0;0;0;0;0;0;0;0;0\\r\\n57;Male;0;0;0;0;1;0;1;0;0;0;0;1;0;0;0\\r\\n72;Male;1;0;0;0;1;0;1;1;0;1;1;1;1;0;0\\r\\n30;Male;0;0;0;0;0;0;0;0;0;0;0;0;0;0;0\\r\\n27;Male;0;0;0;0;0;0;0;0;0;0;0;0;0;0;0\\r\\n38;Male;0;0;0;0;0;0;0;0;0;0;0;0;0;0;0\\r\\n43;Male;0;0;0;1;0;1;0;1;0;1;0;0;1;0;0\\r\\n40;Male;0;0;1;0;0;0;0;0;0;0;0;0;0;1;0\\r\\n55;Male;0;0;0;1;1;0;1;1;0;1;0;1;0;1;0\\r\\n68;Male;0;0;0;1;1;0;1;1;0;1;0;0;1;0;0\\r\\n29;Male;0;0;0;1;0;0;0;0;0;0;0;0;0;0;0\\r\\n37;Male;0;0;0;0;0;0;0;1;0;0;0;0;0;0;0\\r\\n30;Male;0;0;1;1;0;0;0;0;0;0;0;0;0;0;0\\r\\n45;Male;0;0;0;1;0;0;0;1;1;1;1;0;0;0;0\\r\\n47;Male;0;0;0;0;0;0;0;1;0;1;0;0;1;0;0\\r\\n35;Male;0;0;1;1;0;1;0;0;0;0;0;0;0;0;0\\r\\n32;Male;0;0;0;1;0;0;0;0;0;0;0;0;0;0;0\\r\\n56;Male;0;1;0;1;1;0;1;1;0;1;0;1;1;0;0\\r\\n50;Male;0;0;0;1;0;0;0;1;0;1;1;1;1;0;0\\r\\n52;Male;0;0;0;1;1;0;0;1;0;1;0;0;1;0;0\\r\\n26;Male;0;0;0;0;0;0;0;0;0;0;0;0;0;0;0\\r\\n60;Male;0;0;0;1;1;0;1;1;0;1;0;1;1;0;0\\r\\n65;Male;0;0;0;1;0;0;1;1;0;1;1;1;1;0;0\\r\\n72;Male;0;0;0;0;1;0;1;1;0;1;0;1;1;0;0\\r\\n30;Male;0;0;0;1;0;0;0;0;0;0;0;0;0;0;0\\r\\n45;Male;0;0;0;1;0;0;0;1;0;0;1;0;1;0;0\\r\\n65;Male;1;0;0;0;0;0;1;1;1;1;0;1;1;1;0\\r\\n70;Male;0;0;0;1;0;0;1;1;0;1;0;1;1;0;0\\r\\n35;Male;0;0;0;1;0;0;0;0;0;0;0;0;0;0;0\\r\\n54;Male;0;0;0;1;0;0;0;1;0;1;0;1;1;0;0\\r\\n30;Male;0;0;0;0;0;0;0;0;0;0;0;0;0;0;0\\r\\n46;Male;0;0;0;1;0;0;0;1;0;1;0;0;1;0;0\\r\\n53;Male;0;0;0;1;1;0;1;1;0;1;1;1;1;0;0\\r\\n42;Male;0;0;0;0;0;0;0;0;0;0;0;0;1;0;0\\r\\n55;Female;1;1;1;1;0;0;1;0;0;0;1;0;0;1;1\\r\\n48;Female;1;1;1;1;1;0;0;0;0;0;1;0;0;0;1\\r\\n55;Female;1;1;1;0;1;0;0;1;0;1;1;0;0;0;1\\r\\n39;Female;1;1;1;1;1;0;0;1;1;1;1;0;0;0;1\\r\\n43;Female;1;1;1;1;1;0;1;0;0;0;1;1;0;1;1\\r\\n35;Female;1;1;0;1;0;0;1;0;0;0;0;0;0;0;1\\r\\n47;Female;0;0;1;1;1;0;0;0;0;0;0;1;0;0;1\\r\\n50;Female;1;1;0;1;1;0;0;0;0;1;1;0;0;0;1\\r\\n48;Female;1;1;0;1;0;0;1;1;0;1;1;0;0;0;1\\r\\n35;Female;1;1;1;1;1;0;1;1;0;1;1;1;0;0;1\\r\\n62;Male;1;0;0;1;0;1;1;1;1;0;1;1;1;1;1\\r\\n33;Male;0;1;0;0;0;0;0;0;0;0;0;0;0;0;1\\r\\n55;Male;1;1;1;1;0;1;0;0;1;0;1;0;0;0;1\\r\\n48;Male;1;1;1;0;1;1;0;0;0;1;0;0;0;0;1\\r\\n56;Male;1;0;1;1;0;1;0;1;1;0;0;0;1;0;1\\r\\n38;Female;1;1;1;1;1;0;1;1;1;1;1;1;0;0;1\\r\\n28;Female;0;0;0;0;0;0;1;0;0;0;1;1;0;0;1\\r\\n68;Female;1;1;0;1;1;0;1;1;0;1;1;0;0;0;1\\r\\n35;Female;0;0;0;0;0;0;0;0;0;0;0;0;0;0;1\\r\\n45;Female;0;0;0;0;1;0;1;1;0;0;1;0;0;0;1\\r\\n48;Female;1;1;1;1;1;0;1;1;1;1;1;1;0;0;1\\r\\n40;Female;1;1;1;1;0;0;1;0;0;1;1;1;0;0;1\\r\\n57;Male;1;1;1;1;1;0;1;0;0;0;1;0;0;0;1\\r\\n47;Male;0;0;0;0;0;0;0;1;0;0;0;0;1;0;0\\r\\n45;Male;0;0;0;0;1;1;0;0;0;0;0;0;0;0;0\\r\\n57;Male;0;0;0;0;1;0;1;0;0;0;0;1;0;0;0\\r\\n72;Male;1;0;0;0;1;0;1;1;0;1;1;1;1;0;0\\r\\n30;Male;0;0;0;0;0;0;0;0;0;0;0;0;0;0;0\\r\\n27;Male;0;0;0;0;0;0;0;0;0;0;0;0;0;0;0\\r\\n38;Male;0;0;0;0;0;0;0;0;0;0;0;0;0;0;0\\r\\n43;Male;0;0;0;1;0;1;0;1;0;1;0;0;1;0;0\\r\\n40;Male;0;0;1;0;0;0;0;0;0;0;0;0;0;1;0\\r\\n47;Male;0;0;0;0;0;0;0;1;0;0;0;0;1;0;0\\r\\n45;Male;0;0;0;0;1;1;0;0;0;0;0;0;0;0;0\\r\\n57;Male;0;0;0;0;1;0;1;0;0;0;0;1;0;0;0\\r\\n72;Male;1;0;0;0;1;0;1;1;0;1;1;1;1;0;0\\r\\n30;Male;0;0;0;0;0;0;0;0;0;0;0;0;0;0;0\\r\\n27;Male;0;0;0;0;0;0;0;0;0;0;0;0;0;0;0\\r\\n38;Male;0;0;0;0;0;0;0;0;0;0;0;0;0;0;0\\r\\n43;Male;0;0;0;1;0;1;0;1;0;1;0;0;1;0;0\\r\\n40;Male;0;0;1;0;0;0;0;0;0;0;0;0;0;1;0\\r\\n54;Male;0;0;0;1;0;0;0;1;0;1;0;1;1;0;0\\r\\n30;Male;0;0;0;0;0;0;0;0;0;0;0;0;0;0;0\\r\\n46;Male;0;0;0;1;0;0;0;1;0;1;0;0;1;0;0\\r\\n53;Male;0;0;0;1;1;0;1;1;0;1;1;1;1;0;0\\r\\n42;Male;0;0;0;0;0;0;0;0;0;0;0;0;1;0;0\\r\\n55;Female;1;1;1;1;0;0;1;0;0;0;1;0;0;1;1\\r\\n48;Female;1;1;1;1;1;0;0;0;0;0;1;0;0;0;1\\r\\n55;Female;1;1;1;0;1;0;0;1;0;1;1;0;0;0;1\\r\\n39;Female;1;1;1;1;1;0;0;1;1;1;1;0;0;0;1\\r\\n43;Female;1;1;1;1;1;0;1;0;0;0;1;1;0;1;1\\r\\n35;Female;1;1;0;1;0;0;1;0;0;0;0;0;0;0;1\\r\\n47;Female;0;0;1;1;1;0;0;0;0;0;0;1;0;0;1\\r\\n61;Female;1;0;0;0;1;0;0;0;1;0;0;0;1;0;1\\r\\n58;Female;1;0;1;0;1;0;0;0;1;0;0;1;0;1;1\\r\\n69;Female;1;1;1;1;0;0;1;1;1;0;0;1;0;1;1\\r\\n40;Male;0;1;1;1;0;0;1;1;0;0;1;1;0;0;0\\r\\n28;Male;0;0;1;0;0;0;0;0;0;0;0;0;0;0;0\\r\\n37;Male;0;0;0;0;0;0;0;0;0;0;0;0;0;0;0\\r\\n34;Male;0;0;0;0;0;0;0;0;0;0;0;0;0;0;0\\r\\n30;Male;0;0;0;0;0;0;0;0;0;0;0;0;0;0;0\\r\\n67;Male;1;0;0;1;1;0;1;1;1;1;0;1;1;1;0\\r\\n60;Male;0;0;0;1;0;0;0;0;0;0;1;1;0;0;0\\r\\n58;Male;0;0;0;0;1;0;0;1;0;1;0;0;1;1;0\\r\\n54;Male;0;0;1;1;0;1;0;0;0;1;0;0;1;0;0\\r\\n43;Male;0;0;1;0;0;1;0;0;0;1;0;0;1;0;0\\r\\n33;Female;0;0;0;0;0;0;0;0;0;0;0;0;0;0;0\\r\\n55;Female;0;0;0;1;0;1;0;1;0;1;1;0;1;0;0\\r\\n36;Female;0;0;0;1;0;0;0;0;1;0;0;0;0;0;0\\r\\n28;Female;0;0;0;0;1;0;0;0;0;0;1;0;0;0;0\\r\\n34;Female;0;0;1;0;0;0;0;0;0;0;0;0;0;0;0\\r\\n65;Female;0;0;0;1;0;0;0;1;0;1;0;0;1;0;0\\r\\n34;Female;0;0;0;0;0;0;0;0;0;0;0;0;0;0;0\\r\\n64;Male;0;0;0;1;1;0;1;1;1;1;0;1;1;0;0\\r\\n44;Male;1;0;1;1;0;1;0;1;0;1;0;0;1;1;0\\r\\n36;Male;0;0;0;0;0;0;0;0;0;0;0;0;0;0;0\\r\\n43;Male;0;0;0;1;0;1;0;1;0;0;0;0;1;0;0\\r\\n53;Male;0;0;0;1;0;0;1;1;0;1;0;1;1;0;0\\r\\n47;Male;0;0;0;0;0;0;0;0;1;0;1;0;0;1;0\\r\\n58;Male;0;1;0;0;0;0;1;1;0;0;0;1;0;0;0\\r\\n56;Male;0;0;1;1;1;0;1;1;0;1;0;1;1;0;0\\r\\n51;Female;0;0;0;0;0;1;0;1;0;1;0;0;1;0;0\\r\\n59;Female;0;0;0;1;0;0;1;1;0;1;0;1;1;1;0\\r\\n50;Female;0;0;0;1;0;0;1;1;0;1;0;0;1;0;0\\r\\n30;Male;0;0;0;0;0;0;0;0;0;0;0;0;0;0;0\\r\\n46;Male;0;0;0;1;0;0;0;1;0;1;0;0;1;0;0\\r\\n53;Male;0;0;0;1;1;0;1;1;0;1;1;1;1;0;0\\r\\n42;Male;0;0;0;0;0;0;0;0;0;0;0;0;1;0;0\\r\\n55;Female;1;1;1;1;0;0;1;0;0;0;1;0;0;1;1\\r\\n48;Female;1;1;1;1;1;0;0;0;0;0;1;0;0;0;1\\r\\n55;Female;1;1;1;0;1;0;0;1;0;1;1;0;0;0;1\\r\\n39;Female;1;1;1;1;1;0;0;1;1;1;1;0;0;0;1\\r\\n43;Female;1;1;1;1;1;0;1;0;0;0;1;1;0;1;1\\r\\n35;Female;1;1;0;1;0;0;1;0;0;0;0;0;0;0;1\\r\\n47;Female;0;0;1;1;1;0;0;0;0;0;0;1;0;0;1\\r\\n61;Female;1;0;0;0;1;0;0;0;1;0;0;0;1;0;1\\r\\n58;Female;1;0;1;0;1;0;0;0;1;0;0;1;0;1;1\\r\\n69;Female;1;1;1;1;0;0;1;1;1;0;0;1;0;1;1\\r\\n40;Male;0;1;1;1;0;0;1;1;0;0;1;1;0;0;0\\r\\n28;Male;0;0;1;0;0;0;0;0;0;0;0;0;0;0;0\\r\\n37;Male;0;0;0;0;0;0;0;0;0;0;0;0;0;0;0\\r\\n34;Male;0;0;0;0;0;0;0;0;0;0;0;0;0;0;0\\r\\n30;Male;0;0;0;0;0;0;0;0;0;0;0;0;0;0;0\\r\\n67;Male;1;0;0;1;1;0;1;1;1;1;0;1;1;1;0\\r\\n60;Male;0;0;0;1;0;0;0;0;0;0;1;1;0;0;0\\r\\n58;Male;0;0;0;0;1;0;0;1;0;1;0;0;1;1;0\\r\\n54;Male;0;0;1;1;0;1;0;0;0;1;0;0;1;0;0\\r\\n43;Male;0;0;1;0;0;1;0;0;0;1;0;0;1;0;0\\r\\n33;Female;0;0;0;0;0;0;0;0;0;0;0;0;0;0;0\\r\\n55;Male;1;1;1;1;0;1;0;0;1;0;1;0;0;0;1\\r\\n48;Male;1;1;1;0;1;1;0;0;0;1;0;0;0;0;1\\r\\n56;Male;1;0;1;1;0;1;0;1;1;0;0;0;1;0;1\\r\\n38;Female;1;1;1;1;1;0;1;1;1;1;1;1;0;0;1\\r\\n28;Female;0;0;0;0;0;0;1;0;0;0;1;1;0;0;1\\r\\n68;Female;1;1;0;1;1;0;1;1;0;1;1;0;0;0;1\\r\\n35;Female;0;0;0;0;0;0;0;0;0;0;0;0;0;0;1\\r\\n45;Female;0;0;0;0;1;0;1;1;0;0;1;0;0;0;1\\r\\n48;Female;1;1;1;1;1;0;1;1;1;1;1;1;0;0;1\\r\\n40;Female;1;1;1;1;0;0;1;0;0;1;1;1;0;0;1\\r\\n57;Male;1;1;1;1;1;0;1;0;0;0;1;0;0;0;1\\r\\n47;Male;0;0;0;0;0;0;0;1;0;0;0;0;1;0;0\\r\\n45;Male;0;0;0;0;1;1;0;0;0;0;0;0;0;0;0\\r\\n57;Male;0;0;0;0;1;0;1;0;0;0;0;1;0;0;0\\r\\n72;Male;1;0;0;0;1;0;1;1;0;1;1;1;1;0;0\\r\\n30;Male;0;0;0;0;0;0;0;0;0;0;0;0;0;0;0\\r\\n27;Male;0;0;0;0;0;0;0;0;0;0;0;0;0;0;0\\r\\n38;Male;0;0;0;0;0;0;0;0;0;0;0;0;0;0;0\\r\\n43;Male;0;0;0;1;0;1;0;1;0;1;0;0;1;0;0\\r\\n40;Male;0;0;1;0;0;0;0;0;0;0;0;0;0;1;0\\r\\n47;Male;1;1;0;0;0;0;0;0;0;0;0;1;0;0;1\\r\\n62;Male;1;1;0;0;1;0;1;0;1;1;1;0;1;0;1\\r\\n49;Male;1;1;1;0;0;0;0;1;0;0;0;0;0;0;1\\r\\n53;Male;1;0;1;0;0;0;0;0;0;1;1;0;0;0;1\\r\\n68;Male;1;1;0;0;1;0;1;1;1;0;1;0;0;0;1\\r\\n61;Male;1;0;0;1;1;1;1;1;1;1;1;0;0;0;1\\r\\n39;Male;1;1;0;0;0;1;0;1;0;0;0;1;0;1;1\\r\\n38;Male;1;0;0;0;0;1;0;1;0;0;0;1;0;1;1\\r\\n44;Male;1;0;1;1;0;1;0;1;0;1;0;0;1;1;0\\r\\n36;Male;0;0;0;0;0;0;0;0;0;0;0;0;0;0;0\\r\\n43;Male;0;0;0;1;0;1;0;1;0;0;0;0;1;0;0\\r\\n53;Male;0;0;0;1;0;0;1;1;0;1;0;1;1;0;0\\r\\n47;Male;0;0;0;0;0;0;0;0;1;0;1;0;0;1;0\\r\\n58;Male;0;1;0;0;0;0;1;1;0;0;0;1;0;0;0\\r\\n56;Male;0;0;1;1;1;0;1;1;0;1;0;1;1;0;0\\r\\n51;Female;0;0;0;0;0;1;0;1;0;1;0;0;1;0;0\\r\\n59;Female;0;0;0;1;0;0;1;1;0;1;0;1;1;1;0\\r\\n50;Female;0;0;0;1;0;0;1;1;0;1;0;0;1;0;0\\r\\n30;Male;0;0;0;0;0;0;0;0;0;0;0;0;0;0;0\\r\\n46;Male;0;0;0;1;0;0;0;1;0;1;0;0;1;0;0\\r\\n53;Male;0;0;0;1;1;0;1;1;0;1;1;1;1;0;0\\r\\n64;Male;0;0;0;1;1;0;1;1;1;1;0;1;1;0;0\\r\\n44;Male;1;0;1;1;0;1;0;1;0;1;0;0;1;1;0\\r\\n36;Male;0;0;0;0;0;0;0;0;0;0;0;0;0;0;0\\r\\n43;Male;0;0;0;1;0;1;0;1;0;0;0;0;1;0;0\\r\\n53;Male;0;0;0;1;0;0;1;1;0;1;0;1;1;0;0\\r\\n47;Male;0;0;0;0;0;0;0;0;1;0;1;0;0;1;0\\r\\n58;Male;0;1;0;0;0;0;1;1;0;0;0;1;0;0;0\\r\\n56;Male;0;0;1;1;1;0;1;1;0;1;0;1;1;0;0\\r\\n51;Female;0;0;0;0;0;1;0;1;0;1;0;0;1;0;0\\r\\n59;Female;0;0;0;1;0;0;1;1;0;1;0;1;1;1;0\\r\\n50;Female;0;0;0;1;0;0;1;1;0;1;0;0;1;0;0\\r\\n30;Male;0;0;0;0;0;0;0;0;0;0;0;0;0;0;0\\r\\n46;Male;0;0;0;1;0;0;0;1;0;1;0;0;1;0;0\\r\\n53;Male;0;0;0;1;1;0;1;1;0;1;1;1;1;0;0\\r\\n42;Male;0;0;0;0;0;0;0;0;0;0;0;0;1;0;0\\r\\n55;Female;1;1;1;1;0;0;1;0;0;0;1;0;0;1;1\\r\\n48;Female;1;1;1;1;1;0;0;0;0;0;1;0;0;0;1\\r\\n55;Female;1;1;1;0;1;0;0;1;0;1;1;0;0;0;1\\r\\n39;Female;1;1;1;1;1;0;0;1;1;1;1;0;0;0;1\\r\\n43;Female;1;1;1;1;1;0;1;0;0;0;1;1;0;1;1\\r\\n35;Female;1;1;0;1;0;0;1;0;0;0;0;0;0;0;1\\r\\n47;Female;0;0;1;1;1;0;0;0;0;0;0;1;0;0;1\\r\\n61;Female;1;0;0;0;1;0;0;0;1;0;0;0;1;0;1\\r\\n67;Male;0;1;0;1;1;0;1;0;1;1;1;1;1;1;1\\r\\n66;Male;1;1;0;1;1;0;1;0;0;0;1;1;0;0;1\\r\\n43;Male;1;1;1;1;0;1;0;0;0;0;0;0;0;0;1\\r\\n62;Male;1;1;0;1;1;0;1;0;1;0;1;1;0;0;1\\r\\n54;Male;1;1;1;1;1;1;1;1;0;1;0;1;1;0;1\\r\\n39;Male;1;0;1;0;0;1;0;1;1;0;0;0;1;0;1\\r\\n48;Male;0;1;1;1;0;0;1;1;1;1;0;0;0;0;1\\r\\n58;Male;1;1;1;1;1;0;1;0;0;1;1;1;0;1;1\\r\\n32;Male;0;0;0;0;0;1;0;0;1;1;0;0;0;1;1\\r\\n42;Male;0;0;0;1;1;0;0;0;1;0;0;1;0;0;1\\r\\n52;Male;1;1;1;1;1;0;1;1;0;1;1;1;0;0;1\\r\\n38;Male;0;1;0;0;0;1;0;0;0;0;0;0;1;0;1\\r\\n53;Male;1;1;1;1;1;0;1;0;1;0;1;0;1;0;1\\r\\n57;Male;1;1;1;1;1;0;1;0;0;0;1;0;0;0;1\\r\\n41;Male;1;1;1;1;1;1;1;1;1;0;0;0;0;1;1\\r\\n37;Male;0;0;0;1;0;0;0;0;0;1;0;0;1;0;1\\r\\n54;Male;1;1;1;1;0;0;1;1;1;1;1;1;0;0;1\\r\\n49;Male;1;1;0;1;0;0;1;1;0;0;0;0;0;0;1\\r\\n48;Male;1;1;0;1;0;1;1;1;0;0;0;0;0;0;1\\r\\n60;Male;1;0;0;0;0;0;1;0;0;0;1;0;1;0;1\\r\\n63;Male;1;1;1;1;1;0;1;0;0;0;0;1;1;1;1\\r\\n35;Male;1;0;1;0;0;0;0;0;0;0;1;0;1;0;1\\r\\n30;Female;1;0;1;1;1;0;0;0;0;1;0;0;0;0;1\\r\\n53;Female;0;1;1;0;1;1;1;1;1;1;0;1;0;0;1\\r\\n50;Female;1;1;1;0;1;0;0;0;0;1;1;0;0;0;1\\r\\n50;Female;0;1;0;1;1;0;1;1;1;1;1;1;0;0;1\\r\\n35;Female;1;1;1;1;1;0;0;1;0;1;1;1;0;0;1\\r\\n40;Female;1;1;1;1;0;0;1;1;0;0;1;1;0;0;1\\r\\n48;Female;0;0;1;1;0;0;1;1;0;1;1;0;0;0;1\\r\\n60;Female;1;1;1;1;1;0;1;1;0;1;1;1;0;1;1\\r\\n38;Female;1;1;1;1;1;0;1;1;1;1;1;1;0;0;1\\r\\n28;Female;0;0;0;0;0;0;1;0;0;0;1;1;0;0;1\\r\\n68;Female;1;1;0;1;1;0;1;1;0;1;1;0;0;0;1\\r\\n35;Female;0;0;0;0;0;0;0;0;0;0;0;0;0;0;1\\r\\n45;Female;0;0;0;0;1;0;1;1;0;0;1;0;0;0;1\\r\\n48;Female;1;1;1;1;1;0;1;1;1;1;1;1;0;0;1\\r\\n40;Female;1;1;1;1;0;0;1;0;0;1;1;1;0;0;1\\r\\n57;Male;1;1;1;1;1;0;1;0;0;0;1;0;0;0;1\\r\\n47;Male;0;0;0;0;0;0;0;1;0;0;0;0;1;0;0\\r\\n45;Male;0;0;0;0;1;1;0;0;0;0;0;0;0;0;0\\r\\n57;Male;0;0;0;0;1;0;1;0;0;0;0;1;0;0;0\\r\\n72;Male;1;0;0;0;1;0;1;1;0;1;1;1;1;0;0\\r\\n30;Male;0;0;0;0;0;0;0;0;0;0;0;0;0;0;0\\r\\n27;Male;0;0;0;0;0;0;0;0;0;0;0;0;0;0;0\\r\\n38;Male;0;0;0;0;0;0;0;0;0;0;0;0;0;0;0\\r\\n43;Male;0;0;0;1;0;1;0;1;0;1;0;0;1;0;0\\r\\n40;Male;0;0;1;0;0;0;0;0;0;0;0;0;0;1;0\\r\\n47;Male;0;0;0;0;0;0;0;1;0;0;0;0;1;0;0\\r\\n45;Male;0;0;0;0;1;1;0;0;0;0;0;0;0;0;0\\r\\n57;Male;0;0;0;0;1;0;1;0;0;0;0;1;0;0;0\\r\\n72;Male;1;0;0;0;1;0;1;1;0;1;1;1;1;0;0\\r\\n30;Male;0;0;0;0;0;0;0;0;0;0;0;0;0;0;0\\r\\n27;Male;0;0;0;0;0;0;0;0;0;0;0;0;0;0;0\\r\\n38;Male;0;0;0;0;0;0;0;0;0;0;0;0;0;0;0\\r\\n43;Male;0;0;0;1;0;1;0;1;0;1;0;0;1;0;0\\r\\n40;Male;0;0;1;0;0;0;0;0;0;0;0;0;0;1;0\\r\\n54;Male;0;0;0;1;0;0;0;1;0;1;0;1;1;0;0\\r\\n30;Male;0;0;0;0;0;0;0;0;0;0;0;0;0;0;0\\r\\n46;Male;0;0;0;1;0;0;0;1;0;1;0;0;1;0;0\\r\\n53;Male;0;0;0;1;1;0;1;1;0;1;1;1;1;0;0\\r\\n42;Male;0;0;0;0;0;0;0;0;0;0;0;0;1;0;0\\r\\n55;Female;1;1;1;1;0;0;1;0;0;0;1;0;0;1;1\\r\\n48;Female;1;1;1;1;1;0;0;0;0;0;1;0;0;0;1\\r\\n55;Female;1;1;1;0;1;0;0;1;0;1;1;0;0;0;1\\r\\n39;Female;1;1;1;1;1;0;0;1;1;1;1;0;0;0;1\\r\\n43;Female;1;1;1;1;1;0;1;0;0;0;1;1;0;1;1\\r\\n50;Female;0;0;0;1;0;0;1;1;0;1;0;0;1;0;0\\r\\n30;Male;0;0;0;0;0;0;0;0;0;0;0;0;0;0;0\\r\\n46;Male;0;0;0;1;0;0;0;1;0;1;0;0;1;0;0\\r\\n53;Male;0;0;0;1;1;0;1;1;0;1;1;1;1;0;0\\r\\n64;Male;0;0;0;1;1;0;1;1;1;1;0;1;1;0;0\\r\\n44;Male;1;0;1;1;0;1;0;1;0;1;0;0;1;1;0\\r\\n36;Male;0;0;0;0;0;0;0;0;0;0;0;0;0;0;0\\r\\n43;Male;0;0;0;1;0;1;0;1;0;0;0;0;1;0;0\\r\\n53;Male;0;0;0;1;0;0;1;1;0;1;0;1;1;0;0\\r\\n47;Male;0;0;0;0;0;0;0;0;1;0;1;0;0;1;0\\r\\n68;Female;1;1;0;1;1;0;1;1;0;1;1;0;0;0;1\\r\\n64;Male;0;0;0;1;1;0;1;1;1;1;0;1;1;0;0\\r\\n66;Male;1;0;1;0;0;1;0;1;1;0;0;0;1;0;1\\r\\n67;Male;0;0;0;0;1;0;1;0;0;0;0;1;0;0;0\\r\\n70;Male;1;0;0;0;1;0;1;1;0;1;1;1;1;0;0\\r\\n44;Male;0;0;0;0;0;0;0;0;0;0;0;0;0;0;0\\r\\n38;Male;0;0;0;0;0;0;0;0;0;0;0;0;0;0;0\\r\\n35;Male;0;0;0;0;0;0;0;0;0;0;0;0;0;0;0\\r\\n61;Male;0;0;0;1;0;1;0;1;0;1;0;0;1;0;0\\r\\n60;Male;0;0;1;0;0;0;0;0;0;0;0;0;0;1;0\\r\\n58;Male;0;0;0;1;0;0;0;1;0;1;0;1;1;0;0\\r\\n54;Male;0;0;0;0;0;0;0;0;0;0;0;0;0;0;0\\r\\n67;Male;0;0;0;1;0;0;0;1;0;1;0;0;1;0;0\\r\\n66;Male;0;0;0;1;1;0;1;1;0;1;1;1;1;0;0\\r\\n43;Male;0;0;0;0;0;0;0;0;0;0;0;0;1;0;0\\r\\n62;Female;1;1;1;1;0;0;1;0;0;0;1;0;0;1;1\\r\\n54;Female;1;1;1;1;1;0;0;0;0;0;1;0;0;0;1\\r\\n39;Female;1;1;1;0;1;0;0;1;0;1;1;0;0;0;1\\r\\n48;Female;1;1;1;1;1;0;0;1;1;1;1;0;0;0;1\\r\\n58;Female;1;1;1;1;1;0;1;0;0;0;1;1;0;1;1\\r\\n32;Female;0;0;0;1;0;0;1;1;0;1;0;0;1;0;0\\r\\n42;Male;0;0;0;0;0;0;0;0;0;0;0;0;0;0;0\\r\\n'}"
            ]
          },
          "metadata": {},
          "execution_count": 2
        }
      ]
    },
    {
      "cell_type": "code",
      "source": [
        "! pip install kaggle"
      ],
      "metadata": {
        "id": "O-PwhucxRAfh",
        "outputId": "fb435a60-00b8-45a5-fbad-ccae210477c8",
        "colab": {
          "base_uri": "https://localhost:8080/"
        }
      },
      "execution_count": 4,
      "outputs": [
        {
          "output_type": "stream",
          "name": "stdout",
          "text": [
            "Requirement already satisfied: kaggle in /usr/local/lib/python3.7/dist-packages (1.5.12)\n",
            "Requirement already satisfied: python-dateutil in /usr/local/lib/python3.7/dist-packages (from kaggle) (2.8.2)\n",
            "Requirement already satisfied: urllib3 in /usr/local/lib/python3.7/dist-packages (from kaggle) (1.24.3)\n",
            "Requirement already satisfied: tqdm in /usr/local/lib/python3.7/dist-packages (from kaggle) (4.64.0)\n",
            "Requirement already satisfied: certifi in /usr/local/lib/python3.7/dist-packages (from kaggle) (2021.10.8)\n",
            "Requirement already satisfied: python-slugify in /usr/local/lib/python3.7/dist-packages (from kaggle) (6.1.2)\n",
            "Requirement already satisfied: requests in /usr/local/lib/python3.7/dist-packages (from kaggle) (2.23.0)\n",
            "Requirement already satisfied: six>=1.10 in /usr/local/lib/python3.7/dist-packages (from kaggle) (1.15.0)\n",
            "Requirement already satisfied: text-unidecode>=1.3 in /usr/local/lib/python3.7/dist-packages (from python-slugify->kaggle) (1.3)\n",
            "Requirement already satisfied: idna<3,>=2.5 in /usr/local/lib/python3.7/dist-packages (from requests->kaggle) (2.10)\n",
            "Requirement already satisfied: chardet<4,>=3.0.2 in /usr/local/lib/python3.7/dist-packages (from requests->kaggle) (3.0.4)\n"
          ]
        }
      ]
    },
    {
      "cell_type": "code",
      "source": [
        "from google.colab import drive\n",
        "drive.mount('/content/gdrive')"
      ],
      "metadata": {
        "id": "cvaxxJp8RHLD",
        "outputId": "fda0f758-8a0b-4bbf-f788-86f045e98259",
        "colab": {
          "base_uri": "https://localhost:8080/"
        }
      },
      "execution_count": 15,
      "outputs": [
        {
          "output_type": "stream",
          "name": "stdout",
          "text": [
            "Mounted at /content/gdrive\n"
          ]
        }
      ]
    },
    {
      "cell_type": "code",
      "source": [
        "import os\n",
        "os.environ['KAGGLE_CONFIG_DIR'] = \"/content/gdrive/Shared drives/Capstone Project/Product Based\""
      ],
      "metadata": {
        "id": "tIJwJrQZRNk4"
      },
      "execution_count": 20,
      "outputs": []
    },
    {
      "cell_type": "code",
      "source": [
        "#changing the working directory\n",
        "%cd /content/gdrive/Shared drives/Capstone Project/Product Based"
      ],
      "metadata": {
        "id": "HqSjaknDUiNL",
        "outputId": "10ed1760-5c35-4bc2-830b-4c0a1e4debf6",
        "colab": {
          "base_uri": "https://localhost:8080/"
        }
      },
      "execution_count": 21,
      "outputs": [
        {
          "output_type": "stream",
          "name": "stdout",
          "text": [
            "/content/gdrive/Shared drives/Capstone Project/Product Based\n"
          ]
        }
      ]
    },
    {
      "cell_type": "code",
      "source": [
        "!kaggle datasets download -d andrewmvd/early-diabetes-classification"
      ],
      "metadata": {
        "id": "aEofpxIGRQfQ",
        "outputId": "7363a7a9-323f-4e50-e724-8236791f1e58",
        "colab": {
          "base_uri": "https://localhost:8080/"
        }
      },
      "execution_count": 22,
      "outputs": [
        {
          "output_type": "stream",
          "name": "stdout",
          "text": [
            "Downloading early-diabetes-classification.zip to /content/gdrive/Shared drives/Capstone Project/Product Based\n",
            "\r  0% 0.00/2.10k [00:00<?, ?B/s]\n",
            "\r100% 2.10k/2.10k [00:00<00:00, 366kB/s]\n"
          ]
        }
      ]
    },
    {
      "cell_type": "code",
      "source": [
        "#unzipping the zip files and deleting the zip files\n",
        "!unzip \\*.zip  && rm *.zip"
      ],
      "metadata": {
        "id": "hmKNPQ2ORo1R",
        "outputId": "2a755284-609d-493a-c10c-d2274f374890",
        "colab": {
          "base_uri": "https://localhost:8080/"
        }
      },
      "execution_count": 23,
      "outputs": [
        {
          "output_type": "stream",
          "name": "stdout",
          "text": [
            "Archive:  early-diabetes-classification.zip\n",
            "replace diabetes_data.csv? [y]es, [n]o, [A]ll, [N]one, [r]ename: y\n",
            "  inflating: diabetes_data.csv       \n"
          ]
        }
      ]
    },
    {
      "cell_type": "code",
      "source": [
        "data = pd.read_csv('diabetes_data.csv', delimiter = ';')\n",
        "data"
      ],
      "metadata": {
        "colab": {
          "base_uri": "https://localhost:8080/",
          "height": 488
        },
        "id": "bOom_CKIkHxv",
        "outputId": "af90799e-059e-4e79-f6df-462510c94a7a"
      },
      "execution_count": 24,
      "outputs": [
        {
          "output_type": "execute_result",
          "data": {
            "text/plain": [
              "     age  gender  polyuria  polydipsia  sudden_weight_loss  weakness  \\\n",
              "0     40    Male         0           1                   0         1   \n",
              "1     58    Male         0           0                   0         1   \n",
              "2     41    Male         1           0                   0         1   \n",
              "3     45    Male         0           0                   1         1   \n",
              "4     60    Male         1           1                   1         1   \n",
              "..   ...     ...       ...         ...                 ...       ...   \n",
              "515   39  Female         1           1                   1         0   \n",
              "516   48  Female         1           1                   1         1   \n",
              "517   58  Female         1           1                   1         1   \n",
              "518   32  Female         0           0                   0         1   \n",
              "519   42    Male         0           0                   0         0   \n",
              "\n",
              "     polyphagia  genital_thrush  visual_blurring  itching  irritability  \\\n",
              "0             0               0                0        1             0   \n",
              "1             0               0                1        0             0   \n",
              "2             1               0                0        1             0   \n",
              "3             1               1                0        1             0   \n",
              "4             1               0                1        1             1   \n",
              "..          ...             ...              ...      ...           ...   \n",
              "515           1               0                0        1             0   \n",
              "516           1               0                0        1             1   \n",
              "517           1               0                1        0             0   \n",
              "518           0               0                1        1             0   \n",
              "519           0               0                0        0             0   \n",
              "\n",
              "     delayed_healing  partial_paresis  muscle_stiffness  alopecia  obesity  \\\n",
              "0                  1                0                 1         1        1   \n",
              "1                  0                1                 0         1        0   \n",
              "2                  1                0                 1         1        0   \n",
              "3                  1                0                 0         0        0   \n",
              "4                  1                1                 1         1        1   \n",
              "..               ...              ...               ...       ...      ...   \n",
              "515                1                1                 0         0        0   \n",
              "516                1                1                 0         0        0   \n",
              "517                0                1                 1         0        1   \n",
              "518                1                0                 0         1        0   \n",
              "519                0                0                 0         0        0   \n",
              "\n",
              "     class  \n",
              "0        1  \n",
              "1        1  \n",
              "2        1  \n",
              "3        1  \n",
              "4        1  \n",
              "..     ...  \n",
              "515      1  \n",
              "516      1  \n",
              "517      1  \n",
              "518      0  \n",
              "519      0  \n",
              "\n",
              "[520 rows x 17 columns]"
            ],
            "text/html": [
              "\n",
              "  <div id=\"df-8e1456f4-de69-4e04-8d31-529bb29338be\">\n",
              "    <div class=\"colab-df-container\">\n",
              "      <div>\n",
              "<style scoped>\n",
              "    .dataframe tbody tr th:only-of-type {\n",
              "        vertical-align: middle;\n",
              "    }\n",
              "\n",
              "    .dataframe tbody tr th {\n",
              "        vertical-align: top;\n",
              "    }\n",
              "\n",
              "    .dataframe thead th {\n",
              "        text-align: right;\n",
              "    }\n",
              "</style>\n",
              "<table border=\"1\" class=\"dataframe\">\n",
              "  <thead>\n",
              "    <tr style=\"text-align: right;\">\n",
              "      <th></th>\n",
              "      <th>age</th>\n",
              "      <th>gender</th>\n",
              "      <th>polyuria</th>\n",
              "      <th>polydipsia</th>\n",
              "      <th>sudden_weight_loss</th>\n",
              "      <th>weakness</th>\n",
              "      <th>polyphagia</th>\n",
              "      <th>genital_thrush</th>\n",
              "      <th>visual_blurring</th>\n",
              "      <th>itching</th>\n",
              "      <th>irritability</th>\n",
              "      <th>delayed_healing</th>\n",
              "      <th>partial_paresis</th>\n",
              "      <th>muscle_stiffness</th>\n",
              "      <th>alopecia</th>\n",
              "      <th>obesity</th>\n",
              "      <th>class</th>\n",
              "    </tr>\n",
              "  </thead>\n",
              "  <tbody>\n",
              "    <tr>\n",
              "      <th>0</th>\n",
              "      <td>40</td>\n",
              "      <td>Male</td>\n",
              "      <td>0</td>\n",
              "      <td>1</td>\n",
              "      <td>0</td>\n",
              "      <td>1</td>\n",
              "      <td>0</td>\n",
              "      <td>0</td>\n",
              "      <td>0</td>\n",
              "      <td>1</td>\n",
              "      <td>0</td>\n",
              "      <td>1</td>\n",
              "      <td>0</td>\n",
              "      <td>1</td>\n",
              "      <td>1</td>\n",
              "      <td>1</td>\n",
              "      <td>1</td>\n",
              "    </tr>\n",
              "    <tr>\n",
              "      <th>1</th>\n",
              "      <td>58</td>\n",
              "      <td>Male</td>\n",
              "      <td>0</td>\n",
              "      <td>0</td>\n",
              "      <td>0</td>\n",
              "      <td>1</td>\n",
              "      <td>0</td>\n",
              "      <td>0</td>\n",
              "      <td>1</td>\n",
              "      <td>0</td>\n",
              "      <td>0</td>\n",
              "      <td>0</td>\n",
              "      <td>1</td>\n",
              "      <td>0</td>\n",
              "      <td>1</td>\n",
              "      <td>0</td>\n",
              "      <td>1</td>\n",
              "    </tr>\n",
              "    <tr>\n",
              "      <th>2</th>\n",
              "      <td>41</td>\n",
              "      <td>Male</td>\n",
              "      <td>1</td>\n",
              "      <td>0</td>\n",
              "      <td>0</td>\n",
              "      <td>1</td>\n",
              "      <td>1</td>\n",
              "      <td>0</td>\n",
              "      <td>0</td>\n",
              "      <td>1</td>\n",
              "      <td>0</td>\n",
              "      <td>1</td>\n",
              "      <td>0</td>\n",
              "      <td>1</td>\n",
              "      <td>1</td>\n",
              "      <td>0</td>\n",
              "      <td>1</td>\n",
              "    </tr>\n",
              "    <tr>\n",
              "      <th>3</th>\n",
              "      <td>45</td>\n",
              "      <td>Male</td>\n",
              "      <td>0</td>\n",
              "      <td>0</td>\n",
              "      <td>1</td>\n",
              "      <td>1</td>\n",
              "      <td>1</td>\n",
              "      <td>1</td>\n",
              "      <td>0</td>\n",
              "      <td>1</td>\n",
              "      <td>0</td>\n",
              "      <td>1</td>\n",
              "      <td>0</td>\n",
              "      <td>0</td>\n",
              "      <td>0</td>\n",
              "      <td>0</td>\n",
              "      <td>1</td>\n",
              "    </tr>\n",
              "    <tr>\n",
              "      <th>4</th>\n",
              "      <td>60</td>\n",
              "      <td>Male</td>\n",
              "      <td>1</td>\n",
              "      <td>1</td>\n",
              "      <td>1</td>\n",
              "      <td>1</td>\n",
              "      <td>1</td>\n",
              "      <td>0</td>\n",
              "      <td>1</td>\n",
              "      <td>1</td>\n",
              "      <td>1</td>\n",
              "      <td>1</td>\n",
              "      <td>1</td>\n",
              "      <td>1</td>\n",
              "      <td>1</td>\n",
              "      <td>1</td>\n",
              "      <td>1</td>\n",
              "    </tr>\n",
              "    <tr>\n",
              "      <th>...</th>\n",
              "      <td>...</td>\n",
              "      <td>...</td>\n",
              "      <td>...</td>\n",
              "      <td>...</td>\n",
              "      <td>...</td>\n",
              "      <td>...</td>\n",
              "      <td>...</td>\n",
              "      <td>...</td>\n",
              "      <td>...</td>\n",
              "      <td>...</td>\n",
              "      <td>...</td>\n",
              "      <td>...</td>\n",
              "      <td>...</td>\n",
              "      <td>...</td>\n",
              "      <td>...</td>\n",
              "      <td>...</td>\n",
              "      <td>...</td>\n",
              "    </tr>\n",
              "    <tr>\n",
              "      <th>515</th>\n",
              "      <td>39</td>\n",
              "      <td>Female</td>\n",
              "      <td>1</td>\n",
              "      <td>1</td>\n",
              "      <td>1</td>\n",
              "      <td>0</td>\n",
              "      <td>1</td>\n",
              "      <td>0</td>\n",
              "      <td>0</td>\n",
              "      <td>1</td>\n",
              "      <td>0</td>\n",
              "      <td>1</td>\n",
              "      <td>1</td>\n",
              "      <td>0</td>\n",
              "      <td>0</td>\n",
              "      <td>0</td>\n",
              "      <td>1</td>\n",
              "    </tr>\n",
              "    <tr>\n",
              "      <th>516</th>\n",
              "      <td>48</td>\n",
              "      <td>Female</td>\n",
              "      <td>1</td>\n",
              "      <td>1</td>\n",
              "      <td>1</td>\n",
              "      <td>1</td>\n",
              "      <td>1</td>\n",
              "      <td>0</td>\n",
              "      <td>0</td>\n",
              "      <td>1</td>\n",
              "      <td>1</td>\n",
              "      <td>1</td>\n",
              "      <td>1</td>\n",
              "      <td>0</td>\n",
              "      <td>0</td>\n",
              "      <td>0</td>\n",
              "      <td>1</td>\n",
              "    </tr>\n",
              "    <tr>\n",
              "      <th>517</th>\n",
              "      <td>58</td>\n",
              "      <td>Female</td>\n",
              "      <td>1</td>\n",
              "      <td>1</td>\n",
              "      <td>1</td>\n",
              "      <td>1</td>\n",
              "      <td>1</td>\n",
              "      <td>0</td>\n",
              "      <td>1</td>\n",
              "      <td>0</td>\n",
              "      <td>0</td>\n",
              "      <td>0</td>\n",
              "      <td>1</td>\n",
              "      <td>1</td>\n",
              "      <td>0</td>\n",
              "      <td>1</td>\n",
              "      <td>1</td>\n",
              "    </tr>\n",
              "    <tr>\n",
              "      <th>518</th>\n",
              "      <td>32</td>\n",
              "      <td>Female</td>\n",
              "      <td>0</td>\n",
              "      <td>0</td>\n",
              "      <td>0</td>\n",
              "      <td>1</td>\n",
              "      <td>0</td>\n",
              "      <td>0</td>\n",
              "      <td>1</td>\n",
              "      <td>1</td>\n",
              "      <td>0</td>\n",
              "      <td>1</td>\n",
              "      <td>0</td>\n",
              "      <td>0</td>\n",
              "      <td>1</td>\n",
              "      <td>0</td>\n",
              "      <td>0</td>\n",
              "    </tr>\n",
              "    <tr>\n",
              "      <th>519</th>\n",
              "      <td>42</td>\n",
              "      <td>Male</td>\n",
              "      <td>0</td>\n",
              "      <td>0</td>\n",
              "      <td>0</td>\n",
              "      <td>0</td>\n",
              "      <td>0</td>\n",
              "      <td>0</td>\n",
              "      <td>0</td>\n",
              "      <td>0</td>\n",
              "      <td>0</td>\n",
              "      <td>0</td>\n",
              "      <td>0</td>\n",
              "      <td>0</td>\n",
              "      <td>0</td>\n",
              "      <td>0</td>\n",
              "      <td>0</td>\n",
              "    </tr>\n",
              "  </tbody>\n",
              "</table>\n",
              "<p>520 rows × 17 columns</p>\n",
              "</div>\n",
              "      <button class=\"colab-df-convert\" onclick=\"convertToInteractive('df-8e1456f4-de69-4e04-8d31-529bb29338be')\"\n",
              "              title=\"Convert this dataframe to an interactive table.\"\n",
              "              style=\"display:none;\">\n",
              "        \n",
              "  <svg xmlns=\"http://www.w3.org/2000/svg\" height=\"24px\"viewBox=\"0 0 24 24\"\n",
              "       width=\"24px\">\n",
              "    <path d=\"M0 0h24v24H0V0z\" fill=\"none\"/>\n",
              "    <path d=\"M18.56 5.44l.94 2.06.94-2.06 2.06-.94-2.06-.94-.94-2.06-.94 2.06-2.06.94zm-11 1L8.5 8.5l.94-2.06 2.06-.94-2.06-.94L8.5 2.5l-.94 2.06-2.06.94zm10 10l.94 2.06.94-2.06 2.06-.94-2.06-.94-.94-2.06-.94 2.06-2.06.94z\"/><path d=\"M17.41 7.96l-1.37-1.37c-.4-.4-.92-.59-1.43-.59-.52 0-1.04.2-1.43.59L10.3 9.45l-7.72 7.72c-.78.78-.78 2.05 0 2.83L4 21.41c.39.39.9.59 1.41.59.51 0 1.02-.2 1.41-.59l7.78-7.78 2.81-2.81c.8-.78.8-2.07 0-2.86zM5.41 20L4 18.59l7.72-7.72 1.47 1.35L5.41 20z\"/>\n",
              "  </svg>\n",
              "      </button>\n",
              "      \n",
              "  <style>\n",
              "    .colab-df-container {\n",
              "      display:flex;\n",
              "      flex-wrap:wrap;\n",
              "      gap: 12px;\n",
              "    }\n",
              "\n",
              "    .colab-df-convert {\n",
              "      background-color: #E8F0FE;\n",
              "      border: none;\n",
              "      border-radius: 50%;\n",
              "      cursor: pointer;\n",
              "      display: none;\n",
              "      fill: #1967D2;\n",
              "      height: 32px;\n",
              "      padding: 0 0 0 0;\n",
              "      width: 32px;\n",
              "    }\n",
              "\n",
              "    .colab-df-convert:hover {\n",
              "      background-color: #E2EBFA;\n",
              "      box-shadow: 0px 1px 2px rgba(60, 64, 67, 0.3), 0px 1px 3px 1px rgba(60, 64, 67, 0.15);\n",
              "      fill: #174EA6;\n",
              "    }\n",
              "\n",
              "    [theme=dark] .colab-df-convert {\n",
              "      background-color: #3B4455;\n",
              "      fill: #D2E3FC;\n",
              "    }\n",
              "\n",
              "    [theme=dark] .colab-df-convert:hover {\n",
              "      background-color: #434B5C;\n",
              "      box-shadow: 0px 1px 3px 1px rgba(0, 0, 0, 0.15);\n",
              "      filter: drop-shadow(0px 1px 2px rgba(0, 0, 0, 0.3));\n",
              "      fill: #FFFFFF;\n",
              "    }\n",
              "  </style>\n",
              "\n",
              "      <script>\n",
              "        const buttonEl =\n",
              "          document.querySelector('#df-8e1456f4-de69-4e04-8d31-529bb29338be button.colab-df-convert');\n",
              "        buttonEl.style.display =\n",
              "          google.colab.kernel.accessAllowed ? 'block' : 'none';\n",
              "\n",
              "        async function convertToInteractive(key) {\n",
              "          const element = document.querySelector('#df-8e1456f4-de69-4e04-8d31-529bb29338be');\n",
              "          const dataTable =\n",
              "            await google.colab.kernel.invokeFunction('convertToInteractive',\n",
              "                                                     [key], {});\n",
              "          if (!dataTable) return;\n",
              "\n",
              "          const docLinkHtml = 'Like what you see? Visit the ' +\n",
              "            '<a target=\"_blank\" href=https://colab.research.google.com/notebooks/data_table.ipynb>data table notebook</a>'\n",
              "            + ' to learn more about interactive tables.';\n",
              "          element.innerHTML = '';\n",
              "          dataTable['output_type'] = 'display_data';\n",
              "          await google.colab.output.renderOutput(dataTable, element);\n",
              "          const docLink = document.createElement('div');\n",
              "          docLink.innerHTML = docLinkHtml;\n",
              "          element.appendChild(docLink);\n",
              "        }\n",
              "      </script>\n",
              "    </div>\n",
              "  </div>\n",
              "  "
            ]
          },
          "metadata": {},
          "execution_count": 24
        }
      ]
    },
    {
      "cell_type": "code",
      "source": [
        "data[\"gender\"] = data[\"gender\"].apply({\"Male\":1, \"Female\":0}.get)\n",
        "data.head()"
      ],
      "metadata": {
        "colab": {
          "base_uri": "https://localhost:8080/",
          "height": 270
        },
        "id": "gRJpDQLDmPuh",
        "outputId": "810a8c20-89a5-47c0-f68b-c5369a906670"
      },
      "execution_count": null,
      "outputs": [
        {
          "output_type": "execute_result",
          "data": {
            "text/plain": [
              "   age  gender  polyuria  polydipsia  sudden_weight_loss  weakness  \\\n",
              "0   40       1         0           1                   0         1   \n",
              "1   58       1         0           0                   0         1   \n",
              "2   41       1         1           0                   0         1   \n",
              "3   45       1         0           0                   1         1   \n",
              "4   60       1         1           1                   1         1   \n",
              "\n",
              "   polyphagia  genital_thrush  visual_blurring  itching  irritability  \\\n",
              "0           0               0                0        1             0   \n",
              "1           0               0                1        0             0   \n",
              "2           1               0                0        1             0   \n",
              "3           1               1                0        1             0   \n",
              "4           1               0                1        1             1   \n",
              "\n",
              "   delayed_healing  partial_paresis  muscle_stiffness  alopecia  obesity  \\\n",
              "0                1                0                 1         1        1   \n",
              "1                0                1                 0         1        0   \n",
              "2                1                0                 1         1        0   \n",
              "3                1                0                 0         0        0   \n",
              "4                1                1                 1         1        1   \n",
              "\n",
              "   class  \n",
              "0      1  \n",
              "1      1  \n",
              "2      1  \n",
              "3      1  \n",
              "4      1  "
            ],
            "text/html": [
              "\n",
              "  <div id=\"df-f30dbe43-40a2-490a-9f25-b04744db2748\">\n",
              "    <div class=\"colab-df-container\">\n",
              "      <div>\n",
              "<style scoped>\n",
              "    .dataframe tbody tr th:only-of-type {\n",
              "        vertical-align: middle;\n",
              "    }\n",
              "\n",
              "    .dataframe tbody tr th {\n",
              "        vertical-align: top;\n",
              "    }\n",
              "\n",
              "    .dataframe thead th {\n",
              "        text-align: right;\n",
              "    }\n",
              "</style>\n",
              "<table border=\"1\" class=\"dataframe\">\n",
              "  <thead>\n",
              "    <tr style=\"text-align: right;\">\n",
              "      <th></th>\n",
              "      <th>age</th>\n",
              "      <th>gender</th>\n",
              "      <th>polyuria</th>\n",
              "      <th>polydipsia</th>\n",
              "      <th>sudden_weight_loss</th>\n",
              "      <th>weakness</th>\n",
              "      <th>polyphagia</th>\n",
              "      <th>genital_thrush</th>\n",
              "      <th>visual_blurring</th>\n",
              "      <th>itching</th>\n",
              "      <th>irritability</th>\n",
              "      <th>delayed_healing</th>\n",
              "      <th>partial_paresis</th>\n",
              "      <th>muscle_stiffness</th>\n",
              "      <th>alopecia</th>\n",
              "      <th>obesity</th>\n",
              "      <th>class</th>\n",
              "    </tr>\n",
              "  </thead>\n",
              "  <tbody>\n",
              "    <tr>\n",
              "      <th>0</th>\n",
              "      <td>40</td>\n",
              "      <td>1</td>\n",
              "      <td>0</td>\n",
              "      <td>1</td>\n",
              "      <td>0</td>\n",
              "      <td>1</td>\n",
              "      <td>0</td>\n",
              "      <td>0</td>\n",
              "      <td>0</td>\n",
              "      <td>1</td>\n",
              "      <td>0</td>\n",
              "      <td>1</td>\n",
              "      <td>0</td>\n",
              "      <td>1</td>\n",
              "      <td>1</td>\n",
              "      <td>1</td>\n",
              "      <td>1</td>\n",
              "    </tr>\n",
              "    <tr>\n",
              "      <th>1</th>\n",
              "      <td>58</td>\n",
              "      <td>1</td>\n",
              "      <td>0</td>\n",
              "      <td>0</td>\n",
              "      <td>0</td>\n",
              "      <td>1</td>\n",
              "      <td>0</td>\n",
              "      <td>0</td>\n",
              "      <td>1</td>\n",
              "      <td>0</td>\n",
              "      <td>0</td>\n",
              "      <td>0</td>\n",
              "      <td>1</td>\n",
              "      <td>0</td>\n",
              "      <td>1</td>\n",
              "      <td>0</td>\n",
              "      <td>1</td>\n",
              "    </tr>\n",
              "    <tr>\n",
              "      <th>2</th>\n",
              "      <td>41</td>\n",
              "      <td>1</td>\n",
              "      <td>1</td>\n",
              "      <td>0</td>\n",
              "      <td>0</td>\n",
              "      <td>1</td>\n",
              "      <td>1</td>\n",
              "      <td>0</td>\n",
              "      <td>0</td>\n",
              "      <td>1</td>\n",
              "      <td>0</td>\n",
              "      <td>1</td>\n",
              "      <td>0</td>\n",
              "      <td>1</td>\n",
              "      <td>1</td>\n",
              "      <td>0</td>\n",
              "      <td>1</td>\n",
              "    </tr>\n",
              "    <tr>\n",
              "      <th>3</th>\n",
              "      <td>45</td>\n",
              "      <td>1</td>\n",
              "      <td>0</td>\n",
              "      <td>0</td>\n",
              "      <td>1</td>\n",
              "      <td>1</td>\n",
              "      <td>1</td>\n",
              "      <td>1</td>\n",
              "      <td>0</td>\n",
              "      <td>1</td>\n",
              "      <td>0</td>\n",
              "      <td>1</td>\n",
              "      <td>0</td>\n",
              "      <td>0</td>\n",
              "      <td>0</td>\n",
              "      <td>0</td>\n",
              "      <td>1</td>\n",
              "    </tr>\n",
              "    <tr>\n",
              "      <th>4</th>\n",
              "      <td>60</td>\n",
              "      <td>1</td>\n",
              "      <td>1</td>\n",
              "      <td>1</td>\n",
              "      <td>1</td>\n",
              "      <td>1</td>\n",
              "      <td>1</td>\n",
              "      <td>0</td>\n",
              "      <td>1</td>\n",
              "      <td>1</td>\n",
              "      <td>1</td>\n",
              "      <td>1</td>\n",
              "      <td>1</td>\n",
              "      <td>1</td>\n",
              "      <td>1</td>\n",
              "      <td>1</td>\n",
              "      <td>1</td>\n",
              "    </tr>\n",
              "  </tbody>\n",
              "</table>\n",
              "</div>\n",
              "      <button class=\"colab-df-convert\" onclick=\"convertToInteractive('df-f30dbe43-40a2-490a-9f25-b04744db2748')\"\n",
              "              title=\"Convert this dataframe to an interactive table.\"\n",
              "              style=\"display:none;\">\n",
              "        \n",
              "  <svg xmlns=\"http://www.w3.org/2000/svg\" height=\"24px\"viewBox=\"0 0 24 24\"\n",
              "       width=\"24px\">\n",
              "    <path d=\"M0 0h24v24H0V0z\" fill=\"none\"/>\n",
              "    <path d=\"M18.56 5.44l.94 2.06.94-2.06 2.06-.94-2.06-.94-.94-2.06-.94 2.06-2.06.94zm-11 1L8.5 8.5l.94-2.06 2.06-.94-2.06-.94L8.5 2.5l-.94 2.06-2.06.94zm10 10l.94 2.06.94-2.06 2.06-.94-2.06-.94-.94-2.06-.94 2.06-2.06.94z\"/><path d=\"M17.41 7.96l-1.37-1.37c-.4-.4-.92-.59-1.43-.59-.52 0-1.04.2-1.43.59L10.3 9.45l-7.72 7.72c-.78.78-.78 2.05 0 2.83L4 21.41c.39.39.9.59 1.41.59.51 0 1.02-.2 1.41-.59l7.78-7.78 2.81-2.81c.8-.78.8-2.07 0-2.86zM5.41 20L4 18.59l7.72-7.72 1.47 1.35L5.41 20z\"/>\n",
              "  </svg>\n",
              "      </button>\n",
              "      \n",
              "  <style>\n",
              "    .colab-df-container {\n",
              "      display:flex;\n",
              "      flex-wrap:wrap;\n",
              "      gap: 12px;\n",
              "    }\n",
              "\n",
              "    .colab-df-convert {\n",
              "      background-color: #E8F0FE;\n",
              "      border: none;\n",
              "      border-radius: 50%;\n",
              "      cursor: pointer;\n",
              "      display: none;\n",
              "      fill: #1967D2;\n",
              "      height: 32px;\n",
              "      padding: 0 0 0 0;\n",
              "      width: 32px;\n",
              "    }\n",
              "\n",
              "    .colab-df-convert:hover {\n",
              "      background-color: #E2EBFA;\n",
              "      box-shadow: 0px 1px 2px rgba(60, 64, 67, 0.3), 0px 1px 3px 1px rgba(60, 64, 67, 0.15);\n",
              "      fill: #174EA6;\n",
              "    }\n",
              "\n",
              "    [theme=dark] .colab-df-convert {\n",
              "      background-color: #3B4455;\n",
              "      fill: #D2E3FC;\n",
              "    }\n",
              "\n",
              "    [theme=dark] .colab-df-convert:hover {\n",
              "      background-color: #434B5C;\n",
              "      box-shadow: 0px 1px 3px 1px rgba(0, 0, 0, 0.15);\n",
              "      filter: drop-shadow(0px 1px 2px rgba(0, 0, 0, 0.3));\n",
              "      fill: #FFFFFF;\n",
              "    }\n",
              "  </style>\n",
              "\n",
              "      <script>\n",
              "        const buttonEl =\n",
              "          document.querySelector('#df-f30dbe43-40a2-490a-9f25-b04744db2748 button.colab-df-convert');\n",
              "        buttonEl.style.display =\n",
              "          google.colab.kernel.accessAllowed ? 'block' : 'none';\n",
              "\n",
              "        async function convertToInteractive(key) {\n",
              "          const element = document.querySelector('#df-f30dbe43-40a2-490a-9f25-b04744db2748');\n",
              "          const dataTable =\n",
              "            await google.colab.kernel.invokeFunction('convertToInteractive',\n",
              "                                                     [key], {});\n",
              "          if (!dataTable) return;\n",
              "\n",
              "          const docLinkHtml = 'Like what you see? Visit the ' +\n",
              "            '<a target=\"_blank\" href=https://colab.research.google.com/notebooks/data_table.ipynb>data table notebook</a>'\n",
              "            + ' to learn more about interactive tables.';\n",
              "          element.innerHTML = '';\n",
              "          dataTable['output_type'] = 'display_data';\n",
              "          await google.colab.output.renderOutput(dataTable, element);\n",
              "          const docLink = document.createElement('div');\n",
              "          docLink.innerHTML = docLinkHtml;\n",
              "          element.appendChild(docLink);\n",
              "        }\n",
              "      </script>\n",
              "    </div>\n",
              "  </div>\n",
              "  "
            ]
          },
          "metadata": {},
          "execution_count": 4
        }
      ]
    },
    {
      "cell_type": "code",
      "source": [
        "tc = data.corr()\n",
        "sns.heatmap(tc,annot = False,cmap=\"coolwarm\")"
      ],
      "metadata": {
        "colab": {
          "base_uri": "https://localhost:8080/",
          "height": 377
        },
        "id": "mBSAwOYFkMKw",
        "outputId": "6b585ce9-52eb-4af7-9db4-bb74a8e2260e"
      },
      "execution_count": null,
      "outputs": [
        {
          "output_type": "execute_result",
          "data": {
            "text/plain": [
              "<matplotlib.axes._subplots.AxesSubplot at 0x7ff3e51591d0>"
            ]
          },
          "metadata": {},
          "execution_count": 5
        },
        {
          "output_type": "display_data",
          "data": {
            "text/plain": [
              "<Figure size 432x288 with 2 Axes>"
            ],
            "image/png": "[encoded data removed]"
          },
          "metadata": {
            "needs_background": "light"
          }
        }
      ]
    },
    {
      "cell_type": "code",
      "source": [
        "sns.countplot(x=\"gender\", data=data)"
      ],
      "metadata": {
        "colab": {
          "base_uri": "https://localhost:8080/",
          "height": 297
        },
        "id": "t5pzvEN9pIne",
        "outputId": "9a2d6495-a7dd-4546-fc90-2b6afd31f87b"
      },
      "execution_count": null,
      "outputs": [
        {
          "output_type": "execute_result",
          "data": {
            "text/plain": [
              "<matplotlib.axes._subplots.AxesSubplot at 0x7ff3e27c7d90>"
            ]
          },
          "metadata": {},
          "execution_count": 6
        },
        {
          "output_type": "display_data",
          "data": {
            "text/plain": [
              "<Figure size 432x288 with 1 Axes>"
            ],
            "image/png": "[encoded data removed]"
          },
          "metadata": {
            "needs_background": "light"
          }
        }
      ]
    },
    {
      "cell_type": "code",
      "source": [
        "data.info()"
      ],
      "metadata": {
        "colab": {
          "base_uri": "https://localhost:8080/"
        },
        "id": "LMzXXfGRmFEB",
        "outputId": "19f7424c-48ad-48fa-cf51-9af69e95036a"
      },
      "execution_count": null,
      "outputs": [
        {
          "output_type": "stream",
          "name": "stdout",
          "text": [
            "<class 'pandas.core.frame.DataFrame'>\n",
            "RangeIndex: 520 entries, 0 to 519\n",
            "Data columns (total 17 columns):\n",
            " #   Column              Non-Null Count  Dtype\n",
            "---  ------              --------------  -----\n",
            " 0   age                 520 non-null    int64\n",
            " 1   gender              520 non-null    int64\n",
            " 2   polyuria            520 non-null    int64\n",
            " 3   polydipsia          520 non-null    int64\n",
            " 4   sudden_weight_loss  520 non-null    int64\n",
            " 5   weakness            520 non-null    int64\n",
            " 6   polyphagia          520 non-null    int64\n",
            " 7   genital_thrush      520 non-null    int64\n",
            " 8   visual_blurring     520 non-null    int64\n",
            " 9   itching             520 non-null    int64\n",
            " 10  irritability        520 non-null    int64\n",
            " 11  delayed_healing     520 non-null    int64\n",
            " 12  partial_paresis     520 non-null    int64\n",
            " 13  muscle_stiffness    520 non-null    int64\n",
            " 14  alopecia            520 non-null    int64\n",
            " 15  obesity             520 non-null    int64\n",
            " 16  class               520 non-null    int64\n",
            "dtypes: int64(17)\n",
            "memory usage: 69.2 KB\n"
          ]
        }
      ]
    },
    {
      "cell_type": "code",
      "source": [
        "x = data[data.columns[:-1]]\n",
        "y = data[data.columns[-1]]\n",
        "x_train,x_test,y_train,y_test = train_test_split(x,y,test_size = 0.15,random_state = 10)\n",
        "print(x_train)\n",
        "print(y_train)"
      ],
      "metadata": {
        "colab": {
          "base_uri": "https://localhost:8080/"
        },
        "id": "HpAUhdwomk86",
        "outputId": "75ea8241-c57f-4ad0-8867-15e6dc401661"
      },
      "execution_count": null,
      "outputs": [
        {
          "output_type": "stream",
          "name": "stdout",
          "text": [
            "     age  gender  polyuria  polydipsia  sudden_weight_loss  weakness  \\\n",
            "260   33       1         0           1                   0         0   \n",
            "184   48       0         1           1                   1         0   \n",
            "172   60       1         1           0                   0         0   \n",
            "193   36       1         1           0                   0         1   \n",
            "154   62       1         1           0                   0         1   \n",
            "..   ...     ...       ...         ...                 ...       ...   \n",
            "123   47       1         0           1                   0         0   \n",
            "369   47       1         0           0                   0         0   \n",
            "320   65       0         0           0                   0         1   \n",
            "125   55       1         1           1                   1         1   \n",
            "265   28       0         0           0                   0         0   \n",
            "\n",
            "     polyphagia  genital_thrush  visual_blurring  itching  irritability  \\\n",
            "260           0               0                0        0             0   \n",
            "184           1               1                0        0             1   \n",
            "172           0               0                1        0             0   \n",
            "193           0               1                1        1             0   \n",
            "154           0               1                1        1             1   \n",
            "..          ...             ...              ...      ...           ...   \n",
            "123           0               0                1        1             0   \n",
            "369           0               0                0        1             0   \n",
            "320           0               0                0        1             0   \n",
            "125           1               0                1        0             0   \n",
            "265           0               0                1        0             0   \n",
            "\n",
            "     delayed_healing  partial_paresis  muscle_stiffness  alopecia  obesity  \n",
            "260                0                0                 0         0        0  \n",
            "184                1                0                 1         1        1  \n",
            "172                0                1                 0         1        0  \n",
            "193                1                0                 0         0        0  \n",
            "154                0                1                 1         1        1  \n",
            "..               ...              ...               ...       ...      ...  \n",
            "123                0                0                 0         1        1  \n",
            "369                0                0                 0         1        0  \n",
            "320                1                0                 0         1        0  \n",
            "125                1                1                 0         0        0  \n",
            "265                0                1                 1         0        0  \n",
            "\n",
            "[442 rows x 16 columns]\n",
            "260    1\n",
            "184    1\n",
            "172    1\n",
            "193    1\n",
            "154    1\n",
            "      ..\n",
            "123    1\n",
            "369    0\n",
            "320    0\n",
            "125    1\n",
            "265    1\n",
            "Name: class, Length: 442, dtype: int64\n"
          ]
        }
      ]
    },
    {
      "cell_type": "code",
      "source": [
        "model = tf.keras.models.Sequential()\n",
        "model.add(tf.keras.layers.Dense(units = 128, activation = \"relu\"))\n",
        "model.add(tf.keras.layers.Dropout(0.2))\n",
        "model.add(tf.keras.layers.Dense(units = 32, activation = \"relu\"))\n",
        "model.add(tf.keras.layers.Dropout(0.1))\n",
        "model.add(tf.keras.layers.Dense(units = 1,activation = \"sigmoid\"))\n",
        "model.compile(optimizer = \"adam\", loss = \"binary_crossentropy\" , metrics=[\"accuracy\"])\n",
        "\n",
        "#Here we train our model.\n",
        "model.fit(x_train,y_train,epochs = 100,validation_data = (x_test,y_test))\n",
        "#This the inference phase.We try our model on test data.\n",
        "y_pred = model.predict(x_test)\n",
        "\n",
        "y_pred = (y_pred > 0.5)\n",
        "\n",
        "#With this confusion matrix \n",
        "cm = confusion_matrix(y_test,y_pred)\n",
        "print(cm)\n",
        "accuracy_score(y_test,y_pred)"
      ],
      "metadata": {
        "colab": {
          "base_uri": "https://localhost:8080/"
        },
        "id": "95Tdsk7onrug",
        "outputId": "4950a332-6079-4920-c171-b9a1d44cdabc"
      },
      "execution_count": null,
      "outputs": [
        {
          "output_type": "stream",
          "name": "stdout",
          "text": [
            "Epoch 1/100\n",
            "14/14 [==============================] - 1s 18ms/step - loss: 1.3508 - accuracy: 0.5317 - val_loss: 0.6078 - val_accuracy: 0.6026\n",
            "Epoch 2/100\n",
            "14/14 [==============================] - 0s 4ms/step - loss: 1.0329 - accuracy: 0.5452 - val_loss: 0.5850 - val_accuracy: 0.7821\n",
            "Epoch 3/100\n",
            "14/14 [==============================] - 0s 4ms/step - loss: 0.9495 - accuracy: 0.5566 - val_loss: 0.7994 - val_accuracy: 0.3974\n",
            "Epoch 4/100\n",
            "14/14 [==============================] - 0s 5ms/step - loss: 0.9222 - accuracy: 0.5362 - val_loss: 0.6131 - val_accuracy: 0.6026\n",
            "Epoch 5/100\n",
            "14/14 [==============================] - 0s 4ms/step - loss: 0.7613 - accuracy: 0.5950 - val_loss: 0.5933 - val_accuracy: 0.8205\n",
            "Epoch 6/100\n",
            "14/14 [==============================] - 0s 4ms/step - loss: 0.7408 - accuracy: 0.5928 - val_loss: 0.6109 - val_accuracy: 0.6026\n",
            "Epoch 7/100\n",
            "14/14 [==============================] - 0s 4ms/step - loss: 0.6727 - accuracy: 0.6199 - val_loss: 0.6334 - val_accuracy: 0.6026\n",
            "Epoch 8/100\n",
            "14/14 [==============================] - 0s 4ms/step - loss: 0.6576 - accuracy: 0.6222 - val_loss: 0.6317 - val_accuracy: 0.6026\n",
            "Epoch 9/100\n",
            "14/14 [==============================] - 0s 4ms/step - loss: 0.6629 - accuracy: 0.6199 - val_loss: 0.6265 - val_accuracy: 0.6026\n",
            "Epoch 10/100\n",
            "14/14 [==============================] - 0s 5ms/step - loss: 0.6657 - accuracy: 0.6109 - val_loss: 0.6183 - val_accuracy: 0.6026\n",
            "Epoch 11/100\n",
            "14/14 [==============================] - 0s 5ms/step - loss: 0.6465 - accuracy: 0.6425 - val_loss: 0.5957 - val_accuracy: 0.6026\n",
            "Epoch 12/100\n",
            "14/14 [==============================] - 0s 5ms/step - loss: 0.6316 - accuracy: 0.6493 - val_loss: 0.5354 - val_accuracy: 0.8333\n",
            "Epoch 13/100\n",
            "14/14 [==============================] - 0s 5ms/step - loss: 0.6250 - accuracy: 0.6900 - val_loss: 0.4816 - val_accuracy: 0.8718\n",
            "Epoch 14/100\n",
            "14/14 [==============================] - 0s 5ms/step - loss: 0.5982 - accuracy: 0.6878 - val_loss: 0.4939 - val_accuracy: 0.7564\n",
            "Epoch 15/100\n",
            "14/14 [==============================] - 0s 5ms/step - loss: 0.5650 - accuracy: 0.7059 - val_loss: 0.4731 - val_accuracy: 0.8205\n",
            "Epoch 16/100\n",
            "14/14 [==============================] - 0s 4ms/step - loss: 0.5825 - accuracy: 0.6855 - val_loss: 0.4625 - val_accuracy: 0.7949\n",
            "Epoch 17/100\n",
            "14/14 [==============================] - 0s 4ms/step - loss: 0.5446 - accuracy: 0.7579 - val_loss: 0.4439 - val_accuracy: 0.7949\n",
            "Epoch 18/100\n",
            "14/14 [==============================] - 0s 4ms/step - loss: 0.5258 - accuracy: 0.7376 - val_loss: 0.4175 - val_accuracy: 0.8077\n",
            "Epoch 19/100\n",
            "14/14 [==============================] - 0s 5ms/step - loss: 0.5124 - accuracy: 0.7376 - val_loss: 0.3353 - val_accuracy: 0.9231\n",
            "Epoch 20/100\n",
            "14/14 [==============================] - 0s 5ms/step - loss: 0.5049 - accuracy: 0.7534 - val_loss: 0.3220 - val_accuracy: 0.8590\n",
            "Epoch 21/100\n",
            "14/14 [==============================] - 0s 5ms/step - loss: 0.4538 - accuracy: 0.8009 - val_loss: 0.2883 - val_accuracy: 0.9231\n",
            "Epoch 22/100\n",
            "14/14 [==============================] - 0s 5ms/step - loss: 0.4293 - accuracy: 0.7964 - val_loss: 0.2706 - val_accuracy: 0.9487\n",
            "Epoch 23/100\n",
            "14/14 [==============================] - 0s 5ms/step - loss: 0.4281 - accuracy: 0.8145 - val_loss: 0.2631 - val_accuracy: 0.8718\n",
            "Epoch 24/100\n",
            "14/14 [==============================] - 0s 5ms/step - loss: 0.4130 - accuracy: 0.8258 - val_loss: 0.2536 - val_accuracy: 0.8718\n",
            "Epoch 25/100\n",
            "14/14 [==============================] - 0s 5ms/step - loss: 0.4018 - accuracy: 0.8122 - val_loss: 0.2552 - val_accuracy: 0.8718\n",
            "Epoch 26/100\n",
            "14/14 [==============================] - 0s 4ms/step - loss: 0.3744 - accuracy: 0.8439 - val_loss: 0.2188 - val_accuracy: 0.9359\n",
            "Epoch 27/100\n",
            "14/14 [==============================] - 0s 5ms/step - loss: 0.3615 - accuracy: 0.8416 - val_loss: 0.2206 - val_accuracy: 0.8718\n",
            "Epoch 28/100\n",
            "14/14 [==============================] - 0s 5ms/step - loss: 0.3666 - accuracy: 0.8416 - val_loss: 0.1987 - val_accuracy: 0.9359\n",
            "Epoch 29/100\n",
            "14/14 [==============================] - 0s 5ms/step - loss: 0.3027 - accuracy: 0.8756 - val_loss: 0.1923 - val_accuracy: 0.9359\n",
            "Epoch 30/100\n",
            "14/14 [==============================] - 0s 4ms/step - loss: 0.3282 - accuracy: 0.8710 - val_loss: 0.1911 - val_accuracy: 0.8974\n",
            "Epoch 31/100\n",
            "14/14 [==============================] - 0s 4ms/step - loss: 0.3241 - accuracy: 0.8710 - val_loss: 0.2735 - val_accuracy: 0.8590\n",
            "Epoch 32/100\n",
            "14/14 [==============================] - 0s 5ms/step - loss: 0.2982 - accuracy: 0.8710 - val_loss: 0.1829 - val_accuracy: 0.9615\n",
            "Epoch 33/100\n",
            "14/14 [==============================] - 0s 5ms/step - loss: 0.3394 - accuracy: 0.8597 - val_loss: 0.1877 - val_accuracy: 0.8974\n",
            "Epoch 34/100\n",
            "14/14 [==============================] - 0s 5ms/step - loss: 0.2784 - accuracy: 0.8801 - val_loss: 0.1878 - val_accuracy: 0.8974\n",
            "Epoch 35/100\n",
            "14/14 [==============================] - 0s 4ms/step - loss: 0.2814 - accuracy: 0.8846 - val_loss: 0.1713 - val_accuracy: 0.9359\n",
            "Epoch 36/100\n",
            "14/14 [==============================] - 0s 4ms/step - loss: 0.2816 - accuracy: 0.8846 - val_loss: 0.1848 - val_accuracy: 0.8974\n",
            "Epoch 37/100\n",
            "14/14 [==============================] - 0s 4ms/step - loss: 0.3057 - accuracy: 0.8824 - val_loss: 0.1664 - val_accuracy: 0.9231\n",
            "Epoch 38/100\n",
            "14/14 [==============================] - 0s 4ms/step - loss: 0.3120 - accuracy: 0.8643 - val_loss: 0.2469 - val_accuracy: 0.8718\n",
            "Epoch 39/100\n",
            "14/14 [==============================] - 0s 4ms/step - loss: 0.2937 - accuracy: 0.8869 - val_loss: 0.1815 - val_accuracy: 0.9103\n",
            "Epoch 40/100\n",
            "14/14 [==============================] - 0s 5ms/step - loss: 0.2988 - accuracy: 0.8620 - val_loss: 0.1826 - val_accuracy: 0.9103\n",
            "Epoch 41/100\n",
            "14/14 [==============================] - 0s 4ms/step - loss: 0.2744 - accuracy: 0.8982 - val_loss: 0.1646 - val_accuracy: 0.8974\n",
            "Epoch 42/100\n",
            "14/14 [==============================] - 0s 4ms/step - loss: 0.2385 - accuracy: 0.8869 - val_loss: 0.1778 - val_accuracy: 0.9103\n",
            "Epoch 43/100\n",
            "14/14 [==============================] - 0s 5ms/step - loss: 0.2547 - accuracy: 0.9027 - val_loss: 0.1939 - val_accuracy: 0.8974\n",
            "Epoch 44/100\n",
            "14/14 [==============================] - 0s 4ms/step - loss: 0.2508 - accuracy: 0.8914 - val_loss: 0.1707 - val_accuracy: 0.9103\n",
            "Epoch 45/100\n",
            "14/14 [==============================] - 0s 4ms/step - loss: 0.2443 - accuracy: 0.9186 - val_loss: 0.1687 - val_accuracy: 0.9103\n",
            "Epoch 46/100\n",
            "14/14 [==============================] - 0s 4ms/step - loss: 0.2533 - accuracy: 0.8959 - val_loss: 0.1811 - val_accuracy: 0.9103\n",
            "Epoch 47/100\n",
            "14/14 [==============================] - 0s 5ms/step - loss: 0.2590 - accuracy: 0.9005 - val_loss: 0.1728 - val_accuracy: 0.9103\n",
            "Epoch 48/100\n",
            "14/14 [==============================] - 0s 4ms/step - loss: 0.2417 - accuracy: 0.8982 - val_loss: 0.1727 - val_accuracy: 0.9103\n",
            "Epoch 49/100\n",
            "14/14 [==============================] - 0s 5ms/step - loss: 0.2545 - accuracy: 0.8982 - val_loss: 0.1878 - val_accuracy: 0.9103\n",
            "Epoch 50/100\n",
            "14/14 [==============================] - 0s 4ms/step - loss: 0.2697 - accuracy: 0.8891 - val_loss: 0.1594 - val_accuracy: 0.9103\n",
            "Epoch 51/100\n",
            "14/14 [==============================] - 0s 5ms/step - loss: 0.2302 - accuracy: 0.9231 - val_loss: 0.1665 - val_accuracy: 0.9103\n",
            "Epoch 52/100\n",
            "14/14 [==============================] - 0s 4ms/step - loss: 0.2450 - accuracy: 0.9050 - val_loss: 0.1898 - val_accuracy: 0.9103\n",
            "Epoch 53/100\n",
            "14/14 [==============================] - 0s 4ms/step - loss: 0.2556 - accuracy: 0.8801 - val_loss: 0.1570 - val_accuracy: 0.9103\n",
            "Epoch 54/100\n",
            "14/14 [==============================] - 0s 5ms/step - loss: 0.2327 - accuracy: 0.9050 - val_loss: 0.1602 - val_accuracy: 0.9103\n",
            "Epoch 55/100\n",
            "14/14 [==============================] - 0s 4ms/step - loss: 0.2425 - accuracy: 0.9027 - val_loss: 0.1712 - val_accuracy: 0.9103\n",
            "Epoch 56/100\n",
            "14/14 [==============================] - 0s 4ms/step - loss: 0.2371 - accuracy: 0.9050 - val_loss: 0.1656 - val_accuracy: 0.9103\n",
            "Epoch 57/100\n",
            "14/14 [==============================] - 0s 4ms/step - loss: 0.2097 - accuracy: 0.9253 - val_loss: 0.1570 - val_accuracy: 0.9103\n",
            "Epoch 58/100\n",
            "14/14 [==============================] - 0s 4ms/step - loss: 0.2094 - accuracy: 0.9095 - val_loss: 0.1491 - val_accuracy: 0.9103\n",
            "Epoch 59/100\n",
            "14/14 [==============================] - 0s 4ms/step - loss: 0.2076 - accuracy: 0.9186 - val_loss: 0.1532 - val_accuracy: 0.9103\n",
            "Epoch 60/100\n",
            "14/14 [==============================] - 0s 4ms/step - loss: 0.2244 - accuracy: 0.9027 - val_loss: 0.1519 - val_accuracy: 0.9103\n",
            "Epoch 61/100\n",
            "14/14 [==============================] - 0s 4ms/step - loss: 0.2174 - accuracy: 0.9050 - val_loss: 0.1617 - val_accuracy: 0.9103\n",
            "Epoch 62/100\n",
            "14/14 [==============================] - 0s 4ms/step - loss: 0.2121 - accuracy: 0.9208 - val_loss: 0.1527 - val_accuracy: 0.9103\n",
            "Epoch 63/100\n",
            "14/14 [==============================] - 0s 4ms/step - loss: 0.2196 - accuracy: 0.9231 - val_loss: 0.1591 - val_accuracy: 0.9103\n",
            "Epoch 64/100\n",
            "14/14 [==============================] - 0s 5ms/step - loss: 0.2233 - accuracy: 0.9095 - val_loss: 0.1617 - val_accuracy: 0.9103\n",
            "Epoch 65/100\n",
            "14/14 [==============================] - 0s 4ms/step - loss: 0.1970 - accuracy: 0.9253 - val_loss: 0.1552 - val_accuracy: 0.9103\n",
            "Epoch 66/100\n",
            "14/14 [==============================] - 0s 4ms/step - loss: 0.2270 - accuracy: 0.9095 - val_loss: 0.1467 - val_accuracy: 0.9103\n",
            "Epoch 67/100\n",
            "14/14 [==============================] - 0s 5ms/step - loss: 0.2073 - accuracy: 0.9163 - val_loss: 0.1714 - val_accuracy: 0.9103\n",
            "Epoch 68/100\n",
            "14/14 [==============================] - 0s 5ms/step - loss: 0.2308 - accuracy: 0.9005 - val_loss: 0.1511 - val_accuracy: 0.9103\n",
            "Epoch 69/100\n",
            "14/14 [==============================] - 0s 4ms/step - loss: 0.2131 - accuracy: 0.9231 - val_loss: 0.1695 - val_accuracy: 0.9103\n",
            "Epoch 70/100\n",
            "14/14 [==============================] - 0s 4ms/step - loss: 0.2052 - accuracy: 0.9186 - val_loss: 0.1834 - val_accuracy: 0.9103\n",
            "Epoch 71/100\n",
            "14/14 [==============================] - 0s 4ms/step - loss: 0.2182 - accuracy: 0.9231 - val_loss: 0.1534 - val_accuracy: 0.9103\n",
            "Epoch 72/100\n",
            "14/14 [==============================] - 0s 5ms/step - loss: 0.2129 - accuracy: 0.9231 - val_loss: 0.1726 - val_accuracy: 0.9103\n",
            "Epoch 73/100\n",
            "14/14 [==============================] - 0s 4ms/step - loss: 0.2219 - accuracy: 0.9005 - val_loss: 0.1616 - val_accuracy: 0.9103\n",
            "Epoch 74/100\n",
            "14/14 [==============================] - 0s 5ms/step - loss: 0.1959 - accuracy: 0.9231 - val_loss: 0.1357 - val_accuracy: 0.9487\n",
            "Epoch 75/100\n",
            "14/14 [==============================] - 0s 4ms/step - loss: 0.2046 - accuracy: 0.9186 - val_loss: 0.1577 - val_accuracy: 0.9103\n",
            "Epoch 76/100\n",
            "14/14 [==============================] - 0s 5ms/step - loss: 0.1914 - accuracy: 0.9253 - val_loss: 0.1350 - val_accuracy: 0.9359\n",
            "Epoch 77/100\n",
            "14/14 [==============================] - 0s 4ms/step - loss: 0.1971 - accuracy: 0.9253 - val_loss: 0.1645 - val_accuracy: 0.9103\n",
            "Epoch 78/100\n",
            "14/14 [==============================] - 0s 5ms/step - loss: 0.2217 - accuracy: 0.9005 - val_loss: 0.1460 - val_accuracy: 0.9103\n",
            "Epoch 79/100\n",
            "14/14 [==============================] - 0s 6ms/step - loss: 0.1978 - accuracy: 0.9140 - val_loss: 0.1487 - val_accuracy: 0.9103\n",
            "Epoch 80/100\n",
            "14/14 [==============================] - 0s 5ms/step - loss: 0.2078 - accuracy: 0.9186 - val_loss: 0.1364 - val_accuracy: 0.9359\n",
            "Epoch 81/100\n",
            "14/14 [==============================] - 0s 5ms/step - loss: 0.2073 - accuracy: 0.9231 - val_loss: 0.1572 - val_accuracy: 0.9103\n",
            "Epoch 82/100\n",
            "14/14 [==============================] - 0s 5ms/step - loss: 0.2017 - accuracy: 0.9276 - val_loss: 0.1408 - val_accuracy: 0.9103\n",
            "Epoch 83/100\n",
            "14/14 [==============================] - 0s 5ms/step - loss: 0.2200 - accuracy: 0.9118 - val_loss: 0.1957 - val_accuracy: 0.9103\n",
            "Epoch 84/100\n",
            "14/14 [==============================] - 0s 5ms/step - loss: 0.1953 - accuracy: 0.9276 - val_loss: 0.1364 - val_accuracy: 0.9359\n",
            "Epoch 85/100\n",
            "14/14 [==============================] - 0s 4ms/step - loss: 0.2153 - accuracy: 0.9231 - val_loss: 0.2047 - val_accuracy: 0.8974\n",
            "Epoch 86/100\n",
            "14/14 [==============================] - 0s 6ms/step - loss: 0.2170 - accuracy: 0.9072 - val_loss: 0.1333 - val_accuracy: 0.9487\n",
            "Epoch 87/100\n",
            "14/14 [==============================] - 0s 5ms/step - loss: 0.1890 - accuracy: 0.9299 - val_loss: 0.1533 - val_accuracy: 0.9103\n",
            "Epoch 88/100\n",
            "14/14 [==============================] - 0s 4ms/step - loss: 0.1800 - accuracy: 0.9321 - val_loss: 0.1463 - val_accuracy: 0.9103\n",
            "Epoch 89/100\n",
            "14/14 [==============================] - 0s 4ms/step - loss: 0.1981 - accuracy: 0.9276 - val_loss: 0.1465 - val_accuracy: 0.9103\n",
            "Epoch 90/100\n",
            "14/14 [==============================] - 0s 4ms/step - loss: 0.1863 - accuracy: 0.9299 - val_loss: 0.1584 - val_accuracy: 0.9103\n",
            "Epoch 91/100\n",
            "14/14 [==============================] - 0s 4ms/step - loss: 0.1770 - accuracy: 0.9299 - val_loss: 0.1512 - val_accuracy: 0.9103\n",
            "Epoch 92/100\n",
            "14/14 [==============================] - 0s 4ms/step - loss: 0.1889 - accuracy: 0.9299 - val_loss: 0.1306 - val_accuracy: 0.9487\n",
            "Epoch 93/100\n",
            "14/14 [==============================] - 0s 5ms/step - loss: 0.1978 - accuracy: 0.9163 - val_loss: 0.1665 - val_accuracy: 0.9103\n",
            "Epoch 94/100\n",
            "14/14 [==============================] - 0s 4ms/step - loss: 0.1956 - accuracy: 0.9299 - val_loss: 0.1532 - val_accuracy: 0.9103\n",
            "Epoch 95/100\n",
            "14/14 [==============================] - 0s 5ms/step - loss: 0.1916 - accuracy: 0.9253 - val_loss: 0.1320 - val_accuracy: 0.9359\n",
            "Epoch 96/100\n",
            "14/14 [==============================] - 0s 5ms/step - loss: 0.1834 - accuracy: 0.9231 - val_loss: 0.1619 - val_accuracy: 0.9103\n",
            "Epoch 97/100\n",
            "14/14 [==============================] - 0s 6ms/step - loss: 0.1969 - accuracy: 0.9208 - val_loss: 0.1424 - val_accuracy: 0.9103\n",
            "Epoch 98/100\n",
            "14/14 [==============================] - 0s 5ms/step - loss: 0.1907 - accuracy: 0.9253 - val_loss: 0.1445 - val_accuracy: 0.9103\n",
            "Epoch 99/100\n",
            "14/14 [==============================] - 0s 4ms/step - loss: 0.1964 - accuracy: 0.9231 - val_loss: 0.1585 - val_accuracy: 0.9103\n",
            "Epoch 100/100\n",
            "14/14 [==============================] - 0s 4ms/step - loss: 0.1897 - accuracy: 0.9299 - val_loss: 0.1302 - val_accuracy: 0.9487\n",
            "[[28  3]\n",
            " [ 1 46]]\n"
          ]
        },
        {
          "output_type": "execute_result",
          "data": {
            "text/plain": [
              "0.9487179487179487"
            ]
          },
          "metadata": {},
          "execution_count": 12
        }
      ]
    },
    {
      "cell_type": "code",
      "source": [
        "def normalized_confusion_matrix(y_test, conf_mat, model):\n",
        "    _ , counts = np.unique(y_test,return_counts=True)\n",
        "    conf_mat = conf_mat/counts\n",
        "    plt.figure(figsize=(6,5))\n",
        "    ax=sns.heatmap(conf_mat,fmt='.2f',annot=True,annot_kws={'size':20},lw=2, cbar=True, cbar_kws={'label':'% Class accuracy'})\n",
        "    plt.title(f'Confusion Matrix ({model})',size=22)\n",
        "    plt.xticks(size=20)\n",
        "    plt.yticks(size=20)\n",
        "    ax.figure.axes[-1].yaxis.label.set_size(20) ##colorbar label\n",
        "    cax = plt.gcf().axes[-1]  ##colorbar ticks\n",
        "    cax.tick_params(labelsize=20) ## colorbar ticks\n",
        "    plt.savefig(f'confusion-matrix-{model}.png',dpi=300)"
      ],
      "metadata": {
        "id": "UnW9W0hjrJLu"
      },
      "execution_count": null,
      "outputs": []
    },
    {
      "cell_type": "code",
      "source": [
        "conf_mat = confusion_matrix(y_test,y_pred)\n",
        "normalized_confusion_matrix(y_test,conf_mat, 'dnn')"
      ],
      "metadata": {
        "colab": {
          "base_uri": "https://localhost:8080/",
          "height": 351
        },
        "id": "r9zCB6K2rqRE",
        "outputId": "f6e4e68b-aa33-4c5e-f060-20d3d7d5e4d5"
      },
      "execution_count": null,
      "outputs": [
        {
          "output_type": "display_data",
          "data": {
            "text/plain": [
              "<Figure size 432x360 with 2 Axes>"
            ],
            "image/png": "[encoded data removed]"
          },
          "metadata": {
            "needs_background": "light"
          }
        }
      ]
    },
    {
      "cell_type": "code",
      "source": [
        "model.summary()"
      ],
      "metadata": {
        "colab": {
          "base_uri": "https://localhost:8080/"
        },
        "id": "j04GGyQEoG1F",
        "outputId": "029c81b3-decd-44ab-887d-d3c67a4c4c6e"
      },
      "execution_count": null,
      "outputs": [
        {
          "output_type": "stream",
          "name": "stdout",
          "text": [
            "Model: \"sequential_3\"\n",
            "_________________________________________________________________\n",
            " Layer (type)                Output Shape              Param #   \n",
            "=================================================================\n",
            " dense_9 (Dense)             (None, 128)               2176      \n",
            "                                                                 \n",
            " dropout_6 (Dropout)         (None, 128)               0         \n",
            "                                                                 \n",
            " dense_10 (Dense)            (None, 32)                4128      \n",
            "                                                                 \n",
            " dropout_7 (Dropout)         (None, 32)                0         \n",
            "                                                                 \n",
            " dense_11 (Dense)            (None, 1)                 33        \n",
            "                                                                 \n",
            "=================================================================\n",
            "Total params: 6,337\n",
            "Trainable params: 6,337\n",
            "Non-trainable params: 0\n",
            "_________________________________________________________________\n"
          ]
        }
      ]
    },
    {
      "cell_type": "code",
      "source": [
        "tf.saved_model.save(\n",
        "    model,\n",
        "    export_dir = \"/tmp/myModel\",\n",
        ")"
      ],
      "metadata": {
        "id": "azt5PZJTsIJ4",
        "outputId": "f2be89cf-ed27-44b0-9672-f244dee5dcf2",
        "colab": {
          "base_uri": "https://localhost:8080/"
        }
      },
      "execution_count": null,
      "outputs": [
        {
          "output_type": "stream",
          "name": "stdout",
          "text": [
            "INFO:tensorflow:Assets written to: /tmp/myModel/assets\n"
          ]
        }
      ]
    },
    {
      "cell_type": "code",
      "source": [
        "model.save('model.h5')"
      ],
      "metadata": {
        "id": "ET3jrCNZIhtp"
      },
      "execution_count": null,
      "outputs": []
    }
  ]
}