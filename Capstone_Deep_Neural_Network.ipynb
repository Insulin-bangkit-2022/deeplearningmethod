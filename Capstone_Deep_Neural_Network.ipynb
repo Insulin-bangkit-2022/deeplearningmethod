{
  "nbformat": 4,
  "nbformat_minor": 0,
  "metadata": {
    "colab": {
      "name": "Copy of Capstone Deep Neural Network",
      "provenance": [],
      "collapsed_sections": [],
      "include_colab_link": true
    },
    "kernelspec": {
      "name": "python3",
      "display_name": "Python 3"
    },
    "language_info": {
      "name": "python"
    }
  },
  "cells": [
    {
      "cell_type": "markdown",
      "metadata": {
        "id": "view-in-github",
        "colab_type": "text"
      },
      "source": [
        "<a href=\"https://colab.research.google.com/github/Insulin-bangkit-2022/deeplearningmethod/blob/main/Capstone_Deep_Neural_Network.ipynb\" target=\"_parent\"><img src=\"https://colab.research.google.com/assets/colab-badge.svg\" alt=\"Open In Colab\"/></a>"
      ]
    },
    {
      "cell_type": "markdown",
      "source": [
        "**Import Libraries**"
      ],
      "metadata": {
        "id": "TU94yADPye0c"
      }
    },
    {
      "cell_type": "code",
      "execution_count": 76,
      "metadata": {
        "id": "s5SSMF1qjq_E"
      },
      "outputs": [],
      "source": [
        "import pandas as pd \n",
        "import matplotlib.pyplot as plt\n",
        "import seaborn as sns\n",
        "import tensorflow as tf\n",
        "import numpy as np\n",
        "import os\n",
        "import pickle\n",
        "from google.colab import drive\n",
        "from sklearn.model_selection import train_test_split\n",
        "from sklearn.metrics import confusion_matrix,accuracy_score\n",
        "from keras.models import load_model\n",
        "%matplotlib inline"
      ]
    },
    {
      "cell_type": "markdown",
      "source": [
        "**Import Diabetes Dataset from Kaggle**\n",
        "\n",
        "Diabetes dataset is taken from kaggle and put in the team's github repository"
      ],
      "metadata": {
        "id": "fNuGEZI4yla5"
      }
    },
    {
      "cell_type": "code",
      "source": [
        "url = 'https://raw.githubusercontent.com/Insulin-bangkit-2022/deeplearningmethod/main/diabetes_data.csv'\n",
        "data = pd.read_csv(url, delimiter = ';')\n",
        "data"
      ],
      "metadata": {
        "id": "OyXuTTzA84a8",
        "outputId": "1510c525-ecbe-4e60-dc74-fdf39834ab40",
        "colab": {
          "base_uri": "https://localhost:8080/",
          "height": 488
        }
      },
      "execution_count": 77,
      "outputs": [
        {
          "output_type": "execute_result",
          "data": {
            "text/plain": [
              "     age  gender  polyuria  polydipsia  sudden_weight_loss  weakness  \\\n",
              "0     40    Male         0           1                   0         1   \n",
              "1     58    Male         0           0                   0         1   \n",
              "2     41    Male         1           0                   0         1   \n",
              "3     45    Male         0           0                   1         1   \n",
              "4     60    Male         1           1                   1         1   \n",
              "..   ...     ...       ...         ...                 ...       ...   \n",
              "515   39  Female         1           1                   1         0   \n",
              "516   48  Female         1           1                   1         1   \n",
              "517   58  Female         1           1                   1         1   \n",
              "518   32  Female         0           0                   0         1   \n",
              "519   42    Male         0           0                   0         0   \n",
              "\n",
              "     polyphagia  genital_thrush  visual_blurring  itching  irritability  \\\n",
              "0             0               0                0        1             0   \n",
              "1             0               0                1        0             0   \n",
              "2             1               0                0        1             0   \n",
              "3             1               1                0        1             0   \n",
              "4             1               0                1        1             1   \n",
              "..          ...             ...              ...      ...           ...   \n",
              "515           1               0                0        1             0   \n",
              "516           1               0                0        1             1   \n",
              "517           1               0                1        0             0   \n",
              "518           0               0                1        1             0   \n",
              "519           0               0                0        0             0   \n",
              "\n",
              "     delayed_healing  partial_paresis  muscle_stiffness  alopecia  obesity  \\\n",
              "0                  1                0                 1         1        1   \n",
              "1                  0                1                 0         1        0   \n",
              "2                  1                0                 1         1        0   \n",
              "3                  1                0                 0         0        0   \n",
              "4                  1                1                 1         1        1   \n",
              "..               ...              ...               ...       ...      ...   \n",
              "515                1                1                 0         0        0   \n",
              "516                1                1                 0         0        0   \n",
              "517                0                1                 1         0        1   \n",
              "518                1                0                 0         1        0   \n",
              "519                0                0                 0         0        0   \n",
              "\n",
              "     class  \n",
              "0        1  \n",
              "1        1  \n",
              "2        1  \n",
              "3        1  \n",
              "4        1  \n",
              "..     ...  \n",
              "515      1  \n",
              "516      1  \n",
              "517      1  \n",
              "518      0  \n",
              "519      0  \n",
              "\n",
              "[520 rows x 17 columns]"
            ],
            "text/html": [
              "\n",
              "  <div id=\"df-0b74f53a-ff59-4532-b24d-1d317243a286\">\n",
              "    <div class=\"colab-df-container\">\n",
              "      <div>\n",
              "<style scoped>\n",
              "    .dataframe tbody tr th:only-of-type {\n",
              "        vertical-align: middle;\n",
              "    }\n",
              "\n",
              "    .dataframe tbody tr th {\n",
              "        vertical-align: top;\n",
              "    }\n",
              "\n",
              "    .dataframe thead th {\n",
              "        text-align: right;\n",
              "    }\n",
              "</style>\n",
              "<table border=\"1\" class=\"dataframe\">\n",
              "  <thead>\n",
              "    <tr style=\"text-align: right;\">\n",
              "      <th></th>\n",
              "      <th>age</th>\n",
              "      <th>gender</th>\n",
              "      <th>polyuria</th>\n",
              "      <th>polydipsia</th>\n",
              "      <th>sudden_weight_loss</th>\n",
              "      <th>weakness</th>\n",
              "      <th>polyphagia</th>\n",
              "      <th>genital_thrush</th>\n",
              "      <th>visual_blurring</th>\n",
              "      <th>itching</th>\n",
              "      <th>irritability</th>\n",
              "      <th>delayed_healing</th>\n",
              "      <th>partial_paresis</th>\n",
              "      <th>muscle_stiffness</th>\n",
              "      <th>alopecia</th>\n",
              "      <th>obesity</th>\n",
              "      <th>class</th>\n",
              "    </tr>\n",
              "  </thead>\n",
              "  <tbody>\n",
              "    <tr>\n",
              "      <th>0</th>\n",
              "      <td>40</td>\n",
              "      <td>Male</td>\n",
              "      <td>0</td>\n",
              "      <td>1</td>\n",
              "      <td>0</td>\n",
              "      <td>1</td>\n",
              "      <td>0</td>\n",
              "      <td>0</td>\n",
              "      <td>0</td>\n",
              "      <td>1</td>\n",
              "      <td>0</td>\n",
              "      <td>1</td>\n",
              "      <td>0</td>\n",
              "      <td>1</td>\n",
              "      <td>1</td>\n",
              "      <td>1</td>\n",
              "      <td>1</td>\n",
              "    </tr>\n",
              "    <tr>\n",
              "      <th>1</th>\n",
              "      <td>58</td>\n",
              "      <td>Male</td>\n",
              "      <td>0</td>\n",
              "      <td>0</td>\n",
              "      <td>0</td>\n",
              "      <td>1</td>\n",
              "      <td>0</td>\n",
              "      <td>0</td>\n",
              "      <td>1</td>\n",
              "      <td>0</td>\n",
              "      <td>0</td>\n",
              "      <td>0</td>\n",
              "      <td>1</td>\n",
              "      <td>0</td>\n",
              "      <td>1</td>\n",
              "      <td>0</td>\n",
              "      <td>1</td>\n",
              "    </tr>\n",
              "    <tr>\n",
              "      <th>2</th>\n",
              "      <td>41</td>\n",
              "      <td>Male</td>\n",
              "      <td>1</td>\n",
              "      <td>0</td>\n",
              "      <td>0</td>\n",
              "      <td>1</td>\n",
              "      <td>1</td>\n",
              "      <td>0</td>\n",
              "      <td>0</td>\n",
              "      <td>1</td>\n",
              "      <td>0</td>\n",
              "      <td>1</td>\n",
              "      <td>0</td>\n",
              "      <td>1</td>\n",
              "      <td>1</td>\n",
              "      <td>0</td>\n",
              "      <td>1</td>\n",
              "    </tr>\n",
              "    <tr>\n",
              "      <th>3</th>\n",
              "      <td>45</td>\n",
              "      <td>Male</td>\n",
              "      <td>0</td>\n",
              "      <td>0</td>\n",
              "      <td>1</td>\n",
              "      <td>1</td>\n",
              "      <td>1</td>\n",
              "      <td>1</td>\n",
              "      <td>0</td>\n",
              "      <td>1</td>\n",
              "      <td>0</td>\n",
              "      <td>1</td>\n",
              "      <td>0</td>\n",
              "      <td>0</td>\n",
              "      <td>0</td>\n",
              "      <td>0</td>\n",
              "      <td>1</td>\n",
              "    </tr>\n",
              "    <tr>\n",
              "      <th>4</th>\n",
              "      <td>60</td>\n",
              "      <td>Male</td>\n",
              "      <td>1</td>\n",
              "      <td>1</td>\n",
              "      <td>1</td>\n",
              "      <td>1</td>\n",
              "      <td>1</td>\n",
              "      <td>0</td>\n",
              "      <td>1</td>\n",
              "      <td>1</td>\n",
              "      <td>1</td>\n",
              "      <td>1</td>\n",
              "      <td>1</td>\n",
              "      <td>1</td>\n",
              "      <td>1</td>\n",
              "      <td>1</td>\n",
              "      <td>1</td>\n",
              "    </tr>\n",
              "    <tr>\n",
              "      <th>...</th>\n",
              "      <td>...</td>\n",
              "      <td>...</td>\n",
              "      <td>...</td>\n",
              "      <td>...</td>\n",
              "      <td>...</td>\n",
              "      <td>...</td>\n",
              "      <td>...</td>\n",
              "      <td>...</td>\n",
              "      <td>...</td>\n",
              "      <td>...</td>\n",
              "      <td>...</td>\n",
              "      <td>...</td>\n",
              "      <td>...</td>\n",
              "      <td>...</td>\n",
              "      <td>...</td>\n",
              "      <td>...</td>\n",
              "      <td>...</td>\n",
              "    </tr>\n",
              "    <tr>\n",
              "      <th>515</th>\n",
              "      <td>39</td>\n",
              "      <td>Female</td>\n",
              "      <td>1</td>\n",
              "      <td>1</td>\n",
              "      <td>1</td>\n",
              "      <td>0</td>\n",
              "      <td>1</td>\n",
              "      <td>0</td>\n",
              "      <td>0</td>\n",
              "      <td>1</td>\n",
              "      <td>0</td>\n",
              "      <td>1</td>\n",
              "      <td>1</td>\n",
              "      <td>0</td>\n",
              "      <td>0</td>\n",
              "      <td>0</td>\n",
              "      <td>1</td>\n",
              "    </tr>\n",
              "    <tr>\n",
              "      <th>516</th>\n",
              "      <td>48</td>\n",
              "      <td>Female</td>\n",
              "      <td>1</td>\n",
              "      <td>1</td>\n",
              "      <td>1</td>\n",
              "      <td>1</td>\n",
              "      <td>1</td>\n",
              "      <td>0</td>\n",
              "      <td>0</td>\n",
              "      <td>1</td>\n",
              "      <td>1</td>\n",
              "      <td>1</td>\n",
              "      <td>1</td>\n",
              "      <td>0</td>\n",
              "      <td>0</td>\n",
              "      <td>0</td>\n",
              "      <td>1</td>\n",
              "    </tr>\n",
              "    <tr>\n",
              "      <th>517</th>\n",
              "      <td>58</td>\n",
              "      <td>Female</td>\n",
              "      <td>1</td>\n",
              "      <td>1</td>\n",
              "      <td>1</td>\n",
              "      <td>1</td>\n",
              "      <td>1</td>\n",
              "      <td>0</td>\n",
              "      <td>1</td>\n",
              "      <td>0</td>\n",
              "      <td>0</td>\n",
              "      <td>0</td>\n",
              "      <td>1</td>\n",
              "      <td>1</td>\n",
              "      <td>0</td>\n",
              "      <td>1</td>\n",
              "      <td>1</td>\n",
              "    </tr>\n",
              "    <tr>\n",
              "      <th>518</th>\n",
              "      <td>32</td>\n",
              "      <td>Female</td>\n",
              "      <td>0</td>\n",
              "      <td>0</td>\n",
              "      <td>0</td>\n",
              "      <td>1</td>\n",
              "      <td>0</td>\n",
              "      <td>0</td>\n",
              "      <td>1</td>\n",
              "      <td>1</td>\n",
              "      <td>0</td>\n",
              "      <td>1</td>\n",
              "      <td>0</td>\n",
              "      <td>0</td>\n",
              "      <td>1</td>\n",
              "      <td>0</td>\n",
              "      <td>0</td>\n",
              "    </tr>\n",
              "    <tr>\n",
              "      <th>519</th>\n",
              "      <td>42</td>\n",
              "      <td>Male</td>\n",
              "      <td>0</td>\n",
              "      <td>0</td>\n",
              "      <td>0</td>\n",
              "      <td>0</td>\n",
              "      <td>0</td>\n",
              "      <td>0</td>\n",
              "      <td>0</td>\n",
              "      <td>0</td>\n",
              "      <td>0</td>\n",
              "      <td>0</td>\n",
              "      <td>0</td>\n",
              "      <td>0</td>\n",
              "      <td>0</td>\n",
              "      <td>0</td>\n",
              "      <td>0</td>\n",
              "    </tr>\n",
              "  </tbody>\n",
              "</table>\n",
              "<p>520 rows × 17 columns</p>\n",
              "</div>\n",
              "      <button class=\"colab-df-convert\" onclick=\"convertToInteractive('df-0b74f53a-ff59-4532-b24d-1d317243a286')\"\n",
              "              title=\"Convert this dataframe to an interactive table.\"\n",
              "              style=\"display:none;\">\n",
              "        \n",
              "  <svg xmlns=\"http://www.w3.org/2000/svg\" height=\"24px\"viewBox=\"0 0 24 24\"\n",
              "       width=\"24px\">\n",
              "    <path d=\"M0 0h24v24H0V0z\" fill=\"none\"/>\n",
              "    <path d=\"M18.56 5.44l.94 2.06.94-2.06 2.06-.94-2.06-.94-.94-2.06-.94 2.06-2.06.94zm-11 1L8.5 8.5l.94-2.06 2.06-.94-2.06-.94L8.5 2.5l-.94 2.06-2.06.94zm10 10l.94 2.06.94-2.06 2.06-.94-2.06-.94-.94-2.06-.94 2.06-2.06.94z\"/><path d=\"M17.41 7.96l-1.37-1.37c-.4-.4-.92-.59-1.43-.59-.52 0-1.04.2-1.43.59L10.3 9.45l-7.72 7.72c-.78.78-.78 2.05 0 2.83L4 21.41c.39.39.9.59 1.41.59.51 0 1.02-.2 1.41-.59l7.78-7.78 2.81-2.81c.8-.78.8-2.07 0-2.86zM5.41 20L4 18.59l7.72-7.72 1.47 1.35L5.41 20z\"/>\n",
              "  </svg>\n",
              "      </button>\n",
              "      \n",
              "  <style>\n",
              "    .colab-df-container {\n",
              "      display:flex;\n",
              "      flex-wrap:wrap;\n",
              "      gap: 12px;\n",
              "    }\n",
              "\n",
              "    .colab-df-convert {\n",
              "      background-color: #E8F0FE;\n",
              "      border: none;\n",
              "      border-radius: 50%;\n",
              "      cursor: pointer;\n",
              "      display: none;\n",
              "      fill: #1967D2;\n",
              "      height: 32px;\n",
              "      padding: 0 0 0 0;\n",
              "      width: 32px;\n",
              "    }\n",
              "\n",
              "    .colab-df-convert:hover {\n",
              "      background-color: #E2EBFA;\n",
              "      box-shadow: 0px 1px 2px rgba(60, 64, 67, 0.3), 0px 1px 3px 1px rgba(60, 64, 67, 0.15);\n",
              "      fill: #174EA6;\n",
              "    }\n",
              "\n",
              "    [theme=dark] .colab-df-convert {\n",
              "      background-color: #3B4455;\n",
              "      fill: #D2E3FC;\n",
              "    }\n",
              "\n",
              "    [theme=dark] .colab-df-convert:hover {\n",
              "      background-color: #434B5C;\n",
              "      box-shadow: 0px 1px 3px 1px rgba(0, 0, 0, 0.15);\n",
              "      filter: drop-shadow(0px 1px 2px rgba(0, 0, 0, 0.3));\n",
              "      fill: #FFFFFF;\n",
              "    }\n",
              "  </style>\n",
              "\n",
              "      <script>\n",
              "        const buttonEl =\n",
              "          document.querySelector('#df-0b74f53a-ff59-4532-b24d-1d317243a286 button.colab-df-convert');\n",
              "        buttonEl.style.display =\n",
              "          google.colab.kernel.accessAllowed ? 'block' : 'none';\n",
              "\n",
              "        async function convertToInteractive(key) {\n",
              "          const element = document.querySelector('#df-0b74f53a-ff59-4532-b24d-1d317243a286');\n",
              "          const dataTable =\n",
              "            await google.colab.kernel.invokeFunction('convertToInteractive',\n",
              "                                                     [key], {});\n",
              "          if (!dataTable) return;\n",
              "\n",
              "          const docLinkHtml = 'Like what you see? Visit the ' +\n",
              "            '<a target=\"_blank\" href=https://colab.research.google.com/notebooks/data_table.ipynb>data table notebook</a>'\n",
              "            + ' to learn more about interactive tables.';\n",
              "          element.innerHTML = '';\n",
              "          dataTable['output_type'] = 'display_data';\n",
              "          await google.colab.output.renderOutput(dataTable, element);\n",
              "          const docLink = document.createElement('div');\n",
              "          docLink.innerHTML = docLinkHtml;\n",
              "          element.appendChild(docLink);\n",
              "        }\n",
              "      </script>\n",
              "    </div>\n",
              "  </div>\n",
              "  "
            ]
          },
          "metadata": {},
          "execution_count": 77
        }
      ]
    },
    {
      "cell_type": "code",
      "source": [
        "print (data.shape)"
      ],
      "metadata": {
        "colab": {
          "base_uri": "https://localhost:8080/"
        },
        "id": "bOom_CKIkHxv",
        "outputId": "af4096f6-5708-406c-d836-a8fe3735b4d7"
      },
      "execution_count": 78,
      "outputs": [
        {
          "output_type": "stream",
          "name": "stdout",
          "text": [
            "(520, 17)\n"
          ]
        }
      ]
    },
    {
      "cell_type": "markdown",
      "source": [
        "Changing gender (string) to int"
      ],
      "metadata": {
        "id": "DqtSk-7P9v2i"
      }
    },
    {
      "cell_type": "code",
      "source": [
        "data[\"gender\"] = data[\"gender\"].apply({\"Male\":1, \"Female\":0}.get)\n",
        "data.head()"
      ],
      "metadata": {
        "colab": {
          "base_uri": "https://localhost:8080/",
          "height": 270
        },
        "id": "gRJpDQLDmPuh",
        "outputId": "1d5d16e7-a6e3-4289-92fd-3310318cb509"
      },
      "execution_count": 79,
      "outputs": [
        {
          "output_type": "execute_result",
          "data": {
            "text/plain": [
              "   age  gender  polyuria  polydipsia  sudden_weight_loss  weakness  \\\n",
              "0   40       1         0           1                   0         1   \n",
              "1   58       1         0           0                   0         1   \n",
              "2   41       1         1           0                   0         1   \n",
              "3   45       1         0           0                   1         1   \n",
              "4   60       1         1           1                   1         1   \n",
              "\n",
              "   polyphagia  genital_thrush  visual_blurring  itching  irritability  \\\n",
              "0           0               0                0        1             0   \n",
              "1           0               0                1        0             0   \n",
              "2           1               0                0        1             0   \n",
              "3           1               1                0        1             0   \n",
              "4           1               0                1        1             1   \n",
              "\n",
              "   delayed_healing  partial_paresis  muscle_stiffness  alopecia  obesity  \\\n",
              "0                1                0                 1         1        1   \n",
              "1                0                1                 0         1        0   \n",
              "2                1                0                 1         1        0   \n",
              "3                1                0                 0         0        0   \n",
              "4                1                1                 1         1        1   \n",
              "\n",
              "   class  \n",
              "0      1  \n",
              "1      1  \n",
              "2      1  \n",
              "3      1  \n",
              "4      1  "
            ],
            "text/html": [
              "\n",
              "  <div id=\"df-1957d896-7b2e-4ae1-bf7a-fbf7dda574f2\">\n",
              "    <div class=\"colab-df-container\">\n",
              "      <div>\n",
              "<style scoped>\n",
              "    .dataframe tbody tr th:only-of-type {\n",
              "        vertical-align: middle;\n",
              "    }\n",
              "\n",
              "    .dataframe tbody tr th {\n",
              "        vertical-align: top;\n",
              "    }\n",
              "\n",
              "    .dataframe thead th {\n",
              "        text-align: right;\n",
              "    }\n",
              "</style>\n",
              "<table border=\"1\" class=\"dataframe\">\n",
              "  <thead>\n",
              "    <tr style=\"text-align: right;\">\n",
              "      <th></th>\n",
              "      <th>age</th>\n",
              "      <th>gender</th>\n",
              "      <th>polyuria</th>\n",
              "      <th>polydipsia</th>\n",
              "      <th>sudden_weight_loss</th>\n",
              "      <th>weakness</th>\n",
              "      <th>polyphagia</th>\n",
              "      <th>genital_thrush</th>\n",
              "      <th>visual_blurring</th>\n",
              "      <th>itching</th>\n",
              "      <th>irritability</th>\n",
              "      <th>delayed_healing</th>\n",
              "      <th>partial_paresis</th>\n",
              "      <th>muscle_stiffness</th>\n",
              "      <th>alopecia</th>\n",
              "      <th>obesity</th>\n",
              "      <th>class</th>\n",
              "    </tr>\n",
              "  </thead>\n",
              "  <tbody>\n",
              "    <tr>\n",
              "      <th>0</th>\n",
              "      <td>40</td>\n",
              "      <td>1</td>\n",
              "      <td>0</td>\n",
              "      <td>1</td>\n",
              "      <td>0</td>\n",
              "      <td>1</td>\n",
              "      <td>0</td>\n",
              "      <td>0</td>\n",
              "      <td>0</td>\n",
              "      <td>1</td>\n",
              "      <td>0</td>\n",
              "      <td>1</td>\n",
              "      <td>0</td>\n",
              "      <td>1</td>\n",
              "      <td>1</td>\n",
              "      <td>1</td>\n",
              "      <td>1</td>\n",
              "    </tr>\n",
              "    <tr>\n",
              "      <th>1</th>\n",
              "      <td>58</td>\n",
              "      <td>1</td>\n",
              "      <td>0</td>\n",
              "      <td>0</td>\n",
              "      <td>0</td>\n",
              "      <td>1</td>\n",
              "      <td>0</td>\n",
              "      <td>0</td>\n",
              "      <td>1</td>\n",
              "      <td>0</td>\n",
              "      <td>0</td>\n",
              "      <td>0</td>\n",
              "      <td>1</td>\n",
              "      <td>0</td>\n",
              "      <td>1</td>\n",
              "      <td>0</td>\n",
              "      <td>1</td>\n",
              "    </tr>\n",
              "    <tr>\n",
              "      <th>2</th>\n",
              "      <td>41</td>\n",
              "      <td>1</td>\n",
              "      <td>1</td>\n",
              "      <td>0</td>\n",
              "      <td>0</td>\n",
              "      <td>1</td>\n",
              "      <td>1</td>\n",
              "      <td>0</td>\n",
              "      <td>0</td>\n",
              "      <td>1</td>\n",
              "      <td>0</td>\n",
              "      <td>1</td>\n",
              "      <td>0</td>\n",
              "      <td>1</td>\n",
              "      <td>1</td>\n",
              "      <td>0</td>\n",
              "      <td>1</td>\n",
              "    </tr>\n",
              "    <tr>\n",
              "      <th>3</th>\n",
              "      <td>45</td>\n",
              "      <td>1</td>\n",
              "      <td>0</td>\n",
              "      <td>0</td>\n",
              "      <td>1</td>\n",
              "      <td>1</td>\n",
              "      <td>1</td>\n",
              "      <td>1</td>\n",
              "      <td>0</td>\n",
              "      <td>1</td>\n",
              "      <td>0</td>\n",
              "      <td>1</td>\n",
              "      <td>0</td>\n",
              "      <td>0</td>\n",
              "      <td>0</td>\n",
              "      <td>0</td>\n",
              "      <td>1</td>\n",
              "    </tr>\n",
              "    <tr>\n",
              "      <th>4</th>\n",
              "      <td>60</td>\n",
              "      <td>1</td>\n",
              "      <td>1</td>\n",
              "      <td>1</td>\n",
              "      <td>1</td>\n",
              "      <td>1</td>\n",
              "      <td>1</td>\n",
              "      <td>0</td>\n",
              "      <td>1</td>\n",
              "      <td>1</td>\n",
              "      <td>1</td>\n",
              "      <td>1</td>\n",
              "      <td>1</td>\n",
              "      <td>1</td>\n",
              "      <td>1</td>\n",
              "      <td>1</td>\n",
              "      <td>1</td>\n",
              "    </tr>\n",
              "  </tbody>\n",
              "</table>\n",
              "</div>\n",
              "      <button class=\"colab-df-convert\" onclick=\"convertToInteractive('df-1957d896-7b2e-4ae1-bf7a-fbf7dda574f2')\"\n",
              "              title=\"Convert this dataframe to an interactive table.\"\n",
              "              style=\"display:none;\">\n",
              "        \n",
              "  <svg xmlns=\"http://www.w3.org/2000/svg\" height=\"24px\"viewBox=\"0 0 24 24\"\n",
              "       width=\"24px\">\n",
              "    <path d=\"M0 0h24v24H0V0z\" fill=\"none\"/>\n",
              "    <path d=\"M18.56 5.44l.94 2.06.94-2.06 2.06-.94-2.06-.94-.94-2.06-.94 2.06-2.06.94zm-11 1L8.5 8.5l.94-2.06 2.06-.94-2.06-.94L8.5 2.5l-.94 2.06-2.06.94zm10 10l.94 2.06.94-2.06 2.06-.94-2.06-.94-.94-2.06-.94 2.06-2.06.94z\"/><path d=\"M17.41 7.96l-1.37-1.37c-.4-.4-.92-.59-1.43-.59-.52 0-1.04.2-1.43.59L10.3 9.45l-7.72 7.72c-.78.78-.78 2.05 0 2.83L4 21.41c.39.39.9.59 1.41.59.51 0 1.02-.2 1.41-.59l7.78-7.78 2.81-2.81c.8-.78.8-2.07 0-2.86zM5.41 20L4 18.59l7.72-7.72 1.47 1.35L5.41 20z\"/>\n",
              "  </svg>\n",
              "      </button>\n",
              "      \n",
              "  <style>\n",
              "    .colab-df-container {\n",
              "      display:flex;\n",
              "      flex-wrap:wrap;\n",
              "      gap: 12px;\n",
              "    }\n",
              "\n",
              "    .colab-df-convert {\n",
              "      background-color: #E8F0FE;\n",
              "      border: none;\n",
              "      border-radius: 50%;\n",
              "      cursor: pointer;\n",
              "      display: none;\n",
              "      fill: #1967D2;\n",
              "      height: 32px;\n",
              "      padding: 0 0 0 0;\n",
              "      width: 32px;\n",
              "    }\n",
              "\n",
              "    .colab-df-convert:hover {\n",
              "      background-color: #E2EBFA;\n",
              "      box-shadow: 0px 1px 2px rgba(60, 64, 67, 0.3), 0px 1px 3px 1px rgba(60, 64, 67, 0.15);\n",
              "      fill: #174EA6;\n",
              "    }\n",
              "\n",
              "    [theme=dark] .colab-df-convert {\n",
              "      background-color: #3B4455;\n",
              "      fill: #D2E3FC;\n",
              "    }\n",
              "\n",
              "    [theme=dark] .colab-df-convert:hover {\n",
              "      background-color: #434B5C;\n",
              "      box-shadow: 0px 1px 3px 1px rgba(0, 0, 0, 0.15);\n",
              "      filter: drop-shadow(0px 1px 2px rgba(0, 0, 0, 0.3));\n",
              "      fill: #FFFFFF;\n",
              "    }\n",
              "  </style>\n",
              "\n",
              "      <script>\n",
              "        const buttonEl =\n",
              "          document.querySelector('#df-1957d896-7b2e-4ae1-bf7a-fbf7dda574f2 button.colab-df-convert');\n",
              "        buttonEl.style.display =\n",
              "          google.colab.kernel.accessAllowed ? 'block' : 'none';\n",
              "\n",
              "        async function convertToInteractive(key) {\n",
              "          const element = document.querySelector('#df-1957d896-7b2e-4ae1-bf7a-fbf7dda574f2');\n",
              "          const dataTable =\n",
              "            await google.colab.kernel.invokeFunction('convertToInteractive',\n",
              "                                                     [key], {});\n",
              "          if (!dataTable) return;\n",
              "\n",
              "          const docLinkHtml = 'Like what you see? Visit the ' +\n",
              "            '<a target=\"_blank\" href=https://colab.research.google.com/notebooks/data_table.ipynb>data table notebook</a>'\n",
              "            + ' to learn more about interactive tables.';\n",
              "          element.innerHTML = '';\n",
              "          dataTable['output_type'] = 'display_data';\n",
              "          await google.colab.output.renderOutput(dataTable, element);\n",
              "          const docLink = document.createElement('div');\n",
              "          docLink.innerHTML = docLinkHtml;\n",
              "          element.appendChild(docLink);\n",
              "        }\n",
              "      </script>\n",
              "    </div>\n",
              "  </div>\n",
              "  "
            ]
          },
          "metadata": {},
          "execution_count": 79
        }
      ]
    },
    {
      "cell_type": "code",
      "source": [
        "sns.countplot(x=\"class\", data = data)"
      ],
      "metadata": {
        "id": "y2VMei0D-U6u",
        "outputId": "be86bc88-2748-4947-a165-f972288fb17f",
        "colab": {
          "base_uri": "https://localhost:8080/",
          "height": 296
        }
      },
      "execution_count": 80,
      "outputs": [
        {
          "output_type": "execute_result",
          "data": {
            "text/plain": [
              "<matplotlib.axes._subplots.AxesSubplot at 0x7fd67c3b6a90>"
            ]
          },
          "metadata": {},
          "execution_count": 80
        },
        {
          "output_type": "display_data",
          "data": {
            "text/plain": [
              "<Figure size 432x288 with 1 Axes>"
            ],
            "image/png": "[encoded data removed]"
          },
          "metadata": {
            "needs_background": "light"
          }
        }
      ]
    },
    {
      "cell_type": "markdown",
      "source": [
        "**Plotting Heat Map**"
      ],
      "metadata": {
        "id": "AC25zIaIy4nh"
      }
    },
    {
      "cell_type": "code",
      "source": [
        "tc = data.corr()\n",
        "sns.heatmap(tc,annot = False,cmap=\"coolwarm\")"
      ],
      "metadata": {
        "colab": {
          "base_uri": "https://localhost:8080/",
          "height": 376
        },
        "id": "mBSAwOYFkMKw",
        "outputId": "4b11513b-85ae-4181-9485-07c3a1e2b205"
      },
      "execution_count": 81,
      "outputs": [
        {
          "output_type": "execute_result",
          "data": {
            "text/plain": [
              "<matplotlib.axes._subplots.AxesSubplot at 0x7fd670bff890>"
            ]
          },
          "metadata": {},
          "execution_count": 81
        },
        {
          "output_type": "display_data",
          "data": {
            "text/plain": [
              "<Figure size 432x288 with 2 Axes>"
            ],
            "image/png": "[encoded data removed]"
          },
          "metadata": {
            "needs_background": "light"
          }
        }
      ]
    },
    {
      "cell_type": "code",
      "source": [
        "data.info()"
      ],
      "metadata": {
        "colab": {
          "base_uri": "https://localhost:8080/"
        },
        "id": "LMzXXfGRmFEB",
        "outputId": "14175849-0f99-4dc1-faf1-e5629be5d121"
      },
      "execution_count": 82,
      "outputs": [
        {
          "output_type": "stream",
          "name": "stdout",
          "text": [
            "<class 'pandas.core.frame.DataFrame'>\n",
            "RangeIndex: 520 entries, 0 to 519\n",
            "Data columns (total 17 columns):\n",
            " #   Column              Non-Null Count  Dtype\n",
            "---  ------              --------------  -----\n",
            " 0   age                 520 non-null    int64\n",
            " 1   gender              520 non-null    int64\n",
            " 2   polyuria            520 non-null    int64\n",
            " 3   polydipsia          520 non-null    int64\n",
            " 4   sudden_weight_loss  520 non-null    int64\n",
            " 5   weakness            520 non-null    int64\n",
            " 6   polyphagia          520 non-null    int64\n",
            " 7   genital_thrush      520 non-null    int64\n",
            " 8   visual_blurring     520 non-null    int64\n",
            " 9   itching             520 non-null    int64\n",
            " 10  irritability        520 non-null    int64\n",
            " 11  delayed_healing     520 non-null    int64\n",
            " 12  partial_paresis     520 non-null    int64\n",
            " 13  muscle_stiffness    520 non-null    int64\n",
            " 14  alopecia            520 non-null    int64\n",
            " 15  obesity             520 non-null    int64\n",
            " 16  class               520 non-null    int64\n",
            "dtypes: int64(17)\n",
            "memory usage: 69.2 KB\n"
          ]
        }
      ]
    },
    {
      "cell_type": "markdown",
      "source": [
        "**Split the Dataset Into Training and Test Set**"
      ],
      "metadata": {
        "id": "KfBjL3zuy-UP"
      }
    },
    {
      "cell_type": "code",
      "source": [
        "x = data[data.columns[:-1]]\n",
        "y = data[data.columns[-1]]\n",
        "x_train,x_test,y_train,y_test = train_test_split(x,y,test_size = 0.15,random_state = 10)\n",
        "print(x_train)\n",
        "print(y_train)"
      ],
      "metadata": {
        "colab": {
          "base_uri": "https://localhost:8080/"
        },
        "id": "HpAUhdwomk86",
        "outputId": "eaf2c3b1-90ce-497a-d66f-d84c34148d54"
      },
      "execution_count": 83,
      "outputs": [
        {
          "output_type": "stream",
          "name": "stdout",
          "text": [
            "     age  gender  polyuria  polydipsia  sudden_weight_loss  weakness  \\\n",
            "260   33       1         0           1                   0         0   \n",
            "184   48       0         1           1                   1         0   \n",
            "172   60       1         1           0                   0         0   \n",
            "193   36       1         1           0                   0         1   \n",
            "154   62       1         1           0                   0         1   \n",
            "..   ...     ...       ...         ...                 ...       ...   \n",
            "123   47       1         0           1                   0         0   \n",
            "369   47       1         0           0                   0         0   \n",
            "320   65       0         0           0                   0         1   \n",
            "125   55       1         1           1                   1         1   \n",
            "265   28       0         0           0                   0         0   \n",
            "\n",
            "     polyphagia  genital_thrush  visual_blurring  itching  irritability  \\\n",
            "260           0               0                0        0             0   \n",
            "184           1               1                0        0             1   \n",
            "172           0               0                1        0             0   \n",
            "193           0               1                1        1             0   \n",
            "154           0               1                1        1             1   \n",
            "..          ...             ...              ...      ...           ...   \n",
            "123           0               0                1        1             0   \n",
            "369           0               0                0        1             0   \n",
            "320           0               0                0        1             0   \n",
            "125           1               0                1        0             0   \n",
            "265           0               0                1        0             0   \n",
            "\n",
            "     delayed_healing  partial_paresis  muscle_stiffness  alopecia  obesity  \n",
            "260                0                0                 0         0        0  \n",
            "184                1                0                 1         1        1  \n",
            "172                0                1                 0         1        0  \n",
            "193                1                0                 0         0        0  \n",
            "154                0                1                 1         1        1  \n",
            "..               ...              ...               ...       ...      ...  \n",
            "123                0                0                 0         1        1  \n",
            "369                0                0                 0         1        0  \n",
            "320                1                0                 0         1        0  \n",
            "125                1                1                 0         0        0  \n",
            "265                0                1                 1         0        0  \n",
            "\n",
            "[442 rows x 16 columns]\n",
            "260    1\n",
            "184    1\n",
            "172    1\n",
            "193    1\n",
            "154    1\n",
            "      ..\n",
            "123    1\n",
            "369    0\n",
            "320    0\n",
            "125    1\n",
            "265    1\n",
            "Name: class, Length: 442, dtype: int64\n"
          ]
        }
      ]
    },
    {
      "cell_type": "markdown",
      "source": [
        "**Training Dataset**\n",
        "\n",
        "We build and train our diabetes dataset using Deep Neural Network"
      ],
      "metadata": {
        "id": "V0e7qc-4zHIl"
      }
    },
    {
      "cell_type": "code",
      "source": [
        "model = tf.keras.models.Sequential([\n",
        "  tf.keras.layers.Dense(units = 300, input_dim = 16, activation = \"relu\"),\n",
        "  tf.keras.layers.Dense(units = 200, activation = \"relu\"),\n",
        "  tf.keras.layers.Dense(units = 100, activation = \"relu\"),\n",
        "  tf.keras.layers.Dense(units = 1,activation = \"sigmoid\"),\n",
        "  tf.keras.layers.Flatten()\n",
        "  ])\n",
        "\n",
        "model.compile(optimizer = \"adam\", \n",
        "              loss = \"binary_crossentropy\" , \n",
        "              metrics=[\"accuracy\"])\n",
        "\n",
        "#Here we train our model.\n",
        "history = model.fit(x_train,y_train,epochs = 100,validation_data = (x_test,y_test))\n",
        "#This the inference phase.We try our model on test data.\n",
        "y_pred = model.predict(x_test)\n",
        "y_pred = (y_pred > 0.5)"
      ],
      "metadata": {
        "colab": {
          "base_uri": "https://localhost:8080/"
        },
        "id": "95Tdsk7onrug",
        "outputId": "df54675a-b9c3-45a0-bd7e-70080cb7476d"
      },
      "execution_count": 84,
      "outputs": [
        {
          "output_type": "stream",
          "name": "stdout",
          "text": [
            "Epoch 1/100\n",
            "14/14 [==============================] - 1s 16ms/step - loss: 0.7880 - accuracy: 0.5860 - val_loss: 0.6537 - val_accuracy: 0.6026\n",
            "Epoch 2/100\n",
            "14/14 [==============================] - 0s 6ms/step - loss: 0.6127 - accuracy: 0.6380 - val_loss: 0.5465 - val_accuracy: 0.7821\n",
            "Epoch 3/100\n",
            "14/14 [==============================] - 0s 6ms/step - loss: 0.5407 - accuracy: 0.7557 - val_loss: 0.4597 - val_accuracy: 0.8846\n",
            "Epoch 4/100\n",
            "14/14 [==============================] - 0s 6ms/step - loss: 0.4816 - accuracy: 0.8054 - val_loss: 0.3871 - val_accuracy: 0.9487\n",
            "Epoch 5/100\n",
            "14/14 [==============================] - 0s 6ms/step - loss: 0.4771 - accuracy: 0.7534 - val_loss: 0.3278 - val_accuracy: 0.8462\n",
            "Epoch 6/100\n",
            "14/14 [==============================] - 0s 4ms/step - loss: 0.4192 - accuracy: 0.7873 - val_loss: 0.3283 - val_accuracy: 0.8590\n",
            "Epoch 7/100\n",
            "14/14 [==============================] - 0s 4ms/step - loss: 0.3374 - accuracy: 0.8484 - val_loss: 0.2579 - val_accuracy: 0.8718\n",
            "Epoch 8/100\n",
            "14/14 [==============================] - 0s 5ms/step - loss: 0.3280 - accuracy: 0.8733 - val_loss: 0.2166 - val_accuracy: 0.8846\n",
            "Epoch 9/100\n",
            "14/14 [==============================] - 0s 5ms/step - loss: 0.3008 - accuracy: 0.8733 - val_loss: 0.2153 - val_accuracy: 0.8846\n",
            "Epoch 10/100\n",
            "14/14 [==============================] - 0s 4ms/step - loss: 0.3043 - accuracy: 0.8665 - val_loss: 0.2413 - val_accuracy: 0.9103\n",
            "Epoch 11/100\n",
            "14/14 [==============================] - 0s 5ms/step - loss: 0.2790 - accuracy: 0.8756 - val_loss: 0.2525 - val_accuracy: 0.8590\n",
            "Epoch 12/100\n",
            "14/14 [==============================] - 0s 5ms/step - loss: 0.2411 - accuracy: 0.9005 - val_loss: 0.2491 - val_accuracy: 0.8590\n",
            "Epoch 13/100\n",
            "14/14 [==============================] - 0s 6ms/step - loss: 0.2158 - accuracy: 0.9253 - val_loss: 0.1786 - val_accuracy: 0.8974\n",
            "Epoch 14/100\n",
            "14/14 [==============================] - 0s 6ms/step - loss: 0.2213 - accuracy: 0.9027 - val_loss: 0.1782 - val_accuracy: 0.9231\n",
            "Epoch 15/100\n",
            "14/14 [==============================] - 0s 4ms/step - loss: 0.2240 - accuracy: 0.9118 - val_loss: 0.1785 - val_accuracy: 0.8974\n",
            "Epoch 16/100\n",
            "14/14 [==============================] - 0s 5ms/step - loss: 0.2152 - accuracy: 0.9208 - val_loss: 0.1631 - val_accuracy: 0.9231\n",
            "Epoch 17/100\n",
            "14/14 [==============================] - 0s 6ms/step - loss: 0.2067 - accuracy: 0.9231 - val_loss: 0.2786 - val_accuracy: 0.8590\n",
            "Epoch 18/100\n",
            "14/14 [==============================] - 0s 4ms/step - loss: 0.2444 - accuracy: 0.9072 - val_loss: 0.2010 - val_accuracy: 0.8974\n",
            "Epoch 19/100\n",
            "14/14 [==============================] - 0s 6ms/step - loss: 0.2418 - accuracy: 0.8937 - val_loss: 0.1810 - val_accuracy: 0.9231\n",
            "Epoch 20/100\n",
            "14/14 [==============================] - 0s 4ms/step - loss: 0.2045 - accuracy: 0.9208 - val_loss: 0.1560 - val_accuracy: 0.8974\n",
            "Epoch 21/100\n",
            "14/14 [==============================] - 0s 5ms/step - loss: 0.1875 - accuracy: 0.9186 - val_loss: 0.1644 - val_accuracy: 0.9103\n",
            "Epoch 22/100\n",
            "14/14 [==============================] - 0s 5ms/step - loss: 0.1913 - accuracy: 0.9186 - val_loss: 0.1444 - val_accuracy: 0.9359\n",
            "Epoch 23/100\n",
            "14/14 [==============================] - 0s 6ms/step - loss: 0.1918 - accuracy: 0.9276 - val_loss: 0.1520 - val_accuracy: 0.9103\n",
            "Epoch 24/100\n",
            "14/14 [==============================] - 0s 4ms/step - loss: 0.1924 - accuracy: 0.9186 - val_loss: 0.1429 - val_accuracy: 0.9359\n",
            "Epoch 25/100\n",
            "14/14 [==============================] - 0s 5ms/step - loss: 0.1825 - accuracy: 0.9231 - val_loss: 0.1749 - val_accuracy: 0.9103\n",
            "Epoch 26/100\n",
            "14/14 [==============================] - 0s 6ms/step - loss: 0.2108 - accuracy: 0.9140 - val_loss: 0.1361 - val_accuracy: 0.9487\n",
            "Epoch 27/100\n",
            "14/14 [==============================] - 0s 5ms/step - loss: 0.1901 - accuracy: 0.9140 - val_loss: 0.2268 - val_accuracy: 0.8590\n",
            "Epoch 28/100\n",
            "14/14 [==============================] - 0s 4ms/step - loss: 0.1988 - accuracy: 0.9208 - val_loss: 0.1329 - val_accuracy: 0.9872\n",
            "Epoch 29/100\n",
            "14/14 [==============================] - 0s 6ms/step - loss: 0.1802 - accuracy: 0.9321 - val_loss: 0.1595 - val_accuracy: 0.9103\n",
            "Epoch 30/100\n",
            "14/14 [==============================] - 0s 5ms/step - loss: 0.2019 - accuracy: 0.9231 - val_loss: 0.1877 - val_accuracy: 0.8974\n",
            "Epoch 31/100\n",
            "14/14 [==============================] - 0s 5ms/step - loss: 0.1751 - accuracy: 0.9299 - val_loss: 0.1397 - val_accuracy: 0.9487\n",
            "Epoch 32/100\n",
            "14/14 [==============================] - 0s 5ms/step - loss: 0.1655 - accuracy: 0.9321 - val_loss: 0.1495 - val_accuracy: 0.9103\n",
            "Epoch 33/100\n",
            "14/14 [==============================] - 0s 5ms/step - loss: 0.1695 - accuracy: 0.9276 - val_loss: 0.1806 - val_accuracy: 0.8974\n",
            "Epoch 34/100\n",
            "14/14 [==============================] - 0s 5ms/step - loss: 0.1679 - accuracy: 0.9231 - val_loss: 0.1205 - val_accuracy: 0.9487\n",
            "Epoch 35/100\n",
            "14/14 [==============================] - 0s 5ms/step - loss: 0.1609 - accuracy: 0.9367 - val_loss: 0.1463 - val_accuracy: 0.9103\n",
            "Epoch 36/100\n",
            "14/14 [==============================] - 0s 5ms/step - loss: 0.1657 - accuracy: 0.9367 - val_loss: 0.3865 - val_accuracy: 0.8462\n",
            "Epoch 37/100\n",
            "14/14 [==============================] - 0s 4ms/step - loss: 0.2066 - accuracy: 0.9231 - val_loss: 0.1315 - val_accuracy: 0.9231\n",
            "Epoch 38/100\n",
            "14/14 [==============================] - 0s 5ms/step - loss: 0.1806 - accuracy: 0.9321 - val_loss: 0.1450 - val_accuracy: 0.9231\n",
            "Epoch 39/100\n",
            "14/14 [==============================] - 0s 5ms/step - loss: 0.1502 - accuracy: 0.9299 - val_loss: 0.1228 - val_accuracy: 0.9231\n",
            "Epoch 40/100\n",
            "14/14 [==============================] - 0s 6ms/step - loss: 0.1544 - accuracy: 0.9344 - val_loss: 0.1553 - val_accuracy: 0.9103\n",
            "Epoch 41/100\n",
            "14/14 [==============================] - 0s 4ms/step - loss: 0.1437 - accuracy: 0.9367 - val_loss: 0.1216 - val_accuracy: 0.9487\n",
            "Epoch 42/100\n",
            "14/14 [==============================] - 0s 5ms/step - loss: 0.1531 - accuracy: 0.9412 - val_loss: 0.1147 - val_accuracy: 0.9487\n",
            "Epoch 43/100\n",
            "14/14 [==============================] - 0s 6ms/step - loss: 0.1910 - accuracy: 0.9186 - val_loss: 0.1485 - val_accuracy: 0.9103\n",
            "Epoch 44/100\n",
            "14/14 [==============================] - 0s 6ms/step - loss: 0.1803 - accuracy: 0.9208 - val_loss: 0.1126 - val_accuracy: 0.9487\n",
            "Epoch 45/100\n",
            "14/14 [==============================] - 0s 5ms/step - loss: 0.1373 - accuracy: 0.9434 - val_loss: 0.1444 - val_accuracy: 0.9103\n",
            "Epoch 46/100\n",
            "14/14 [==============================] - 0s 4ms/step - loss: 0.1279 - accuracy: 0.9502 - val_loss: 0.1078 - val_accuracy: 0.9487\n",
            "Epoch 47/100\n",
            "14/14 [==============================] - 0s 5ms/step - loss: 0.1217 - accuracy: 0.9525 - val_loss: 0.1153 - val_accuracy: 0.9487\n",
            "Epoch 48/100\n",
            "14/14 [==============================] - 0s 6ms/step - loss: 0.1326 - accuracy: 0.9502 - val_loss: 0.1213 - val_accuracy: 0.9487\n",
            "Epoch 49/100\n",
            "14/14 [==============================] - 0s 6ms/step - loss: 0.1595 - accuracy: 0.9231 - val_loss: 0.1446 - val_accuracy: 0.9231\n",
            "Epoch 50/100\n",
            "14/14 [==============================] - 0s 5ms/step - loss: 0.1793 - accuracy: 0.9186 - val_loss: 0.2306 - val_accuracy: 0.8590\n",
            "Epoch 51/100\n",
            "14/14 [==============================] - 0s 7ms/step - loss: 0.1481 - accuracy: 0.9389 - val_loss: 0.1933 - val_accuracy: 0.9103\n",
            "Epoch 52/100\n",
            "14/14 [==============================] - 0s 4ms/step - loss: 0.1247 - accuracy: 0.9525 - val_loss: 0.1434 - val_accuracy: 0.9103\n",
            "Epoch 53/100\n",
            "14/14 [==============================] - 0s 5ms/step - loss: 0.1222 - accuracy: 0.9480 - val_loss: 0.1117 - val_accuracy: 0.9487\n",
            "Epoch 54/100\n",
            "14/14 [==============================] - 0s 5ms/step - loss: 0.1090 - accuracy: 0.9661 - val_loss: 0.0887 - val_accuracy: 0.9872\n",
            "Epoch 55/100\n",
            "14/14 [==============================] - 0s 7ms/step - loss: 0.1309 - accuracy: 0.9367 - val_loss: 0.1007 - val_accuracy: 0.9487\n",
            "Epoch 56/100\n",
            "14/14 [==============================] - 0s 5ms/step - loss: 0.1056 - accuracy: 0.9638 - val_loss: 0.0927 - val_accuracy: 0.9487\n",
            "Epoch 57/100\n",
            "14/14 [==============================] - 0s 6ms/step - loss: 0.1037 - accuracy: 0.9593 - val_loss: 0.0761 - val_accuracy: 0.9872\n",
            "Epoch 58/100\n",
            "14/14 [==============================] - 0s 5ms/step - loss: 0.1071 - accuracy: 0.9593 - val_loss: 0.0836 - val_accuracy: 0.9487\n",
            "Epoch 59/100\n",
            "14/14 [==============================] - 0s 5ms/step - loss: 0.0920 - accuracy: 0.9706 - val_loss: 0.1224 - val_accuracy: 0.9615\n",
            "Epoch 60/100\n",
            "14/14 [==============================] - 0s 6ms/step - loss: 0.0990 - accuracy: 0.9548 - val_loss: 0.0887 - val_accuracy: 0.9487\n",
            "Epoch 61/100\n",
            "14/14 [==============================] - 0s 5ms/step - loss: 0.1306 - accuracy: 0.9434 - val_loss: 0.0876 - val_accuracy: 0.9872\n",
            "Epoch 62/100\n",
            "14/14 [==============================] - 0s 5ms/step - loss: 0.1486 - accuracy: 0.9344 - val_loss: 0.1311 - val_accuracy: 0.9359\n",
            "Epoch 63/100\n",
            "14/14 [==============================] - 0s 5ms/step - loss: 0.1228 - accuracy: 0.9548 - val_loss: 0.0879 - val_accuracy: 0.9487\n",
            "Epoch 64/100\n",
            "14/14 [==============================] - 0s 5ms/step - loss: 0.1201 - accuracy: 0.9457 - val_loss: 0.0969 - val_accuracy: 0.9744\n",
            "Epoch 65/100\n",
            "14/14 [==============================] - 0s 5ms/step - loss: 0.1062 - accuracy: 0.9525 - val_loss: 0.0743 - val_accuracy: 0.9487\n",
            "Epoch 66/100\n",
            "14/14 [==============================] - 0s 4ms/step - loss: 0.0882 - accuracy: 0.9661 - val_loss: 0.0687 - val_accuracy: 0.9872\n",
            "Epoch 67/100\n",
            "14/14 [==============================] - 0s 6ms/step - loss: 0.0742 - accuracy: 0.9796 - val_loss: 0.0720 - val_accuracy: 0.9487\n",
            "Epoch 68/100\n",
            "14/14 [==============================] - 0s 6ms/step - loss: 0.0710 - accuracy: 0.9706 - val_loss: 0.0739 - val_accuracy: 0.9487\n",
            "Epoch 69/100\n",
            "14/14 [==============================] - 0s 6ms/step - loss: 0.0642 - accuracy: 0.9796 - val_loss: 0.0555 - val_accuracy: 0.9872\n",
            "Epoch 70/100\n",
            "14/14 [==============================] - 0s 5ms/step - loss: 0.0618 - accuracy: 0.9842 - val_loss: 0.0628 - val_accuracy: 0.9615\n",
            "Epoch 71/100\n",
            "14/14 [==============================] - 0s 6ms/step - loss: 0.0565 - accuracy: 0.9819 - val_loss: 0.0991 - val_accuracy: 0.9615\n",
            "Epoch 72/100\n",
            "14/14 [==============================] - 0s 4ms/step - loss: 0.0557 - accuracy: 0.9819 - val_loss: 0.0503 - val_accuracy: 0.9872\n",
            "Epoch 73/100\n",
            "14/14 [==============================] - 0s 5ms/step - loss: 0.0561 - accuracy: 0.9819 - val_loss: 0.0432 - val_accuracy: 0.9872\n",
            "Epoch 74/100\n",
            "14/14 [==============================] - 0s 6ms/step - loss: 0.0891 - accuracy: 0.9661 - val_loss: 0.0509 - val_accuracy: 0.9872\n",
            "Epoch 75/100\n",
            "14/14 [==============================] - 0s 6ms/step - loss: 0.0839 - accuracy: 0.9683 - val_loss: 0.0759 - val_accuracy: 0.9744\n",
            "Epoch 76/100\n",
            "14/14 [==============================] - 0s 6ms/step - loss: 0.0699 - accuracy: 0.9729 - val_loss: 0.0460 - val_accuracy: 0.9872\n",
            "Epoch 77/100\n",
            "14/14 [==============================] - 0s 7ms/step - loss: 0.0574 - accuracy: 0.9774 - val_loss: 0.0511 - val_accuracy: 0.9872\n",
            "Epoch 78/100\n",
            "14/14 [==============================] - 0s 5ms/step - loss: 0.0584 - accuracy: 0.9796 - val_loss: 0.1019 - val_accuracy: 0.9487\n",
            "Epoch 79/100\n",
            "14/14 [==============================] - 0s 6ms/step - loss: 0.0700 - accuracy: 0.9796 - val_loss: 0.0615 - val_accuracy: 0.9872\n",
            "Epoch 80/100\n",
            "14/14 [==============================] - 0s 4ms/step - loss: 0.0603 - accuracy: 0.9774 - val_loss: 0.0769 - val_accuracy: 0.9615\n",
            "Epoch 81/100\n",
            "14/14 [==============================] - 0s 5ms/step - loss: 0.0574 - accuracy: 0.9751 - val_loss: 0.0628 - val_accuracy: 0.9615\n",
            "Epoch 82/100\n",
            "14/14 [==============================] - 0s 6ms/step - loss: 0.0570 - accuracy: 0.9796 - val_loss: 0.0622 - val_accuracy: 0.9872\n",
            "Epoch 83/100\n",
            "14/14 [==============================] - 0s 6ms/step - loss: 0.0561 - accuracy: 0.9729 - val_loss: 0.0378 - val_accuracy: 0.9872\n",
            "Epoch 84/100\n",
            "14/14 [==============================] - 0s 6ms/step - loss: 0.0418 - accuracy: 0.9842 - val_loss: 0.0409 - val_accuracy: 1.0000\n",
            "Epoch 85/100\n",
            "14/14 [==============================] - 0s 6ms/step - loss: 0.0486 - accuracy: 0.9796 - val_loss: 0.0546 - val_accuracy: 0.9872\n",
            "Epoch 86/100\n",
            "14/14 [==============================] - 0s 4ms/step - loss: 0.0440 - accuracy: 0.9842 - val_loss: 0.0468 - val_accuracy: 0.9872\n",
            "Epoch 87/100\n",
            "14/14 [==============================] - 0s 5ms/step - loss: 0.0421 - accuracy: 0.9842 - val_loss: 0.0266 - val_accuracy: 0.9872\n",
            "Epoch 88/100\n",
            "14/14 [==============================] - 0s 6ms/step - loss: 0.0400 - accuracy: 0.9819 - val_loss: 0.0671 - val_accuracy: 0.9615\n",
            "Epoch 89/100\n",
            "14/14 [==============================] - 0s 6ms/step - loss: 0.0851 - accuracy: 0.9638 - val_loss: 0.0752 - val_accuracy: 0.9872\n",
            "Epoch 90/100\n",
            "14/14 [==============================] - 0s 6ms/step - loss: 0.0529 - accuracy: 0.9796 - val_loss: 0.0383 - val_accuracy: 1.0000\n",
            "Epoch 91/100\n",
            "14/14 [==============================] - 0s 5ms/step - loss: 0.0383 - accuracy: 0.9864 - val_loss: 0.0544 - val_accuracy: 0.9872\n",
            "Epoch 92/100\n",
            "14/14 [==============================] - 0s 5ms/step - loss: 0.0469 - accuracy: 0.9796 - val_loss: 0.0370 - val_accuracy: 0.9872\n",
            "Epoch 93/100\n",
            "14/14 [==============================] - 0s 5ms/step - loss: 0.0417 - accuracy: 0.9819 - val_loss: 0.0357 - val_accuracy: 1.0000\n",
            "Epoch 94/100\n",
            "14/14 [==============================] - 0s 5ms/step - loss: 0.0374 - accuracy: 0.9842 - val_loss: 0.0468 - val_accuracy: 1.0000\n",
            "Epoch 95/100\n",
            "14/14 [==============================] - 0s 5ms/step - loss: 0.0372 - accuracy: 0.9842 - val_loss: 0.0272 - val_accuracy: 0.9872\n",
            "Epoch 96/100\n",
            "14/14 [==============================] - 0s 4ms/step - loss: 0.0355 - accuracy: 0.9774 - val_loss: 0.0357 - val_accuracy: 0.9872\n",
            "Epoch 97/100\n",
            "14/14 [==============================] - 0s 4ms/step - loss: 0.0396 - accuracy: 0.9842 - val_loss: 0.0284 - val_accuracy: 0.9872\n",
            "Epoch 98/100\n",
            "14/14 [==============================] - 0s 5ms/step - loss: 0.0346 - accuracy: 0.9796 - val_loss: 0.0263 - val_accuracy: 1.0000\n",
            "Epoch 99/100\n",
            "14/14 [==============================] - 0s 5ms/step - loss: 0.0369 - accuracy: 0.9864 - val_loss: 0.0337 - val_accuracy: 1.0000\n",
            "Epoch 100/100\n",
            "14/14 [==============================] - 0s 5ms/step - loss: 0.0392 - accuracy: 0.9819 - val_loss: 0.0420 - val_accuracy: 0.9872\n"
          ]
        }
      ]
    },
    {
      "cell_type": "markdown",
      "source": [
        "**Plot Accuracy and Loss**"
      ],
      "metadata": {
        "id": "QhUkzure3hRS"
      }
    },
    {
      "cell_type": "code",
      "source": [
        "# Retrieve a list of list results on training and test data sets for each training epoch\n",
        "\n",
        "acc      = history.history[ 'accuracy' ]\n",
        "val_acc  = history.history[ 'val_accuracy' ]\n",
        "loss     = history.history[    'loss' ]\n",
        "val_loss = history.history['val_loss' ]\n",
        "\n",
        "\n",
        "fig, axes = plt.subplots(1,2,figsize=(20,5))\n",
        "#Plot accuracy\n",
        "axes[0].plot(acc, color='red')\n",
        "axes[0].plot(val_acc)\n",
        "axes[0].set_title('Accuracy')\n",
        "axes[0].set_xlabel('epochs')\n",
        "axes[0].set_ylabel('acc')\n",
        "axes[0].legend(['acc', 'val_acc'], loc='lower right')\n",
        "#Plot loss\n",
        "axes[1].plot(loss, color='red')\n",
        "axes[1].plot(val_loss)\n",
        "axes[1].set_title('Loss')\n",
        "axes[1].set_xlabel('epochs')\n",
        "axes[1].set_ylabel('loss')\n",
        "axes[1].legend(['loss', 'val_loss'], loc='upper right')"
      ],
      "metadata": {
        "id": "_hwSfw-50GEu",
        "outputId": "99763166-9d32-4181-a858-769a26d06884",
        "colab": {
          "base_uri": "https://localhost:8080/",
          "height": 367
        }
      },
      "execution_count": 85,
      "outputs": [
        {
          "output_type": "execute_result",
          "data": {
            "text/plain": [
              "<matplotlib.legend.Legend at 0x7fd676509fd0>"
            ]
          },
          "metadata": {},
          "execution_count": 85
        },
        {
          "output_type": "display_data",
          "data": {
            "text/plain": [
              "<Figure size 1440x360 with 2 Axes>"
            ],
            "image/png": "[encoded data removed]"
          },
          "metadata": {
            "needs_background": "light"
          }
        }
      ]
    },
    {
      "cell_type": "markdown",
      "source": [
        "**Plotting Confusion Matrix**"
      ],
      "metadata": {
        "id": "NsYpWyOnzQZc"
      }
    },
    {
      "cell_type": "code",
      "source": [
        "cm = confusion_matrix(y_test,y_pred)\n",
        "print(cm)\n",
        "accuracy_score(y_test,y_pred)"
      ],
      "metadata": {
        "id": "SJ30uAi3zVAZ",
        "outputId": "e40e958f-5548-4658-c1bf-3a308c951dc6",
        "colab": {
          "base_uri": "https://localhost:8080/"
        }
      },
      "execution_count": 86,
      "outputs": [
        {
          "output_type": "stream",
          "name": "stdout",
          "text": [
            "[[31  0]\n",
            " [ 1 46]]\n"
          ]
        },
        {
          "output_type": "execute_result",
          "data": {
            "text/plain": [
              "0.9871794871794872"
            ]
          },
          "metadata": {},
          "execution_count": 86
        }
      ]
    },
    {
      "cell_type": "code",
      "source": [
        "def normalized_confusion_matrix(y_test, conf_mat, model):\n",
        "    _ , counts = np.unique(y_test,return_counts=True)\n",
        "    conf_mat = conf_mat/counts\n",
        "    plt.figure(figsize=(6,5))\n",
        "    ax=sns.heatmap(conf_mat,fmt='.2f',annot=True,annot_kws={'size':20},lw=2, cbar=True, cbar_kws={'label':'% Class accuracy'})\n",
        "    plt.title(f'Confusion Matrix ({model})',size=22)\n",
        "    plt.xticks(size=20)\n",
        "    plt.yticks(size=20)\n",
        "    ax.figure.axes[-1].yaxis.label.set_size(20) ##colorbar label\n",
        "    cax = plt.gcf().axes[-1]  ##colorbar ticks\n",
        "    cax.tick_params(labelsize=20) ## colorbar ticks\n",
        "    plt.savefig(f'confusion-matrix-{model}.png',dpi=300)"
      ],
      "metadata": {
        "id": "UnW9W0hjrJLu"
      },
      "execution_count": 87,
      "outputs": []
    },
    {
      "cell_type": "code",
      "source": [
        "conf_mat = confusion_matrix(y_test,y_pred)\n",
        "normalized_confusion_matrix(y_test,conf_mat, 'Diabetes Pred Model')"
      ],
      "metadata": {
        "colab": {
          "base_uri": "https://localhost:8080/",
          "height": 351
        },
        "id": "r9zCB6K2rqRE",
        "outputId": "154c8cd9-129a-499f-d8f6-bb22861c5dab"
      },
      "execution_count": 88,
      "outputs": [
        {
          "output_type": "display_data",
          "data": {
            "text/plain": [
              "<Figure size 432x360 with 2 Axes>"
            ],
            "image/png": "[encoded data removed]"
          },
          "metadata": {
            "needs_background": "light"
          }
        }
      ]
    },
    {
      "cell_type": "code",
      "source": [
        "model.summary()"
      ],
      "metadata": {
        "colab": {
          "base_uri": "https://localhost:8080/"
        },
        "id": "j04GGyQEoG1F",
        "outputId": "112d50d1-ce42-4e36-ba16-ba8ce1091e9f"
      },
      "execution_count": 89,
      "outputs": [
        {
          "output_type": "stream",
          "name": "stdout",
          "text": [
            "Model: \"sequential_21\"\n",
            "_________________________________________________________________\n",
            " Layer (type)                Output Shape              Param #   \n",
            "=================================================================\n",
            " dense_82 (Dense)            (None, 300)               5100      \n",
            "                                                                 \n",
            " dense_83 (Dense)            (None, 200)               60200     \n",
            "                                                                 \n",
            " dense_84 (Dense)            (None, 100)               20100     \n",
            "                                                                 \n",
            " dense_85 (Dense)            (None, 1)                 101       \n",
            "                                                                 \n",
            " flatten_21 (Flatten)        (None, 1)                 0         \n",
            "                                                                 \n",
            "=================================================================\n",
            "Total params: 85,501\n",
            "Trainable params: 85,501\n",
            "Non-trainable params: 0\n",
            "_________________________________________________________________\n"
          ]
        }
      ]
    },
    {
      "cell_type": "markdown",
      "source": [
        "**Save the Model**"
      ],
      "metadata": {
        "id": "Ds7OU4nizc9C"
      }
    },
    {
      "cell_type": "code",
      "source": [
        "tf.saved_model.save(\n",
        "    model,\n",
        "    export_dir = \"/tmp/myModel\",\n",
        ")"
      ],
      "metadata": {
        "id": "azt5PZJTsIJ4",
        "outputId": "ec046248-3755-41ad-8769-d36a44fbb0fc",
        "colab": {
          "base_uri": "https://localhost:8080/"
        }
      },
      "execution_count": 74,
      "outputs": [
        {
          "output_type": "stream",
          "name": "stdout",
          "text": [
            "INFO:tensorflow:Assets written to: /tmp/myModel/assets\n"
          ]
        }
      ]
    },
    {
      "cell_type": "code",
      "source": [
        "model.save('/tmp/myModel/model.h5')"
      ],
      "metadata": {
        "id": "ET3jrCNZIhtp"
      },
      "execution_count": 75,
      "outputs": []
    },
    {
      "cell_type": "code",
      "source": [
        "pickle.dump(model,open('model.pkl','wb'))"
      ],
      "metadata": {
        "colab": {
          "base_uri": "https://localhost:8080/"
        },
        "id": "8RchaCU0l2D0",
        "outputId": "836f48ef-7ed3-4616-d554-21fb57704e9d"
      },
      "execution_count": null,
      "outputs": [
        {
          "output_type": "stream",
          "name": "stdout",
          "text": [
            "INFO:tensorflow:Assets written to: ram://5172d3cb-201c-4b99-b2b8-55c6b8cb91fe/assets\n"
          ]
        }
      ]
    },
    {
      "cell_type": "code",
      "source": [
        "model = pickle.load(open('model.pkl','rb'))"
      ],
      "metadata": {
        "id": "SmIQYhCkmqAq"
      },
      "execution_count": null,
      "outputs": []
    }
  ]
}