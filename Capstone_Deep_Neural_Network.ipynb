{
  "nbformat": 4,
  "nbformat_minor": 0,
  "metadata": {
    "colab": {
      "name": "Copy of Capstone Deep Neural Network",
      "provenance": [],
      "collapsed_sections": [],
      "include_colab_link": true
    },
    "kernelspec": {
      "name": "python3",
      "display_name": "Python 3"
    },
    "language_info": {
      "name": "python"
    }
  },
  "cells": [
    {
      "cell_type": "markdown",
      "metadata": {
        "id": "view-in-github",
        "colab_type": "text"
      },
      "source": [
        "<a href=\"https://colab.research.google.com/github/Insulin-bangkit-2022/deeplearningmethod/blob/main/Capstone_Deep_Neural_Network.ipynb\" target=\"_parent\"><img src=\"https://colab.research.google.com/assets/colab-badge.svg\" alt=\"Open In Colab\"/></a>"
      ]
    },
    {
      "cell_type": "markdown",
      "source": [
        "**IMPORT LIBRARIES**"
      ],
      "metadata": {
        "id": "TU94yADPye0c"
      }
    },
    {
      "cell_type": "code",
      "execution_count": 27,
      "metadata": {
        "id": "s5SSMF1qjq_E"
      },
      "outputs": [],
      "source": [
        "import pandas as pd \n",
        "import matplotlib.pyplot as plt\n",
        "import seaborn as sns\n",
        "import tensorflow as tf\n",
        "import numpy as np\n",
        "import os\n",
        "import pickle\n",
        "from google.colab import drive\n",
        "from sklearn.model_selection import train_test_split\n",
        "from sklearn.metrics import confusion_matrix,accuracy_score\n",
        "from keras.models import load_model\n",
        "%matplotlib inline"
      ]
    },
    {
      "cell_type": "markdown",
      "source": [
        "**Import Diabetes Dataset from Kaggle**"
      ],
      "metadata": {
        "id": "fNuGEZI4yla5"
      }
    },
    {
      "cell_type": "code",
      "source": [
        "! pip install kaggle"
      ],
      "metadata": {
        "colab": {
          "base_uri": "https://localhost:8080/"
        },
        "id": "O-PwhucxRAfh",
        "outputId": "28ab7295-e38f-4e58-8763-5a829a740c02"
      },
      "execution_count": 28,
      "outputs": [
        {
          "output_type": "stream",
          "name": "stdout",
          "text": [
            "Looking in indexes: https://pypi.org/simple, https://us-python.pkg.dev/colab-wheels/public/simple/\n",
            "Requirement already satisfied: kaggle in /usr/local/lib/python3.7/dist-packages (1.5.12)\n",
            "Requirement already satisfied: tqdm in /usr/local/lib/python3.7/dist-packages (from kaggle) (4.64.0)\n",
            "Requirement already satisfied: six>=1.10 in /usr/local/lib/python3.7/dist-packages (from kaggle) (1.15.0)\n",
            "Requirement already satisfied: python-dateutil in /usr/local/lib/python3.7/dist-packages (from kaggle) (2.8.2)\n",
            "Requirement already satisfied: urllib3 in /usr/local/lib/python3.7/dist-packages (from kaggle) (1.24.3)\n",
            "Requirement already satisfied: python-slugify in /usr/local/lib/python3.7/dist-packages (from kaggle) (6.1.2)\n",
            "Requirement already satisfied: certifi in /usr/local/lib/python3.7/dist-packages (from kaggle) (2022.5.18.1)\n",
            "Requirement already satisfied: requests in /usr/local/lib/python3.7/dist-packages (from kaggle) (2.23.0)\n",
            "Requirement already satisfied: text-unidecode>=1.3 in /usr/local/lib/python3.7/dist-packages (from python-slugify->kaggle) (1.3)\n",
            "Requirement already satisfied: idna<3,>=2.5 in /usr/local/lib/python3.7/dist-packages (from requests->kaggle) (2.10)\n",
            "Requirement already satisfied: chardet<4,>=3.0.2 in /usr/local/lib/python3.7/dist-packages (from requests->kaggle) (3.0.4)\n"
          ]
        }
      ]
    },
    {
      "cell_type": "code",
      "source": [
        "drive.mount('/content/gdrive')"
      ],
      "metadata": {
        "colab": {
          "base_uri": "https://localhost:8080/"
        },
        "id": "cvaxxJp8RHLD",
        "outputId": "f3d13eb8-daf3-4981-c650-33dc22fc1814"
      },
      "execution_count": null,
      "outputs": [
        {
          "output_type": "stream",
          "name": "stdout",
          "text": [
            "Mounted at /content/gdrive\n"
          ]
        }
      ]
    },
    {
      "cell_type": "code",
      "source": [
        "os.environ['KAGGLE_CONFIG_DIR'] = \"/content/gdrive/Shared drives/Capstone Project/Product Based\""
      ],
      "metadata": {
        "id": "tIJwJrQZRNk4"
      },
      "execution_count": null,
      "outputs": []
    },
    {
      "cell_type": "code",
      "source": [
        "#changing the working directory\n",
        "%cd /content/gdrive/Shared drives/Capstone Project/Product Based"
      ],
      "metadata": {
        "colab": {
          "base_uri": "https://localhost:8080/"
        },
        "id": "HqSjaknDUiNL",
        "outputId": "03968579-3362-439e-e243-9e32df9d970d"
      },
      "execution_count": null,
      "outputs": [
        {
          "output_type": "stream",
          "name": "stdout",
          "text": [
            "/content/gdrive/Shared drives/Capstone Project/Product Based\n"
          ]
        }
      ]
    },
    {
      "cell_type": "code",
      "source": [
        "!kaggle datasets download -d andrewmvd/early-diabetes-classification"
      ],
      "metadata": {
        "colab": {
          "base_uri": "https://localhost:8080/"
        },
        "id": "aEofpxIGRQfQ",
        "outputId": "d1f0f9b7-0dfc-4c2d-d076-028463abf1e4"
      },
      "execution_count": null,
      "outputs": [
        {
          "output_type": "stream",
          "name": "stdout",
          "text": [
            "early-diabetes-classification.zip: Skipping, found more recently modified local copy (use --force to force download)\n"
          ]
        }
      ]
    },
    {
      "cell_type": "markdown",
      "source": [
        "**Read Diabetes Dataset**"
      ],
      "metadata": {
        "id": "ngKxU0-qyxhA"
      }
    },
    {
      "cell_type": "code",
      "source": [
        "data = pd.read_csv('diabetes_data.csv', delimiter = ';')\n",
        "print (data.shape)\n",
        "data"
      ],
      "metadata": {
        "colab": {
          "base_uri": "https://localhost:8080/",
          "height": 505
        },
        "id": "bOom_CKIkHxv",
        "outputId": "3f696b51-9bfa-45f3-97c9-4eb63d0ec57d"
      },
      "execution_count": 35,
      "outputs": [
        {
          "output_type": "stream",
          "name": "stdout",
          "text": [
            "(520, 17)\n"
          ]
        },
        {
          "output_type": "execute_result",
          "data": {
            "text/plain": [
              "     age  gender  polyuria  polydipsia  sudden_weight_loss  weakness  \\\n",
              "0     40    Male         0           1                   0         1   \n",
              "1     58    Male         0           0                   0         1   \n",
              "2     41    Male         1           0                   0         1   \n",
              "3     45    Male         0           0                   1         1   \n",
              "4     60    Male         1           1                   1         1   \n",
              "..   ...     ...       ...         ...                 ...       ...   \n",
              "515   39  Female         1           1                   1         0   \n",
              "516   48  Female         1           1                   1         1   \n",
              "517   58  Female         1           1                   1         1   \n",
              "518   32  Female         0           0                   0         1   \n",
              "519   42    Male         0           0                   0         0   \n",
              "\n",
              "     polyphagia  genital_thrush  visual_blurring  itching  irritability  \\\n",
              "0             0               0                0        1             0   \n",
              "1             0               0                1        0             0   \n",
              "2             1               0                0        1             0   \n",
              "3             1               1                0        1             0   \n",
              "4             1               0                1        1             1   \n",
              "..          ...             ...              ...      ...           ...   \n",
              "515           1               0                0        1             0   \n",
              "516           1               0                0        1             1   \n",
              "517           1               0                1        0             0   \n",
              "518           0               0                1        1             0   \n",
              "519           0               0                0        0             0   \n",
              "\n",
              "     delayed_healing  partial_paresis  muscle_stiffness  alopecia  obesity  \\\n",
              "0                  1                0                 1         1        1   \n",
              "1                  0                1                 0         1        0   \n",
              "2                  1                0                 1         1        0   \n",
              "3                  1                0                 0         0        0   \n",
              "4                  1                1                 1         1        1   \n",
              "..               ...              ...               ...       ...      ...   \n",
              "515                1                1                 0         0        0   \n",
              "516                1                1                 0         0        0   \n",
              "517                0                1                 1         0        1   \n",
              "518                1                0                 0         1        0   \n",
              "519                0                0                 0         0        0   \n",
              "\n",
              "     class  \n",
              "0        1  \n",
              "1        1  \n",
              "2        1  \n",
              "3        1  \n",
              "4        1  \n",
              "..     ...  \n",
              "515      1  \n",
              "516      1  \n",
              "517      1  \n",
              "518      0  \n",
              "519      0  \n",
              "\n",
              "[520 rows x 17 columns]"
            ],
            "text/html": [
              "\n",
              "  <div id=\"df-f4a7c9c1-fe81-4a27-b86d-39c249e43282\">\n",
              "    <div class=\"colab-df-container\">\n",
              "      <div>\n",
              "<style scoped>\n",
              "    .dataframe tbody tr th:only-of-type {\n",
              "        vertical-align: middle;\n",
              "    }\n",
              "\n",
              "    .dataframe tbody tr th {\n",
              "        vertical-align: top;\n",
              "    }\n",
              "\n",
              "    .dataframe thead th {\n",
              "        text-align: right;\n",
              "    }\n",
              "</style>\n",
              "<table border=\"1\" class=\"dataframe\">\n",
              "  <thead>\n",
              "    <tr style=\"text-align: right;\">\n",
              "      <th></th>\n",
              "      <th>age</th>\n",
              "      <th>gender</th>\n",
              "      <th>polyuria</th>\n",
              "      <th>polydipsia</th>\n",
              "      <th>sudden_weight_loss</th>\n",
              "      <th>weakness</th>\n",
              "      <th>polyphagia</th>\n",
              "      <th>genital_thrush</th>\n",
              "      <th>visual_blurring</th>\n",
              "      <th>itching</th>\n",
              "      <th>irritability</th>\n",
              "      <th>delayed_healing</th>\n",
              "      <th>partial_paresis</th>\n",
              "      <th>muscle_stiffness</th>\n",
              "      <th>alopecia</th>\n",
              "      <th>obesity</th>\n",
              "      <th>class</th>\n",
              "    </tr>\n",
              "  </thead>\n",
              "  <tbody>\n",
              "    <tr>\n",
              "      <th>0</th>\n",
              "      <td>40</td>\n",
              "      <td>Male</td>\n",
              "      <td>0</td>\n",
              "      <td>1</td>\n",
              "      <td>0</td>\n",
              "      <td>1</td>\n",
              "      <td>0</td>\n",
              "      <td>0</td>\n",
              "      <td>0</td>\n",
              "      <td>1</td>\n",
              "      <td>0</td>\n",
              "      <td>1</td>\n",
              "      <td>0</td>\n",
              "      <td>1</td>\n",
              "      <td>1</td>\n",
              "      <td>1</td>\n",
              "      <td>1</td>\n",
              "    </tr>\n",
              "    <tr>\n",
              "      <th>1</th>\n",
              "      <td>58</td>\n",
              "      <td>Male</td>\n",
              "      <td>0</td>\n",
              "      <td>0</td>\n",
              "      <td>0</td>\n",
              "      <td>1</td>\n",
              "      <td>0</td>\n",
              "      <td>0</td>\n",
              "      <td>1</td>\n",
              "      <td>0</td>\n",
              "      <td>0</td>\n",
              "      <td>0</td>\n",
              "      <td>1</td>\n",
              "      <td>0</td>\n",
              "      <td>1</td>\n",
              "      <td>0</td>\n",
              "      <td>1</td>\n",
              "    </tr>\n",
              "    <tr>\n",
              "      <th>2</th>\n",
              "      <td>41</td>\n",
              "      <td>Male</td>\n",
              "      <td>1</td>\n",
              "      <td>0</td>\n",
              "      <td>0</td>\n",
              "      <td>1</td>\n",
              "      <td>1</td>\n",
              "      <td>0</td>\n",
              "      <td>0</td>\n",
              "      <td>1</td>\n",
              "      <td>0</td>\n",
              "      <td>1</td>\n",
              "      <td>0</td>\n",
              "      <td>1</td>\n",
              "      <td>1</td>\n",
              "      <td>0</td>\n",
              "      <td>1</td>\n",
              "    </tr>\n",
              "    <tr>\n",
              "      <th>3</th>\n",
              "      <td>45</td>\n",
              "      <td>Male</td>\n",
              "      <td>0</td>\n",
              "      <td>0</td>\n",
              "      <td>1</td>\n",
              "      <td>1</td>\n",
              "      <td>1</td>\n",
              "      <td>1</td>\n",
              "      <td>0</td>\n",
              "      <td>1</td>\n",
              "      <td>0</td>\n",
              "      <td>1</td>\n",
              "      <td>0</td>\n",
              "      <td>0</td>\n",
              "      <td>0</td>\n",
              "      <td>0</td>\n",
              "      <td>1</td>\n",
              "    </tr>\n",
              "    <tr>\n",
              "      <th>4</th>\n",
              "      <td>60</td>\n",
              "      <td>Male</td>\n",
              "      <td>1</td>\n",
              "      <td>1</td>\n",
              "      <td>1</td>\n",
              "      <td>1</td>\n",
              "      <td>1</td>\n",
              "      <td>0</td>\n",
              "      <td>1</td>\n",
              "      <td>1</td>\n",
              "      <td>1</td>\n",
              "      <td>1</td>\n",
              "      <td>1</td>\n",
              "      <td>1</td>\n",
              "      <td>1</td>\n",
              "      <td>1</td>\n",
              "      <td>1</td>\n",
              "    </tr>\n",
              "    <tr>\n",
              "      <th>...</th>\n",
              "      <td>...</td>\n",
              "      <td>...</td>\n",
              "      <td>...</td>\n",
              "      <td>...</td>\n",
              "      <td>...</td>\n",
              "      <td>...</td>\n",
              "      <td>...</td>\n",
              "      <td>...</td>\n",
              "      <td>...</td>\n",
              "      <td>...</td>\n",
              "      <td>...</td>\n",
              "      <td>...</td>\n",
              "      <td>...</td>\n",
              "      <td>...</td>\n",
              "      <td>...</td>\n",
              "      <td>...</td>\n",
              "      <td>...</td>\n",
              "    </tr>\n",
              "    <tr>\n",
              "      <th>515</th>\n",
              "      <td>39</td>\n",
              "      <td>Female</td>\n",
              "      <td>1</td>\n",
              "      <td>1</td>\n",
              "      <td>1</td>\n",
              "      <td>0</td>\n",
              "      <td>1</td>\n",
              "      <td>0</td>\n",
              "      <td>0</td>\n",
              "      <td>1</td>\n",
              "      <td>0</td>\n",
              "      <td>1</td>\n",
              "      <td>1</td>\n",
              "      <td>0</td>\n",
              "      <td>0</td>\n",
              "      <td>0</td>\n",
              "      <td>1</td>\n",
              "    </tr>\n",
              "    <tr>\n",
              "      <th>516</th>\n",
              "      <td>48</td>\n",
              "      <td>Female</td>\n",
              "      <td>1</td>\n",
              "      <td>1</td>\n",
              "      <td>1</td>\n",
              "      <td>1</td>\n",
              "      <td>1</td>\n",
              "      <td>0</td>\n",
              "      <td>0</td>\n",
              "      <td>1</td>\n",
              "      <td>1</td>\n",
              "      <td>1</td>\n",
              "      <td>1</td>\n",
              "      <td>0</td>\n",
              "      <td>0</td>\n",
              "      <td>0</td>\n",
              "      <td>1</td>\n",
              "    </tr>\n",
              "    <tr>\n",
              "      <th>517</th>\n",
              "      <td>58</td>\n",
              "      <td>Female</td>\n",
              "      <td>1</td>\n",
              "      <td>1</td>\n",
              "      <td>1</td>\n",
              "      <td>1</td>\n",
              "      <td>1</td>\n",
              "      <td>0</td>\n",
              "      <td>1</td>\n",
              "      <td>0</td>\n",
              "      <td>0</td>\n",
              "      <td>0</td>\n",
              "      <td>1</td>\n",
              "      <td>1</td>\n",
              "      <td>0</td>\n",
              "      <td>1</td>\n",
              "      <td>1</td>\n",
              "    </tr>\n",
              "    <tr>\n",
              "      <th>518</th>\n",
              "      <td>32</td>\n",
              "      <td>Female</td>\n",
              "      <td>0</td>\n",
              "      <td>0</td>\n",
              "      <td>0</td>\n",
              "      <td>1</td>\n",
              "      <td>0</td>\n",
              "      <td>0</td>\n",
              "      <td>1</td>\n",
              "      <td>1</td>\n",
              "      <td>0</td>\n",
              "      <td>1</td>\n",
              "      <td>0</td>\n",
              "      <td>0</td>\n",
              "      <td>1</td>\n",
              "      <td>0</td>\n",
              "      <td>0</td>\n",
              "    </tr>\n",
              "    <tr>\n",
              "      <th>519</th>\n",
              "      <td>42</td>\n",
              "      <td>Male</td>\n",
              "      <td>0</td>\n",
              "      <td>0</td>\n",
              "      <td>0</td>\n",
              "      <td>0</td>\n",
              "      <td>0</td>\n",
              "      <td>0</td>\n",
              "      <td>0</td>\n",
              "      <td>0</td>\n",
              "      <td>0</td>\n",
              "      <td>0</td>\n",
              "      <td>0</td>\n",
              "      <td>0</td>\n",
              "      <td>0</td>\n",
              "      <td>0</td>\n",
              "      <td>0</td>\n",
              "    </tr>\n",
              "  </tbody>\n",
              "</table>\n",
              "<p>520 rows × 17 columns</p>\n",
              "</div>\n",
              "      <button class=\"colab-df-convert\" onclick=\"convertToInteractive('df-f4a7c9c1-fe81-4a27-b86d-39c249e43282')\"\n",
              "              title=\"Convert this dataframe to an interactive table.\"\n",
              "              style=\"display:none;\">\n",
              "        \n",
              "  <svg xmlns=\"http://www.w3.org/2000/svg\" height=\"24px\"viewBox=\"0 0 24 24\"\n",
              "       width=\"24px\">\n",
              "    <path d=\"M0 0h24v24H0V0z\" fill=\"none\"/>\n",
              "    <path d=\"M18.56 5.44l.94 2.06.94-2.06 2.06-.94-2.06-.94-.94-2.06-.94 2.06-2.06.94zm-11 1L8.5 8.5l.94-2.06 2.06-.94-2.06-.94L8.5 2.5l-.94 2.06-2.06.94zm10 10l.94 2.06.94-2.06 2.06-.94-2.06-.94-.94-2.06-.94 2.06-2.06.94z\"/><path d=\"M17.41 7.96l-1.37-1.37c-.4-.4-.92-.59-1.43-.59-.52 0-1.04.2-1.43.59L10.3 9.45l-7.72 7.72c-.78.78-.78 2.05 0 2.83L4 21.41c.39.39.9.59 1.41.59.51 0 1.02-.2 1.41-.59l7.78-7.78 2.81-2.81c.8-.78.8-2.07 0-2.86zM5.41 20L4 18.59l7.72-7.72 1.47 1.35L5.41 20z\"/>\n",
              "  </svg>\n",
              "      </button>\n",
              "      \n",
              "  <style>\n",
              "    .colab-df-container {\n",
              "      display:flex;\n",
              "      flex-wrap:wrap;\n",
              "      gap: 12px;\n",
              "    }\n",
              "\n",
              "    .colab-df-convert {\n",
              "      background-color: #E8F0FE;\n",
              "      border: none;\n",
              "      border-radius: 50%;\n",
              "      cursor: pointer;\n",
              "      display: none;\n",
              "      fill: #1967D2;\n",
              "      height: 32px;\n",
              "      padding: 0 0 0 0;\n",
              "      width: 32px;\n",
              "    }\n",
              "\n",
              "    .colab-df-convert:hover {\n",
              "      background-color: #E2EBFA;\n",
              "      box-shadow: 0px 1px 2px rgba(60, 64, 67, 0.3), 0px 1px 3px 1px rgba(60, 64, 67, 0.15);\n",
              "      fill: #174EA6;\n",
              "    }\n",
              "\n",
              "    [theme=dark] .colab-df-convert {\n",
              "      background-color: #3B4455;\n",
              "      fill: #D2E3FC;\n",
              "    }\n",
              "\n",
              "    [theme=dark] .colab-df-convert:hover {\n",
              "      background-color: #434B5C;\n",
              "      box-shadow: 0px 1px 3px 1px rgba(0, 0, 0, 0.15);\n",
              "      filter: drop-shadow(0px 1px 2px rgba(0, 0, 0, 0.3));\n",
              "      fill: #FFFFFF;\n",
              "    }\n",
              "  </style>\n",
              "\n",
              "      <script>\n",
              "        const buttonEl =\n",
              "          document.querySelector('#df-f4a7c9c1-fe81-4a27-b86d-39c249e43282 button.colab-df-convert');\n",
              "        buttonEl.style.display =\n",
              "          google.colab.kernel.accessAllowed ? 'block' : 'none';\n",
              "\n",
              "        async function convertToInteractive(key) {\n",
              "          const element = document.querySelector('#df-f4a7c9c1-fe81-4a27-b86d-39c249e43282');\n",
              "          const dataTable =\n",
              "            await google.colab.kernel.invokeFunction('convertToInteractive',\n",
              "                                                     [key], {});\n",
              "          if (!dataTable) return;\n",
              "\n",
              "          const docLinkHtml = 'Like what you see? Visit the ' +\n",
              "            '<a target=\"_blank\" href=https://colab.research.google.com/notebooks/data_table.ipynb>data table notebook</a>'\n",
              "            + ' to learn more about interactive tables.';\n",
              "          element.innerHTML = '';\n",
              "          dataTable['output_type'] = 'display_data';\n",
              "          await google.colab.output.renderOutput(dataTable, element);\n",
              "          const docLink = document.createElement('div');\n",
              "          docLink.innerHTML = docLinkHtml;\n",
              "          element.appendChild(docLink);\n",
              "        }\n",
              "      </script>\n",
              "    </div>\n",
              "  </div>\n",
              "  "
            ]
          },
          "metadata": {},
          "execution_count": 35
        }
      ]
    },
    {
      "cell_type": "code",
      "source": [
        "data[\"gender\"] = data[\"gender\"].apply({\"Male\":1, \"Female\":0}.get)\n",
        "data.head()"
      ],
      "metadata": {
        "colab": {
          "base_uri": "https://localhost:8080/",
          "height": 270
        },
        "id": "gRJpDQLDmPuh",
        "outputId": "de4e9aed-f6de-48bc-8f16-17a86e2f79db"
      },
      "execution_count": 36,
      "outputs": [
        {
          "output_type": "execute_result",
          "data": {
            "text/plain": [
              "   age  gender  polyuria  polydipsia  sudden_weight_loss  weakness  \\\n",
              "0   40       1         0           1                   0         1   \n",
              "1   58       1         0           0                   0         1   \n",
              "2   41       1         1           0                   0         1   \n",
              "3   45       1         0           0                   1         1   \n",
              "4   60       1         1           1                   1         1   \n",
              "\n",
              "   polyphagia  genital_thrush  visual_blurring  itching  irritability  \\\n",
              "0           0               0                0        1             0   \n",
              "1           0               0                1        0             0   \n",
              "2           1               0                0        1             0   \n",
              "3           1               1                0        1             0   \n",
              "4           1               0                1        1             1   \n",
              "\n",
              "   delayed_healing  partial_paresis  muscle_stiffness  alopecia  obesity  \\\n",
              "0                1                0                 1         1        1   \n",
              "1                0                1                 0         1        0   \n",
              "2                1                0                 1         1        0   \n",
              "3                1                0                 0         0        0   \n",
              "4                1                1                 1         1        1   \n",
              "\n",
              "   class  \n",
              "0      1  \n",
              "1      1  \n",
              "2      1  \n",
              "3      1  \n",
              "4      1  "
            ],
            "text/html": [
              "\n",
              "  <div id=\"df-7253314e-9e3d-47f6-a388-4576a83ad64e\">\n",
              "    <div class=\"colab-df-container\">\n",
              "      <div>\n",
              "<style scoped>\n",
              "    .dataframe tbody tr th:only-of-type {\n",
              "        vertical-align: middle;\n",
              "    }\n",
              "\n",
              "    .dataframe tbody tr th {\n",
              "        vertical-align: top;\n",
              "    }\n",
              "\n",
              "    .dataframe thead th {\n",
              "        text-align: right;\n",
              "    }\n",
              "</style>\n",
              "<table border=\"1\" class=\"dataframe\">\n",
              "  <thead>\n",
              "    <tr style=\"text-align: right;\">\n",
              "      <th></th>\n",
              "      <th>age</th>\n",
              "      <th>gender</th>\n",
              "      <th>polyuria</th>\n",
              "      <th>polydipsia</th>\n",
              "      <th>sudden_weight_loss</th>\n",
              "      <th>weakness</th>\n",
              "      <th>polyphagia</th>\n",
              "      <th>genital_thrush</th>\n",
              "      <th>visual_blurring</th>\n",
              "      <th>itching</th>\n",
              "      <th>irritability</th>\n",
              "      <th>delayed_healing</th>\n",
              "      <th>partial_paresis</th>\n",
              "      <th>muscle_stiffness</th>\n",
              "      <th>alopecia</th>\n",
              "      <th>obesity</th>\n",
              "      <th>class</th>\n",
              "    </tr>\n",
              "  </thead>\n",
              "  <tbody>\n",
              "    <tr>\n",
              "      <th>0</th>\n",
              "      <td>40</td>\n",
              "      <td>1</td>\n",
              "      <td>0</td>\n",
              "      <td>1</td>\n",
              "      <td>0</td>\n",
              "      <td>1</td>\n",
              "      <td>0</td>\n",
              "      <td>0</td>\n",
              "      <td>0</td>\n",
              "      <td>1</td>\n",
              "      <td>0</td>\n",
              "      <td>1</td>\n",
              "      <td>0</td>\n",
              "      <td>1</td>\n",
              "      <td>1</td>\n",
              "      <td>1</td>\n",
              "      <td>1</td>\n",
              "    </tr>\n",
              "    <tr>\n",
              "      <th>1</th>\n",
              "      <td>58</td>\n",
              "      <td>1</td>\n",
              "      <td>0</td>\n",
              "      <td>0</td>\n",
              "      <td>0</td>\n",
              "      <td>1</td>\n",
              "      <td>0</td>\n",
              "      <td>0</td>\n",
              "      <td>1</td>\n",
              "      <td>0</td>\n",
              "      <td>0</td>\n",
              "      <td>0</td>\n",
              "      <td>1</td>\n",
              "      <td>0</td>\n",
              "      <td>1</td>\n",
              "      <td>0</td>\n",
              "      <td>1</td>\n",
              "    </tr>\n",
              "    <tr>\n",
              "      <th>2</th>\n",
              "      <td>41</td>\n",
              "      <td>1</td>\n",
              "      <td>1</td>\n",
              "      <td>0</td>\n",
              "      <td>0</td>\n",
              "      <td>1</td>\n",
              "      <td>1</td>\n",
              "      <td>0</td>\n",
              "      <td>0</td>\n",
              "      <td>1</td>\n",
              "      <td>0</td>\n",
              "      <td>1</td>\n",
              "      <td>0</td>\n",
              "      <td>1</td>\n",
              "      <td>1</td>\n",
              "      <td>0</td>\n",
              "      <td>1</td>\n",
              "    </tr>\n",
              "    <tr>\n",
              "      <th>3</th>\n",
              "      <td>45</td>\n",
              "      <td>1</td>\n",
              "      <td>0</td>\n",
              "      <td>0</td>\n",
              "      <td>1</td>\n",
              "      <td>1</td>\n",
              "      <td>1</td>\n",
              "      <td>1</td>\n",
              "      <td>0</td>\n",
              "      <td>1</td>\n",
              "      <td>0</td>\n",
              "      <td>1</td>\n",
              "      <td>0</td>\n",
              "      <td>0</td>\n",
              "      <td>0</td>\n",
              "      <td>0</td>\n",
              "      <td>1</td>\n",
              "    </tr>\n",
              "    <tr>\n",
              "      <th>4</th>\n",
              "      <td>60</td>\n",
              "      <td>1</td>\n",
              "      <td>1</td>\n",
              "      <td>1</td>\n",
              "      <td>1</td>\n",
              "      <td>1</td>\n",
              "      <td>1</td>\n",
              "      <td>0</td>\n",
              "      <td>1</td>\n",
              "      <td>1</td>\n",
              "      <td>1</td>\n",
              "      <td>1</td>\n",
              "      <td>1</td>\n",
              "      <td>1</td>\n",
              "      <td>1</td>\n",
              "      <td>1</td>\n",
              "      <td>1</td>\n",
              "    </tr>\n",
              "  </tbody>\n",
              "</table>\n",
              "</div>\n",
              "      <button class=\"colab-df-convert\" onclick=\"convertToInteractive('df-7253314e-9e3d-47f6-a388-4576a83ad64e')\"\n",
              "              title=\"Convert this dataframe to an interactive table.\"\n",
              "              style=\"display:none;\">\n",
              "        \n",
              "  <svg xmlns=\"http://www.w3.org/2000/svg\" height=\"24px\"viewBox=\"0 0 24 24\"\n",
              "       width=\"24px\">\n",
              "    <path d=\"M0 0h24v24H0V0z\" fill=\"none\"/>\n",
              "    <path d=\"M18.56 5.44l.94 2.06.94-2.06 2.06-.94-2.06-.94-.94-2.06-.94 2.06-2.06.94zm-11 1L8.5 8.5l.94-2.06 2.06-.94-2.06-.94L8.5 2.5l-.94 2.06-2.06.94zm10 10l.94 2.06.94-2.06 2.06-.94-2.06-.94-.94-2.06-.94 2.06-2.06.94z\"/><path d=\"M17.41 7.96l-1.37-1.37c-.4-.4-.92-.59-1.43-.59-.52 0-1.04.2-1.43.59L10.3 9.45l-7.72 7.72c-.78.78-.78 2.05 0 2.83L4 21.41c.39.39.9.59 1.41.59.51 0 1.02-.2 1.41-.59l7.78-7.78 2.81-2.81c.8-.78.8-2.07 0-2.86zM5.41 20L4 18.59l7.72-7.72 1.47 1.35L5.41 20z\"/>\n",
              "  </svg>\n",
              "      </button>\n",
              "      \n",
              "  <style>\n",
              "    .colab-df-container {\n",
              "      display:flex;\n",
              "      flex-wrap:wrap;\n",
              "      gap: 12px;\n",
              "    }\n",
              "\n",
              "    .colab-df-convert {\n",
              "      background-color: #E8F0FE;\n",
              "      border: none;\n",
              "      border-radius: 50%;\n",
              "      cursor: pointer;\n",
              "      display: none;\n",
              "      fill: #1967D2;\n",
              "      height: 32px;\n",
              "      padding: 0 0 0 0;\n",
              "      width: 32px;\n",
              "    }\n",
              "\n",
              "    .colab-df-convert:hover {\n",
              "      background-color: #E2EBFA;\n",
              "      box-shadow: 0px 1px 2px rgba(60, 64, 67, 0.3), 0px 1px 3px 1px rgba(60, 64, 67, 0.15);\n",
              "      fill: #174EA6;\n",
              "    }\n",
              "\n",
              "    [theme=dark] .colab-df-convert {\n",
              "      background-color: #3B4455;\n",
              "      fill: #D2E3FC;\n",
              "    }\n",
              "\n",
              "    [theme=dark] .colab-df-convert:hover {\n",
              "      background-color: #434B5C;\n",
              "      box-shadow: 0px 1px 3px 1px rgba(0, 0, 0, 0.15);\n",
              "      filter: drop-shadow(0px 1px 2px rgba(0, 0, 0, 0.3));\n",
              "      fill: #FFFFFF;\n",
              "    }\n",
              "  </style>\n",
              "\n",
              "      <script>\n",
              "        const buttonEl =\n",
              "          document.querySelector('#df-7253314e-9e3d-47f6-a388-4576a83ad64e button.colab-df-convert');\n",
              "        buttonEl.style.display =\n",
              "          google.colab.kernel.accessAllowed ? 'block' : 'none';\n",
              "\n",
              "        async function convertToInteractive(key) {\n",
              "          const element = document.querySelector('#df-7253314e-9e3d-47f6-a388-4576a83ad64e');\n",
              "          const dataTable =\n",
              "            await google.colab.kernel.invokeFunction('convertToInteractive',\n",
              "                                                     [key], {});\n",
              "          if (!dataTable) return;\n",
              "\n",
              "          const docLinkHtml = 'Like what you see? Visit the ' +\n",
              "            '<a target=\"_blank\" href=https://colab.research.google.com/notebooks/data_table.ipynb>data table notebook</a>'\n",
              "            + ' to learn more about interactive tables.';\n",
              "          element.innerHTML = '';\n",
              "          dataTable['output_type'] = 'display_data';\n",
              "          await google.colab.output.renderOutput(dataTable, element);\n",
              "          const docLink = document.createElement('div');\n",
              "          docLink.innerHTML = docLinkHtml;\n",
              "          element.appendChild(docLink);\n",
              "        }\n",
              "      </script>\n",
              "    </div>\n",
              "  </div>\n",
              "  "
            ]
          },
          "metadata": {},
          "execution_count": 36
        }
      ]
    },
    {
      "cell_type": "markdown",
      "source": [
        "Plotting Heat Map"
      ],
      "metadata": {
        "id": "AC25zIaIy4nh"
      }
    },
    {
      "cell_type": "code",
      "source": [
        "tc = data.corr()\n",
        "sns.heatmap(tc,annot = False,cmap=\"coolwarm\")"
      ],
      "metadata": {
        "colab": {
          "base_uri": "https://localhost:8080/",
          "height": 376
        },
        "id": "mBSAwOYFkMKw",
        "outputId": "2b6cb677-0e15-468b-88f8-71e741699ba9"
      },
      "execution_count": 37,
      "outputs": [
        {
          "output_type": "execute_result",
          "data": {
            "text/plain": [
              "<matplotlib.axes._subplots.AxesSubplot at 0x7f0684da3390>"
            ]
          },
          "metadata": {},
          "execution_count": 37
        },
        {
          "output_type": "display_data",
          "data": {
            "text/plain": [
              "<Figure size 432x288 with 2 Axes>"
            ],
            "image/png": "[encoded data removed]"
          },
          "metadata": {
            "needs_background": "light"
          }
        }
      ]
    },
    {
      "cell_type": "code",
      "source": [
        "data.info()"
      ],
      "metadata": {
        "colab": {
          "base_uri": "https://localhost:8080/"
        },
        "id": "LMzXXfGRmFEB",
        "outputId": "9a0d005a-1c97-469a-ac49-e2d515a7521d"
      },
      "execution_count": 38,
      "outputs": [
        {
          "output_type": "stream",
          "name": "stdout",
          "text": [
            "<class 'pandas.core.frame.DataFrame'>\n",
            "RangeIndex: 520 entries, 0 to 519\n",
            "Data columns (total 17 columns):\n",
            " #   Column              Non-Null Count  Dtype\n",
            "---  ------              --------------  -----\n",
            " 0   age                 520 non-null    int64\n",
            " 1   gender              520 non-null    int64\n",
            " 2   polyuria            520 non-null    int64\n",
            " 3   polydipsia          520 non-null    int64\n",
            " 4   sudden_weight_loss  520 non-null    int64\n",
            " 5   weakness            520 non-null    int64\n",
            " 6   polyphagia          520 non-null    int64\n",
            " 7   genital_thrush      520 non-null    int64\n",
            " 8   visual_blurring     520 non-null    int64\n",
            " 9   itching             520 non-null    int64\n",
            " 10  irritability        520 non-null    int64\n",
            " 11  delayed_healing     520 non-null    int64\n",
            " 12  partial_paresis     520 non-null    int64\n",
            " 13  muscle_stiffness    520 non-null    int64\n",
            " 14  alopecia            520 non-null    int64\n",
            " 15  obesity             520 non-null    int64\n",
            " 16  class               520 non-null    int64\n",
            "dtypes: int64(17)\n",
            "memory usage: 69.2 KB\n"
          ]
        }
      ]
    },
    {
      "cell_type": "markdown",
      "source": [
        "**Split the Dataset Into Training and Test Set**"
      ],
      "metadata": {
        "id": "KfBjL3zuy-UP"
      }
    },
    {
      "cell_type": "code",
      "source": [
        "x = data[data.columns[:-1]]\n",
        "y = data[data.columns[-1]]\n",
        "x_train,x_test,y_train,y_test = train_test_split(x,y,test_size = 0.15,random_state = 10)\n",
        "print(x_train)\n",
        "print(y_train)"
      ],
      "metadata": {
        "colab": {
          "base_uri": "https://localhost:8080/"
        },
        "id": "HpAUhdwomk86",
        "outputId": "aa1c7784-4ccc-4e4d-ccf9-3d2d3db51597"
      },
      "execution_count": 39,
      "outputs": [
        {
          "output_type": "stream",
          "name": "stdout",
          "text": [
            "     age  gender  polyuria  polydipsia  sudden_weight_loss  weakness  \\\n",
            "260   33       1         0           1                   0         0   \n",
            "184   48       0         1           1                   1         0   \n",
            "172   60       1         1           0                   0         0   \n",
            "193   36       1         1           0                   0         1   \n",
            "154   62       1         1           0                   0         1   \n",
            "..   ...     ...       ...         ...                 ...       ...   \n",
            "123   47       1         0           1                   0         0   \n",
            "369   47       1         0           0                   0         0   \n",
            "320   65       0         0           0                   0         1   \n",
            "125   55       1         1           1                   1         1   \n",
            "265   28       0         0           0                   0         0   \n",
            "\n",
            "     polyphagia  genital_thrush  visual_blurring  itching  irritability  \\\n",
            "260           0               0                0        0             0   \n",
            "184           1               1                0        0             1   \n",
            "172           0               0                1        0             0   \n",
            "193           0               1                1        1             0   \n",
            "154           0               1                1        1             1   \n",
            "..          ...             ...              ...      ...           ...   \n",
            "123           0               0                1        1             0   \n",
            "369           0               0                0        1             0   \n",
            "320           0               0                0        1             0   \n",
            "125           1               0                1        0             0   \n",
            "265           0               0                1        0             0   \n",
            "\n",
            "     delayed_healing  partial_paresis  muscle_stiffness  alopecia  obesity  \n",
            "260                0                0                 0         0        0  \n",
            "184                1                0                 1         1        1  \n",
            "172                0                1                 0         1        0  \n",
            "193                1                0                 0         0        0  \n",
            "154                0                1                 1         1        1  \n",
            "..               ...              ...               ...       ...      ...  \n",
            "123                0                0                 0         1        1  \n",
            "369                0                0                 0         1        0  \n",
            "320                1                0                 0         1        0  \n",
            "125                1                1                 0         0        0  \n",
            "265                0                1                 1         0        0  \n",
            "\n",
            "[442 rows x 16 columns]\n",
            "260    1\n",
            "184    1\n",
            "172    1\n",
            "193    1\n",
            "154    1\n",
            "      ..\n",
            "123    1\n",
            "369    0\n",
            "320    0\n",
            "125    1\n",
            "265    1\n",
            "Name: class, Length: 442, dtype: int64\n"
          ]
        }
      ]
    },
    {
      "cell_type": "markdown",
      "source": [
        "**Training Dataset**"
      ],
      "metadata": {
        "id": "V0e7qc-4zHIl"
      }
    },
    {
      "cell_type": "code",
      "source": [
        "model = tf.keras.models.Sequential([\n",
        "  tf.keras.layers.Dense(units = 128, activation = \"relu\"),\n",
        "  tf.keras.layers.Dropout(0.2),\n",
        "  tf.keras.layers.Dense(units = 32, activation = \"relu\"),\n",
        "  tf.keras.layers.Dropout(0.1),\n",
        "  tf.keras.layers.Dense(units = 1,activation = \"sigmoid\"),\n",
        "  tf.keras.layers.Flatten()\n",
        "  ])\n",
        "\n",
        "model.compile(optimizer = \"adam\", \n",
        "              loss = \"binary_crossentropy\" , \n",
        "              metrics=[\"accuracy\"])\n",
        "\n",
        "#Here we train our model.\n",
        "history = model.fit(x_train,y_train,epochs = 100,validation_data = (x_test,y_test))\n",
        "#This the inference phase.We try our model on test data.\n",
        "y_pred = model.predict(x_test)\n",
        "y_pred = (y_pred > 0.5)"
      ],
      "metadata": {
        "colab": {
          "base_uri": "https://localhost:8080/"
        },
        "id": "95Tdsk7onrug",
        "outputId": "e5770ebf-cc9c-4197-fcf0-f965737be16e"
      },
      "execution_count": 41,
      "outputs": [
        {
          "output_type": "stream",
          "name": "stdout",
          "text": [
            "Epoch 1/100\n",
            "14/14 [==============================] - 2s 33ms/step - loss: 1.0965 - accuracy: 0.5792 - val_loss: 0.6035 - val_accuracy: 0.7949\n",
            "Epoch 2/100\n",
            "14/14 [==============================] - 0s 10ms/step - loss: 0.9078 - accuracy: 0.5769 - val_loss: 0.6320 - val_accuracy: 0.6026\n",
            "Epoch 3/100\n",
            "14/14 [==============================] - 0s 9ms/step - loss: 0.8733 - accuracy: 0.6018 - val_loss: 0.5064 - val_accuracy: 0.6410\n",
            "Epoch 4/100\n",
            "14/14 [==============================] - 0s 10ms/step - loss: 0.7341 - accuracy: 0.6357 - val_loss: 0.4926 - val_accuracy: 0.6538\n",
            "Epoch 5/100\n",
            "14/14 [==============================] - 0s 6ms/step - loss: 0.6892 - accuracy: 0.6652 - val_loss: 0.3872 - val_accuracy: 0.8462\n",
            "Epoch 6/100\n",
            "14/14 [==============================] - 0s 5ms/step - loss: 0.6308 - accuracy: 0.6787 - val_loss: 0.4013 - val_accuracy: 0.8333\n",
            "Epoch 7/100\n",
            "14/14 [==============================] - 0s 5ms/step - loss: 0.6239 - accuracy: 0.6855 - val_loss: 0.4062 - val_accuracy: 0.7949\n",
            "Epoch 8/100\n",
            "14/14 [==============================] - 0s 6ms/step - loss: 0.5310 - accuracy: 0.7195 - val_loss: 0.3000 - val_accuracy: 0.9231\n",
            "Epoch 9/100\n",
            "14/14 [==============================] - 0s 4ms/step - loss: 0.5023 - accuracy: 0.7489 - val_loss: 0.2949 - val_accuracy: 0.9487\n",
            "Epoch 10/100\n",
            "14/14 [==============================] - 0s 5ms/step - loss: 0.4246 - accuracy: 0.8077 - val_loss: 0.2576 - val_accuracy: 0.9487\n",
            "Epoch 11/100\n",
            "14/14 [==============================] - 0s 4ms/step - loss: 0.4358 - accuracy: 0.7986 - val_loss: 0.2363 - val_accuracy: 0.9487\n",
            "Epoch 12/100\n",
            "14/14 [==============================] - 0s 4ms/step - loss: 0.4111 - accuracy: 0.8122 - val_loss: 0.2289 - val_accuracy: 0.9231\n",
            "Epoch 13/100\n",
            "14/14 [==============================] - 0s 5ms/step - loss: 0.3864 - accuracy: 0.8167 - val_loss: 0.2159 - val_accuracy: 0.9487\n",
            "Epoch 14/100\n",
            "14/14 [==============================] - 0s 5ms/step - loss: 0.3694 - accuracy: 0.8235 - val_loss: 0.2063 - val_accuracy: 0.9359\n",
            "Epoch 15/100\n",
            "14/14 [==============================] - 0s 4ms/step - loss: 0.3620 - accuracy: 0.8484 - val_loss: 0.1977 - val_accuracy: 0.9359\n",
            "Epoch 16/100\n",
            "14/14 [==============================] - 0s 6ms/step - loss: 0.3158 - accuracy: 0.8529 - val_loss: 0.1938 - val_accuracy: 0.8846\n",
            "Epoch 17/100\n",
            "14/14 [==============================] - 0s 5ms/step - loss: 0.3334 - accuracy: 0.8529 - val_loss: 0.1828 - val_accuracy: 0.9359\n",
            "Epoch 18/100\n",
            "14/14 [==============================] - 0s 6ms/step - loss: 0.3013 - accuracy: 0.8484 - val_loss: 0.1775 - val_accuracy: 0.9359\n",
            "Epoch 19/100\n",
            "14/14 [==============================] - 0s 5ms/step - loss: 0.3228 - accuracy: 0.8597 - val_loss: 0.1967 - val_accuracy: 0.8974\n",
            "Epoch 20/100\n",
            "14/14 [==============================] - 0s 6ms/step - loss: 0.3108 - accuracy: 0.8733 - val_loss: 0.1752 - val_accuracy: 0.9615\n",
            "Epoch 21/100\n",
            "14/14 [==============================] - 0s 6ms/step - loss: 0.2960 - accuracy: 0.8710 - val_loss: 0.1698 - val_accuracy: 0.8974\n",
            "Epoch 22/100\n",
            "14/14 [==============================] - 0s 4ms/step - loss: 0.2740 - accuracy: 0.8824 - val_loss: 0.1733 - val_accuracy: 0.8974\n",
            "Epoch 23/100\n",
            "14/14 [==============================] - 0s 5ms/step - loss: 0.2680 - accuracy: 0.9027 - val_loss: 0.1936 - val_accuracy: 0.8974\n",
            "Epoch 24/100\n",
            "14/14 [==============================] - 0s 5ms/step - loss: 0.3054 - accuracy: 0.8778 - val_loss: 0.1894 - val_accuracy: 0.8974\n",
            "Epoch 25/100\n",
            "14/14 [==============================] - 0s 6ms/step - loss: 0.3011 - accuracy: 0.8710 - val_loss: 0.1718 - val_accuracy: 0.9231\n",
            "Epoch 26/100\n",
            "14/14 [==============================] - 0s 4ms/step - loss: 0.2759 - accuracy: 0.8869 - val_loss: 0.1618 - val_accuracy: 0.8974\n",
            "Epoch 27/100\n",
            "14/14 [==============================] - 0s 5ms/step - loss: 0.2614 - accuracy: 0.8914 - val_loss: 0.1537 - val_accuracy: 0.9359\n",
            "Epoch 28/100\n",
            "14/14 [==============================] - 0s 6ms/step - loss: 0.2556 - accuracy: 0.8982 - val_loss: 0.1558 - val_accuracy: 0.8974\n",
            "Epoch 29/100\n",
            "14/14 [==============================] - 0s 5ms/step - loss: 0.2422 - accuracy: 0.8982 - val_loss: 0.1550 - val_accuracy: 0.9103\n",
            "Epoch 30/100\n",
            "14/14 [==============================] - 0s 5ms/step - loss: 0.2232 - accuracy: 0.9095 - val_loss: 0.1488 - val_accuracy: 0.8974\n",
            "Epoch 31/100\n",
            "14/14 [==============================] - 0s 5ms/step - loss: 0.2397 - accuracy: 0.8959 - val_loss: 0.1531 - val_accuracy: 0.9103\n",
            "Epoch 32/100\n",
            "14/14 [==============================] - 0s 4ms/step - loss: 0.2627 - accuracy: 0.8824 - val_loss: 0.2054 - val_accuracy: 0.8718\n",
            "Epoch 33/100\n",
            "14/14 [==============================] - 0s 6ms/step - loss: 0.2515 - accuracy: 0.8891 - val_loss: 0.1564 - val_accuracy: 0.9103\n",
            "Epoch 34/100\n",
            "14/14 [==============================] - 0s 6ms/step - loss: 0.2260 - accuracy: 0.8937 - val_loss: 0.1529 - val_accuracy: 0.9103\n",
            "Epoch 35/100\n",
            "14/14 [==============================] - 0s 4ms/step - loss: 0.2388 - accuracy: 0.9072 - val_loss: 0.1443 - val_accuracy: 0.9744\n",
            "Epoch 36/100\n",
            "14/14 [==============================] - 0s 6ms/step - loss: 0.2360 - accuracy: 0.8982 - val_loss: 0.1660 - val_accuracy: 0.9103\n",
            "Epoch 37/100\n",
            "14/14 [==============================] - 0s 4ms/step - loss: 0.2389 - accuracy: 0.9050 - val_loss: 0.1989 - val_accuracy: 0.9103\n",
            "Epoch 38/100\n",
            "14/14 [==============================] - 0s 4ms/step - loss: 0.2523 - accuracy: 0.8914 - val_loss: 0.1754 - val_accuracy: 0.9103\n",
            "Epoch 39/100\n",
            "14/14 [==============================] - 0s 6ms/step - loss: 0.2185 - accuracy: 0.9186 - val_loss: 0.1399 - val_accuracy: 0.9744\n",
            "Epoch 40/100\n",
            "14/14 [==============================] - 0s 6ms/step - loss: 0.2444 - accuracy: 0.8914 - val_loss: 0.2013 - val_accuracy: 0.9103\n",
            "Epoch 41/100\n",
            "14/14 [==============================] - 0s 4ms/step - loss: 0.2227 - accuracy: 0.8937 - val_loss: 0.1557 - val_accuracy: 0.9103\n",
            "Epoch 42/100\n",
            "14/14 [==============================] - 0s 5ms/step - loss: 0.2126 - accuracy: 0.9231 - val_loss: 0.1377 - val_accuracy: 0.9103\n",
            "Epoch 43/100\n",
            "14/14 [==============================] - 0s 4ms/step - loss: 0.2187 - accuracy: 0.9140 - val_loss: 0.1541 - val_accuracy: 0.9103\n",
            "Epoch 44/100\n",
            "14/14 [==============================] - 0s 4ms/step - loss: 0.2104 - accuracy: 0.9140 - val_loss: 0.1520 - val_accuracy: 0.9103\n",
            "Epoch 45/100\n",
            "14/14 [==============================] - 0s 5ms/step - loss: 0.2288 - accuracy: 0.9050 - val_loss: 0.1605 - val_accuracy: 0.9103\n",
            "Epoch 46/100\n",
            "14/14 [==============================] - 0s 4ms/step - loss: 0.2046 - accuracy: 0.9140 - val_loss: 0.1436 - val_accuracy: 0.9103\n",
            "Epoch 47/100\n",
            "14/14 [==============================] - 0s 6ms/step - loss: 0.1892 - accuracy: 0.9253 - val_loss: 0.1653 - val_accuracy: 0.9103\n",
            "Epoch 48/100\n",
            "14/14 [==============================] - 0s 4ms/step - loss: 0.2184 - accuracy: 0.9118 - val_loss: 0.1514 - val_accuracy: 0.9103\n",
            "Epoch 49/100\n",
            "14/14 [==============================] - 0s 6ms/step - loss: 0.2002 - accuracy: 0.9253 - val_loss: 0.1799 - val_accuracy: 0.9103\n",
            "Epoch 50/100\n",
            "14/14 [==============================] - 0s 6ms/step - loss: 0.1935 - accuracy: 0.9231 - val_loss: 0.1471 - val_accuracy: 0.9103\n",
            "Epoch 51/100\n",
            "14/14 [==============================] - 0s 6ms/step - loss: 0.2137 - accuracy: 0.9163 - val_loss: 0.1511 - val_accuracy: 0.9103\n",
            "Epoch 52/100\n",
            "14/14 [==============================] - 0s 4ms/step - loss: 0.2169 - accuracy: 0.9027 - val_loss: 0.1279 - val_accuracy: 0.9487\n",
            "Epoch 53/100\n",
            "14/14 [==============================] - 0s 6ms/step - loss: 0.2063 - accuracy: 0.9140 - val_loss: 0.1938 - val_accuracy: 0.8974\n",
            "Epoch 54/100\n",
            "14/14 [==============================] - 0s 4ms/step - loss: 0.2058 - accuracy: 0.9163 - val_loss: 0.1592 - val_accuracy: 0.9103\n",
            "Epoch 55/100\n",
            "14/14 [==============================] - 0s 6ms/step - loss: 0.2153 - accuracy: 0.9095 - val_loss: 0.1649 - val_accuracy: 0.9103\n",
            "Epoch 56/100\n",
            "14/14 [==============================] - 0s 4ms/step - loss: 0.1982 - accuracy: 0.9118 - val_loss: 0.1242 - val_accuracy: 0.9487\n",
            "Epoch 57/100\n",
            "14/14 [==============================] - 0s 6ms/step - loss: 0.1872 - accuracy: 0.9253 - val_loss: 0.1652 - val_accuracy: 0.9103\n",
            "Epoch 58/100\n",
            "14/14 [==============================] - 0s 4ms/step - loss: 0.2092 - accuracy: 0.9186 - val_loss: 0.1692 - val_accuracy: 0.9103\n",
            "Epoch 59/100\n",
            "14/14 [==============================] - 0s 6ms/step - loss: 0.1883 - accuracy: 0.9208 - val_loss: 0.1406 - val_accuracy: 0.9103\n",
            "Epoch 60/100\n",
            "14/14 [==============================] - 0s 6ms/step - loss: 0.2048 - accuracy: 0.9095 - val_loss: 0.1383 - val_accuracy: 0.9231\n",
            "Epoch 61/100\n",
            "14/14 [==============================] - 0s 4ms/step - loss: 0.1979 - accuracy: 0.9231 - val_loss: 0.1394 - val_accuracy: 0.9103\n",
            "Epoch 62/100\n",
            "14/14 [==============================] - 0s 4ms/step - loss: 0.2030 - accuracy: 0.9072 - val_loss: 0.1285 - val_accuracy: 0.9487\n",
            "Epoch 63/100\n",
            "14/14 [==============================] - 0s 4ms/step - loss: 0.2029 - accuracy: 0.9163 - val_loss: 0.2393 - val_accuracy: 0.8718\n",
            "Epoch 64/100\n",
            "14/14 [==============================] - 0s 5ms/step - loss: 0.2177 - accuracy: 0.9095 - val_loss: 0.1264 - val_accuracy: 0.9872\n",
            "Epoch 65/100\n",
            "14/14 [==============================] - 0s 5ms/step - loss: 0.2005 - accuracy: 0.9163 - val_loss: 0.1491 - val_accuracy: 0.9103\n",
            "Epoch 66/100\n",
            "14/14 [==============================] - 0s 4ms/step - loss: 0.1877 - accuracy: 0.9344 - val_loss: 0.1593 - val_accuracy: 0.9103\n",
            "Epoch 67/100\n",
            "14/14 [==============================] - 0s 6ms/step - loss: 0.1816 - accuracy: 0.9276 - val_loss: 0.1627 - val_accuracy: 0.9103\n",
            "Epoch 68/100\n",
            "14/14 [==============================] - 0s 5ms/step - loss: 0.1936 - accuracy: 0.9163 - val_loss: 0.1234 - val_accuracy: 0.9487\n",
            "Epoch 69/100\n",
            "14/14 [==============================] - 0s 4ms/step - loss: 0.2158 - accuracy: 0.9118 - val_loss: 0.2971 - val_accuracy: 0.8718\n",
            "Epoch 70/100\n",
            "14/14 [==============================] - 0s 4ms/step - loss: 0.1838 - accuracy: 0.9321 - val_loss: 0.1295 - val_accuracy: 0.9872\n",
            "Epoch 71/100\n",
            "14/14 [==============================] - 0s 4ms/step - loss: 0.1770 - accuracy: 0.9186 - val_loss: 0.1816 - val_accuracy: 0.9103\n",
            "Epoch 72/100\n",
            "14/14 [==============================] - 0s 6ms/step - loss: 0.1758 - accuracy: 0.9231 - val_loss: 0.1379 - val_accuracy: 0.9103\n",
            "Epoch 73/100\n",
            "14/14 [==============================] - 0s 5ms/step - loss: 0.1858 - accuracy: 0.9299 - val_loss: 0.1279 - val_accuracy: 0.9103\n",
            "Epoch 74/100\n",
            "14/14 [==============================] - 0s 4ms/step - loss: 0.1845 - accuracy: 0.9276 - val_loss: 0.1332 - val_accuracy: 0.9103\n",
            "Epoch 75/100\n",
            "14/14 [==============================] - 0s 4ms/step - loss: 0.1784 - accuracy: 0.9299 - val_loss: 0.1371 - val_accuracy: 0.9103\n",
            "Epoch 76/100\n",
            "14/14 [==============================] - 0s 6ms/step - loss: 0.1735 - accuracy: 0.9321 - val_loss: 0.1295 - val_accuracy: 0.9103\n",
            "Epoch 77/100\n",
            "14/14 [==============================] - 0s 7ms/step - loss: 0.1953 - accuracy: 0.9208 - val_loss: 0.1631 - val_accuracy: 0.9103\n",
            "Epoch 78/100\n",
            "14/14 [==============================] - 0s 5ms/step - loss: 0.1838 - accuracy: 0.9140 - val_loss: 0.1556 - val_accuracy: 0.9103\n",
            "Epoch 79/100\n",
            "14/14 [==============================] - 0s 4ms/step - loss: 0.1855 - accuracy: 0.9344 - val_loss: 0.1202 - val_accuracy: 0.9487\n",
            "Epoch 80/100\n",
            "14/14 [==============================] - 0s 5ms/step - loss: 0.1816 - accuracy: 0.9231 - val_loss: 0.1417 - val_accuracy: 0.9103\n",
            "Epoch 81/100\n",
            "14/14 [==============================] - 0s 7ms/step - loss: 0.1662 - accuracy: 0.9276 - val_loss: 0.1228 - val_accuracy: 0.9487\n",
            "Epoch 82/100\n",
            "14/14 [==============================] - 0s 5ms/step - loss: 0.1669 - accuracy: 0.9253 - val_loss: 0.1560 - val_accuracy: 0.9103\n",
            "Epoch 83/100\n",
            "14/14 [==============================] - 0s 6ms/step - loss: 0.1672 - accuracy: 0.9344 - val_loss: 0.1198 - val_accuracy: 0.9487\n",
            "Epoch 84/100\n",
            "14/14 [==============================] - 0s 6ms/step - loss: 0.1845 - accuracy: 0.9231 - val_loss: 0.1348 - val_accuracy: 0.9231\n",
            "Epoch 85/100\n",
            "14/14 [==============================] - 0s 5ms/step - loss: 0.1800 - accuracy: 0.9276 - val_loss: 0.1320 - val_accuracy: 0.9231\n",
            "Epoch 86/100\n",
            "14/14 [==============================] - 0s 4ms/step - loss: 0.1720 - accuracy: 0.9299 - val_loss: 0.1184 - val_accuracy: 0.9487\n",
            "Epoch 87/100\n",
            "14/14 [==============================] - 0s 6ms/step - loss: 0.1625 - accuracy: 0.9276 - val_loss: 0.1599 - val_accuracy: 0.9103\n",
            "Epoch 88/100\n",
            "14/14 [==============================] - 0s 4ms/step - loss: 0.1834 - accuracy: 0.9208 - val_loss: 0.1294 - val_accuracy: 0.9231\n",
            "Epoch 89/100\n",
            "14/14 [==============================] - 0s 4ms/step - loss: 0.1589 - accuracy: 0.9344 - val_loss: 0.1140 - val_accuracy: 0.9487\n",
            "Epoch 90/100\n",
            "14/14 [==============================] - 0s 6ms/step - loss: 0.1662 - accuracy: 0.9231 - val_loss: 0.1245 - val_accuracy: 0.9487\n",
            "Epoch 91/100\n",
            "14/14 [==============================] - 0s 5ms/step - loss: 0.1739 - accuracy: 0.9367 - val_loss: 0.1310 - val_accuracy: 0.9231\n",
            "Epoch 92/100\n",
            "14/14 [==============================] - 0s 6ms/step - loss: 0.1582 - accuracy: 0.9344 - val_loss: 0.1230 - val_accuracy: 0.9231\n",
            "Epoch 93/100\n",
            "14/14 [==============================] - 0s 6ms/step - loss: 0.1649 - accuracy: 0.9299 - val_loss: 0.1415 - val_accuracy: 0.9103\n",
            "Epoch 94/100\n",
            "14/14 [==============================] - 0s 5ms/step - loss: 0.1553 - accuracy: 0.9367 - val_loss: 0.1429 - val_accuracy: 0.9103\n",
            "Epoch 95/100\n",
            "14/14 [==============================] - 0s 6ms/step - loss: 0.1505 - accuracy: 0.9434 - val_loss: 0.1147 - val_accuracy: 0.9487\n",
            "Epoch 96/100\n",
            "14/14 [==============================] - 0s 6ms/step - loss: 0.1603 - accuracy: 0.9344 - val_loss: 0.1543 - val_accuracy: 0.9103\n",
            "Epoch 97/100\n",
            "14/14 [==============================] - 0s 4ms/step - loss: 0.1527 - accuracy: 0.9344 - val_loss: 0.1091 - val_accuracy: 0.9487\n",
            "Epoch 98/100\n",
            "14/14 [==============================] - 0s 7ms/step - loss: 0.1611 - accuracy: 0.9367 - val_loss: 0.1188 - val_accuracy: 0.9487\n",
            "Epoch 99/100\n",
            "14/14 [==============================] - 0s 5ms/step - loss: 0.1624 - accuracy: 0.9389 - val_loss: 0.1577 - val_accuracy: 0.9103\n",
            "Epoch 100/100\n",
            "14/14 [==============================] - 0s 5ms/step - loss: 0.1744 - accuracy: 0.9253 - val_loss: 0.1193 - val_accuracy: 0.9231\n"
          ]
        }
      ]
    },
    {
      "cell_type": "markdown",
      "source": [
        "**Plot Accuracy and Loss**"
      ],
      "metadata": {
        "id": "QhUkzure3hRS"
      }
    },
    {
      "cell_type": "code",
      "source": [
        "#-----------------------------------------------------------\n",
        "# Retrieve a list of list results on training and test data\n",
        "# sets for each training epoch\n",
        "#-----------------------------------------------------------\n",
        "acc      = history.history[     'accuracy' ]\n",
        "val_acc  = history.history[ 'val_accuracy' ]\n",
        "loss     = history.history[    'loss' ]\n",
        "val_loss = history.history['val_loss' ]\n",
        "\n",
        "epochs   = range(len(acc)) # Get number of epochs\n",
        "\n",
        "#------------------------------------------------\n",
        "# Plot training and validation accuracy per epoch\n",
        "#------------------------------------------------\n",
        "plt.plot  ( epochs,     acc )\n",
        "plt.plot  ( epochs, val_acc )\n",
        "plt.title ('Training and validation accuracy')\n",
        "plt.figure()\n",
        "\n",
        "#------------------------------------------------\n",
        "# Plot training and validation loss per epoch\n",
        "#------------------------------------------------\n",
        "plt.plot  ( epochs,     loss )\n",
        "plt.plot  ( epochs, val_loss )\n",
        "plt.title ('Training and validation loss'   )"
      ],
      "metadata": {
        "id": "_hwSfw-50GEu",
        "outputId": "e3ba13d4-4579-4b86-d2fc-4d20871f2a3b",
        "colab": {
          "base_uri": "https://localhost:8080/",
          "height": 562
        }
      },
      "execution_count": 42,
      "outputs": [
        {
          "output_type": "execute_result",
          "data": {
            "text/plain": [
              "Text(0.5, 1.0, 'Training and validation loss')"
            ]
          },
          "metadata": {},
          "execution_count": 42
        },
        {
          "output_type": "display_data",
          "data": {
            "text/plain": [
              "<Figure size 432x288 with 1 Axes>"
            ],
            "image/png": "[encoded data removed]"
          },
          "metadata": {
            "needs_background": "light"
          }
        },
        {
          "output_type": "display_data",
          "data": {
            "text/plain": [
              "<Figure size 432x288 with 1 Axes>"
            ],
            "image/png": "[encoded data removed]"
          },
          "metadata": {
            "needs_background": "light"
          }
        }
      ]
    },
    {
      "cell_type": "markdown",
      "source": [
        "**Plotting Confusion Matrix**"
      ],
      "metadata": {
        "id": "NsYpWyOnzQZc"
      }
    },
    {
      "cell_type": "code",
      "source": [
        "cm = confusion_matrix(y_test,y_pred)\n",
        "print(cm)\n",
        "accuracy_score(y_test,y_pred)"
      ],
      "metadata": {
        "id": "SJ30uAi3zVAZ",
        "outputId": "9f6b187d-37fa-4ccf-d04c-99f0ee704ba0",
        "colab": {
          "base_uri": "https://localhost:8080/"
        }
      },
      "execution_count": 43,
      "outputs": [
        {
          "output_type": "stream",
          "name": "stdout",
          "text": [
            "[[26  5]\n",
            " [ 1 46]]\n"
          ]
        },
        {
          "output_type": "execute_result",
          "data": {
            "text/plain": [
              "0.9230769230769231"
            ]
          },
          "metadata": {},
          "execution_count": 43
        }
      ]
    },
    {
      "cell_type": "code",
      "source": [
        "def normalized_confusion_matrix(y_test, conf_mat, model):\n",
        "    _ , counts = np.unique(y_test,return_counts=True)\n",
        "    conf_mat = conf_mat/counts\n",
        "    plt.figure(figsize=(6,5))\n",
        "    ax=sns.heatmap(conf_mat,fmt='.2f',annot=True,annot_kws={'size':20},lw=2, cbar=True, cbar_kws={'label':'% Class accuracy'})\n",
        "    plt.title(f'Confusion Matrix ({model})',size=22)\n",
        "    plt.xticks(size=20)\n",
        "    plt.yticks(size=20)\n",
        "    ax.figure.axes[-1].yaxis.label.set_size(20) ##colorbar label\n",
        "    cax = plt.gcf().axes[-1]  ##colorbar ticks\n",
        "    cax.tick_params(labelsize=20) ## colorbar ticks\n",
        "    plt.savefig(f'confusion-matrix-{model}.png',dpi=300)"
      ],
      "metadata": {
        "id": "UnW9W0hjrJLu"
      },
      "execution_count": 44,
      "outputs": []
    },
    {
      "cell_type": "code",
      "source": [
        "conf_mat = confusion_matrix(y_test,y_pred)\n",
        "normalized_confusion_matrix(y_test,conf_mat, 'Diabetes Pred Model')"
      ],
      "metadata": {
        "colab": {
          "base_uri": "https://localhost:8080/",
          "height": 351
        },
        "id": "r9zCB6K2rqRE",
        "outputId": "07ac61bd-7ae3-44dd-b997-2b4afddb0656"
      },
      "execution_count": 45,
      "outputs": [
        {
          "output_type": "display_data",
          "data": {
            "text/plain": [
              "<Figure size 432x360 with 2 Axes>"
            ],
            "image/png": "[encoded data removed]"
          },
          "metadata": {
            "needs_background": "light"
          }
        }
      ]
    },
    {
      "cell_type": "code",
      "source": [
        "model.summary()"
      ],
      "metadata": {
        "colab": {
          "base_uri": "https://localhost:8080/"
        },
        "id": "j04GGyQEoG1F",
        "outputId": "3ae3bd65-2ec5-44a5-e654-a395a6c0071a"
      },
      "execution_count": 46,
      "outputs": [
        {
          "output_type": "stream",
          "name": "stdout",
          "text": [
            "Model: \"sequential_3\"\n",
            "_________________________________________________________________\n",
            " Layer (type)                Output Shape              Param #   \n",
            "=================================================================\n",
            " dense_9 (Dense)             (None, 128)               2176      \n",
            "                                                                 \n",
            " dropout_6 (Dropout)         (None, 128)               0         \n",
            "                                                                 \n",
            " dense_10 (Dense)            (None, 32)                4128      \n",
            "                                                                 \n",
            " dropout_7 (Dropout)         (None, 32)                0         \n",
            "                                                                 \n",
            " dense_11 (Dense)            (None, 1)                 33        \n",
            "                                                                 \n",
            " flatten (Flatten)           (None, 1)                 0         \n",
            "                                                                 \n",
            "=================================================================\n",
            "Total params: 6,337\n",
            "Trainable params: 6,337\n",
            "Non-trainable params: 0\n",
            "_________________________________________________________________\n"
          ]
        }
      ]
    },
    {
      "cell_type": "markdown",
      "source": [
        "**Save the Model**"
      ],
      "metadata": {
        "id": "Ds7OU4nizc9C"
      }
    },
    {
      "cell_type": "code",
      "source": [
        "tf.saved_model.save(\n",
        "    model,\n",
        "    export_dir = \"/tmp/myModel\",\n",
        ")"
      ],
      "metadata": {
        "id": "azt5PZJTsIJ4",
        "outputId": "8efdab7c-fbc2-42f2-9b8d-7dd53d8a8160",
        "colab": {
          "base_uri": "https://localhost:8080/"
        }
      },
      "execution_count": 47,
      "outputs": [
        {
          "output_type": "stream",
          "name": "stdout",
          "text": [
            "INFO:tensorflow:Assets written to: /tmp/myModel/assets\n"
          ]
        }
      ]
    },
    {
      "cell_type": "code",
      "source": [
        "model.save('/tmp/myModel/mymodel.h5')"
      ],
      "metadata": {
        "id": "ET3jrCNZIhtp"
      },
      "execution_count": 48,
      "outputs": []
    },
    {
      "cell_type": "code",
      "source": [
        "model.summary()"
      ],
      "metadata": {
        "id": "mV9Go2-EM_Gw",
        "outputId": "1ae60be4-f55b-4336-9d08-483441d2fa2a",
        "colab": {
          "base_uri": "https://localhost:8080/"
        }
      },
      "execution_count": 49,
      "outputs": [
        {
          "output_type": "stream",
          "name": "stdout",
          "text": [
            "Model: \"sequential_3\"\n",
            "_________________________________________________________________\n",
            " Layer (type)                Output Shape              Param #   \n",
            "=================================================================\n",
            " dense_9 (Dense)             (None, 128)               2176      \n",
            "                                                                 \n",
            " dropout_6 (Dropout)         (None, 128)               0         \n",
            "                                                                 \n",
            " dense_10 (Dense)            (None, 32)                4128      \n",
            "                                                                 \n",
            " dropout_7 (Dropout)         (None, 32)                0         \n",
            "                                                                 \n",
            " dense_11 (Dense)            (None, 1)                 33        \n",
            "                                                                 \n",
            " flatten (Flatten)           (None, 1)                 0         \n",
            "                                                                 \n",
            "=================================================================\n",
            "Total params: 6,337\n",
            "Trainable params: 6,337\n",
            "Non-trainable params: 0\n",
            "_________________________________________________________________\n"
          ]
        }
      ]
    },
    {
      "cell_type": "code",
      "source": [
        "pickle.dump(model,open('model.pkl','wb'))"
      ],
      "metadata": {
        "colab": {
          "base_uri": "https://localhost:8080/"
        },
        "id": "8RchaCU0l2D0",
        "outputId": "836f48ef-7ed3-4616-d554-21fb57704e9d"
      },
      "execution_count": null,
      "outputs": [
        {
          "output_type": "stream",
          "name": "stdout",
          "text": [
            "INFO:tensorflow:Assets written to: ram://5172d3cb-201c-4b99-b2b8-55c6b8cb91fe/assets\n"
          ]
        }
      ]
    },
    {
      "cell_type": "code",
      "source": [
        "model = pickle.load(open('model.pkl','rb'))"
      ],
      "metadata": {
        "id": "SmIQYhCkmqAq"
      },
      "execution_count": null,
      "outputs": []
    },
    {
      "cell_type": "code",
      "source": [
        ""
      ],
      "metadata": {
        "id": "48QKMhDwnQJF"
      },
      "execution_count": null,
      "outputs": []
    }
  ]
}