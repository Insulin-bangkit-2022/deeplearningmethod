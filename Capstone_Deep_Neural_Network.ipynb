{
  "nbformat": 4,
  "nbformat_minor": 0,
  "metadata": {
    "colab": {
      "name": "Copy of Capstone Deep Neural Network",
      "provenance": [],
      "collapsed_sections": [],
      "include_colab_link": true
    },
    "kernelspec": {
      "name": "python3",
      "display_name": "Python 3"
    },
    "language_info": {
      "name": "python"
    }
  },
  "cells": [
    {
      "cell_type": "markdown",
      "metadata": {
        "id": "view-in-github",
        "colab_type": "text"
      },
      "source": [
        "<a href=\"https://colab.research.google.com/github/Insulin-bangkit-2022/deeplearningmethod/blob/main/Capstone_Deep_Neural_Network.ipynb\" target=\"_parent\"><img src=\"https://colab.research.google.com/assets/colab-badge.svg\" alt=\"Open In Colab\"/></a>"
      ]
    },
    {
      "cell_type": "markdown",
      "source": [
        "**Import Libraries**"
      ],
      "metadata": {
        "id": "TU94yADPye0c"
      }
    },
    {
      "cell_type": "code",
      "execution_count": 41,
      "metadata": {
        "id": "s5SSMF1qjq_E"
      },
      "outputs": [],
      "source": [
        "import pandas as pd \n",
        "import matplotlib.pyplot as plt\n",
        "import seaborn as sns\n",
        "import tensorflow as tf\n",
        "import numpy as np\n",
        "import pickle\n",
        "from sklearn.model_selection import train_test_split\n",
        "from sklearn.metrics import confusion_matrix,accuracy_score\n",
        "from keras.models import load_model\n",
        "%matplotlib inline"
      ]
    },
    {
      "cell_type": "markdown",
      "source": [
        "**Import Diabetes Dataset from Kaggle**\n",
        "\n",
        "Diabetes dataset is taken from kaggle and put in the team's github repository"
      ],
      "metadata": {
        "id": "fNuGEZI4yla5"
      }
    },
    {
      "cell_type": "code",
      "source": [
        "url = 'https://raw.githubusercontent.com/Insulin-bangkit-2022/deeplearningmethod/main/diabetes_data.csv'\n",
        "data = pd.read_csv(url, delimiter = ';')\n",
        "data"
      ],
      "metadata": {
        "id": "OyXuTTzA84a8",
        "outputId": "7ee68ee9-db4b-403e-b9f7-e011aad95519",
        "colab": {
          "base_uri": "https://localhost:8080/",
          "height": 488
        }
      },
      "execution_count": 43,
      "outputs": [
        {
          "output_type": "execute_result",
          "data": {
            "text/plain": [
              "     age  gender  polyuria  polydipsia  sudden_weight_loss  weakness  \\\n",
              "0     40    Male         0           1                   0         1   \n",
              "1     58    Male         0           0                   0         1   \n",
              "2     41    Male         1           0                   0         1   \n",
              "3     45    Male         0           0                   1         1   \n",
              "4     60    Male         1           1                   1         1   \n",
              "..   ...     ...       ...         ...                 ...       ...   \n",
              "515   39  Female         1           1                   1         0   \n",
              "516   48  Female         1           1                   1         1   \n",
              "517   58  Female         1           1                   1         1   \n",
              "518   32  Female         0           0                   0         1   \n",
              "519   42    Male         0           0                   0         0   \n",
              "\n",
              "     polyphagia  genital_thrush  visual_blurring  itching  irritability  \\\n",
              "0             0               0                0        1             0   \n",
              "1             0               0                1        0             0   \n",
              "2             1               0                0        1             0   \n",
              "3             1               1                0        1             0   \n",
              "4             1               0                1        1             1   \n",
              "..          ...             ...              ...      ...           ...   \n",
              "515           1               0                0        1             0   \n",
              "516           1               0                0        1             1   \n",
              "517           1               0                1        0             0   \n",
              "518           0               0                1        1             0   \n",
              "519           0               0                0        0             0   \n",
              "\n",
              "     delayed_healing  partial_paresis  muscle_stiffness  alopecia  obesity  \\\n",
              "0                  1                0                 1         1        1   \n",
              "1                  0                1                 0         1        0   \n",
              "2                  1                0                 1         1        0   \n",
              "3                  1                0                 0         0        0   \n",
              "4                  1                1                 1         1        1   \n",
              "..               ...              ...               ...       ...      ...   \n",
              "515                1                1                 0         0        0   \n",
              "516                1                1                 0         0        0   \n",
              "517                0                1                 1         0        1   \n",
              "518                1                0                 0         1        0   \n",
              "519                0                0                 0         0        0   \n",
              "\n",
              "     class  \n",
              "0        1  \n",
              "1        1  \n",
              "2        1  \n",
              "3        1  \n",
              "4        1  \n",
              "..     ...  \n",
              "515      1  \n",
              "516      1  \n",
              "517      1  \n",
              "518      0  \n",
              "519      0  \n",
              "\n",
              "[520 rows x 17 columns]"
            ],
            "text/html": [
              "\n",
              "  <div id=\"df-700ccbb5-512f-48c1-8630-5884c83f7c1e\">\n",
              "    <div class=\"colab-df-container\">\n",
              "      <div>\n",
              "<style scoped>\n",
              "    .dataframe tbody tr th:only-of-type {\n",
              "        vertical-align: middle;\n",
              "    }\n",
              "\n",
              "    .dataframe tbody tr th {\n",
              "        vertical-align: top;\n",
              "    }\n",
              "\n",
              "    .dataframe thead th {\n",
              "        text-align: right;\n",
              "    }\n",
              "</style>\n",
              "<table border=\"1\" class=\"dataframe\">\n",
              "  <thead>\n",
              "    <tr style=\"text-align: right;\">\n",
              "      <th></th>\n",
              "      <th>age</th>\n",
              "      <th>gender</th>\n",
              "      <th>polyuria</th>\n",
              "      <th>polydipsia</th>\n",
              "      <th>sudden_weight_loss</th>\n",
              "      <th>weakness</th>\n",
              "      <th>polyphagia</th>\n",
              "      <th>genital_thrush</th>\n",
              "      <th>visual_blurring</th>\n",
              "      <th>itching</th>\n",
              "      <th>irritability</th>\n",
              "      <th>delayed_healing</th>\n",
              "      <th>partial_paresis</th>\n",
              "      <th>muscle_stiffness</th>\n",
              "      <th>alopecia</th>\n",
              "      <th>obesity</th>\n",
              "      <th>class</th>\n",
              "    </tr>\n",
              "  </thead>\n",
              "  <tbody>\n",
              "    <tr>\n",
              "      <th>0</th>\n",
              "      <td>40</td>\n",
              "      <td>Male</td>\n",
              "      <td>0</td>\n",
              "      <td>1</td>\n",
              "      <td>0</td>\n",
              "      <td>1</td>\n",
              "      <td>0</td>\n",
              "      <td>0</td>\n",
              "      <td>0</td>\n",
              "      <td>1</td>\n",
              "      <td>0</td>\n",
              "      <td>1</td>\n",
              "      <td>0</td>\n",
              "      <td>1</td>\n",
              "      <td>1</td>\n",
              "      <td>1</td>\n",
              "      <td>1</td>\n",
              "    </tr>\n",
              "    <tr>\n",
              "      <th>1</th>\n",
              "      <td>58</td>\n",
              "      <td>Male</td>\n",
              "      <td>0</td>\n",
              "      <td>0</td>\n",
              "      <td>0</td>\n",
              "      <td>1</td>\n",
              "      <td>0</td>\n",
              "      <td>0</td>\n",
              "      <td>1</td>\n",
              "      <td>0</td>\n",
              "      <td>0</td>\n",
              "      <td>0</td>\n",
              "      <td>1</td>\n",
              "      <td>0</td>\n",
              "      <td>1</td>\n",
              "      <td>0</td>\n",
              "      <td>1</td>\n",
              "    </tr>\n",
              "    <tr>\n",
              "      <th>2</th>\n",
              "      <td>41</td>\n",
              "      <td>Male</td>\n",
              "      <td>1</td>\n",
              "      <td>0</td>\n",
              "      <td>0</td>\n",
              "      <td>1</td>\n",
              "      <td>1</td>\n",
              "      <td>0</td>\n",
              "      <td>0</td>\n",
              "      <td>1</td>\n",
              "      <td>0</td>\n",
              "      <td>1</td>\n",
              "      <td>0</td>\n",
              "      <td>1</td>\n",
              "      <td>1</td>\n",
              "      <td>0</td>\n",
              "      <td>1</td>\n",
              "    </tr>\n",
              "    <tr>\n",
              "      <th>3</th>\n",
              "      <td>45</td>\n",
              "      <td>Male</td>\n",
              "      <td>0</td>\n",
              "      <td>0</td>\n",
              "      <td>1</td>\n",
              "      <td>1</td>\n",
              "      <td>1</td>\n",
              "      <td>1</td>\n",
              "      <td>0</td>\n",
              "      <td>1</td>\n",
              "      <td>0</td>\n",
              "      <td>1</td>\n",
              "      <td>0</td>\n",
              "      <td>0</td>\n",
              "      <td>0</td>\n",
              "      <td>0</td>\n",
              "      <td>1</td>\n",
              "    </tr>\n",
              "    <tr>\n",
              "      <th>4</th>\n",
              "      <td>60</td>\n",
              "      <td>Male</td>\n",
              "      <td>1</td>\n",
              "      <td>1</td>\n",
              "      <td>1</td>\n",
              "      <td>1</td>\n",
              "      <td>1</td>\n",
              "      <td>0</td>\n",
              "      <td>1</td>\n",
              "      <td>1</td>\n",
              "      <td>1</td>\n",
              "      <td>1</td>\n",
              "      <td>1</td>\n",
              "      <td>1</td>\n",
              "      <td>1</td>\n",
              "      <td>1</td>\n",
              "      <td>1</td>\n",
              "    </tr>\n",
              "    <tr>\n",
              "      <th>...</th>\n",
              "      <td>...</td>\n",
              "      <td>...</td>\n",
              "      <td>...</td>\n",
              "      <td>...</td>\n",
              "      <td>...</td>\n",
              "      <td>...</td>\n",
              "      <td>...</td>\n",
              "      <td>...</td>\n",
              "      <td>...</td>\n",
              "      <td>...</td>\n",
              "      <td>...</td>\n",
              "      <td>...</td>\n",
              "      <td>...</td>\n",
              "      <td>...</td>\n",
              "      <td>...</td>\n",
              "      <td>...</td>\n",
              "      <td>...</td>\n",
              "    </tr>\n",
              "    <tr>\n",
              "      <th>515</th>\n",
              "      <td>39</td>\n",
              "      <td>Female</td>\n",
              "      <td>1</td>\n",
              "      <td>1</td>\n",
              "      <td>1</td>\n",
              "      <td>0</td>\n",
              "      <td>1</td>\n",
              "      <td>0</td>\n",
              "      <td>0</td>\n",
              "      <td>1</td>\n",
              "      <td>0</td>\n",
              "      <td>1</td>\n",
              "      <td>1</td>\n",
              "      <td>0</td>\n",
              "      <td>0</td>\n",
              "      <td>0</td>\n",
              "      <td>1</td>\n",
              "    </tr>\n",
              "    <tr>\n",
              "      <th>516</th>\n",
              "      <td>48</td>\n",
              "      <td>Female</td>\n",
              "      <td>1</td>\n",
              "      <td>1</td>\n",
              "      <td>1</td>\n",
              "      <td>1</td>\n",
              "      <td>1</td>\n",
              "      <td>0</td>\n",
              "      <td>0</td>\n",
              "      <td>1</td>\n",
              "      <td>1</td>\n",
              "      <td>1</td>\n",
              "      <td>1</td>\n",
              "      <td>0</td>\n",
              "      <td>0</td>\n",
              "      <td>0</td>\n",
              "      <td>1</td>\n",
              "    </tr>\n",
              "    <tr>\n",
              "      <th>517</th>\n",
              "      <td>58</td>\n",
              "      <td>Female</td>\n",
              "      <td>1</td>\n",
              "      <td>1</td>\n",
              "      <td>1</td>\n",
              "      <td>1</td>\n",
              "      <td>1</td>\n",
              "      <td>0</td>\n",
              "      <td>1</td>\n",
              "      <td>0</td>\n",
              "      <td>0</td>\n",
              "      <td>0</td>\n",
              "      <td>1</td>\n",
              "      <td>1</td>\n",
              "      <td>0</td>\n",
              "      <td>1</td>\n",
              "      <td>1</td>\n",
              "    </tr>\n",
              "    <tr>\n",
              "      <th>518</th>\n",
              "      <td>32</td>\n",
              "      <td>Female</td>\n",
              "      <td>0</td>\n",
              "      <td>0</td>\n",
              "      <td>0</td>\n",
              "      <td>1</td>\n",
              "      <td>0</td>\n",
              "      <td>0</td>\n",
              "      <td>1</td>\n",
              "      <td>1</td>\n",
              "      <td>0</td>\n",
              "      <td>1</td>\n",
              "      <td>0</td>\n",
              "      <td>0</td>\n",
              "      <td>1</td>\n",
              "      <td>0</td>\n",
              "      <td>0</td>\n",
              "    </tr>\n",
              "    <tr>\n",
              "      <th>519</th>\n",
              "      <td>42</td>\n",
              "      <td>Male</td>\n",
              "      <td>0</td>\n",
              "      <td>0</td>\n",
              "      <td>0</td>\n",
              "      <td>0</td>\n",
              "      <td>0</td>\n",
              "      <td>0</td>\n",
              "      <td>0</td>\n",
              "      <td>0</td>\n",
              "      <td>0</td>\n",
              "      <td>0</td>\n",
              "      <td>0</td>\n",
              "      <td>0</td>\n",
              "      <td>0</td>\n",
              "      <td>0</td>\n",
              "      <td>0</td>\n",
              "    </tr>\n",
              "  </tbody>\n",
              "</table>\n",
              "<p>520 rows × 17 columns</p>\n",
              "</div>\n",
              "      <button class=\"colab-df-convert\" onclick=\"convertToInteractive('df-700ccbb5-512f-48c1-8630-5884c83f7c1e')\"\n",
              "              title=\"Convert this dataframe to an interactive table.\"\n",
              "              style=\"display:none;\">\n",
              "        \n",
              "  <svg xmlns=\"http://www.w3.org/2000/svg\" height=\"24px\"viewBox=\"0 0 24 24\"\n",
              "       width=\"24px\">\n",
              "    <path d=\"M0 0h24v24H0V0z\" fill=\"none\"/>\n",
              "    <path d=\"M18.56 5.44l.94 2.06.94-2.06 2.06-.94-2.06-.94-.94-2.06-.94 2.06-2.06.94zm-11 1L8.5 8.5l.94-2.06 2.06-.94-2.06-.94L8.5 2.5l-.94 2.06-2.06.94zm10 10l.94 2.06.94-2.06 2.06-.94-2.06-.94-.94-2.06-.94 2.06-2.06.94z\"/><path d=\"M17.41 7.96l-1.37-1.37c-.4-.4-.92-.59-1.43-.59-.52 0-1.04.2-1.43.59L10.3 9.45l-7.72 7.72c-.78.78-.78 2.05 0 2.83L4 21.41c.39.39.9.59 1.41.59.51 0 1.02-.2 1.41-.59l7.78-7.78 2.81-2.81c.8-.78.8-2.07 0-2.86zM5.41 20L4 18.59l7.72-7.72 1.47 1.35L5.41 20z\"/>\n",
              "  </svg>\n",
              "      </button>\n",
              "      \n",
              "  <style>\n",
              "    .colab-df-container {\n",
              "      display:flex;\n",
              "      flex-wrap:wrap;\n",
              "      gap: 12px;\n",
              "    }\n",
              "\n",
              "    .colab-df-convert {\n",
              "      background-color: #E8F0FE;\n",
              "      border: none;\n",
              "      border-radius: 50%;\n",
              "      cursor: pointer;\n",
              "      display: none;\n",
              "      fill: #1967D2;\n",
              "      height: 32px;\n",
              "      padding: 0 0 0 0;\n",
              "      width: 32px;\n",
              "    }\n",
              "\n",
              "    .colab-df-convert:hover {\n",
              "      background-color: #E2EBFA;\n",
              "      box-shadow: 0px 1px 2px rgba(60, 64, 67, 0.3), 0px 1px 3px 1px rgba(60, 64, 67, 0.15);\n",
              "      fill: #174EA6;\n",
              "    }\n",
              "\n",
              "    [theme=dark] .colab-df-convert {\n",
              "      background-color: #3B4455;\n",
              "      fill: #D2E3FC;\n",
              "    }\n",
              "\n",
              "    [theme=dark] .colab-df-convert:hover {\n",
              "      background-color: #434B5C;\n",
              "      box-shadow: 0px 1px 3px 1px rgba(0, 0, 0, 0.15);\n",
              "      filter: drop-shadow(0px 1px 2px rgba(0, 0, 0, 0.3));\n",
              "      fill: #FFFFFF;\n",
              "    }\n",
              "  </style>\n",
              "\n",
              "      <script>\n",
              "        const buttonEl =\n",
              "          document.querySelector('#df-700ccbb5-512f-48c1-8630-5884c83f7c1e button.colab-df-convert');\n",
              "        buttonEl.style.display =\n",
              "          google.colab.kernel.accessAllowed ? 'block' : 'none';\n",
              "\n",
              "        async function convertToInteractive(key) {\n",
              "          const element = document.querySelector('#df-700ccbb5-512f-48c1-8630-5884c83f7c1e');\n",
              "          const dataTable =\n",
              "            await google.colab.kernel.invokeFunction('convertToInteractive',\n",
              "                                                     [key], {});\n",
              "          if (!dataTable) return;\n",
              "\n",
              "          const docLinkHtml = 'Like what you see? Visit the ' +\n",
              "            '<a target=\"_blank\" href=https://colab.research.google.com/notebooks/data_table.ipynb>data table notebook</a>'\n",
              "            + ' to learn more about interactive tables.';\n",
              "          element.innerHTML = '';\n",
              "          dataTable['output_type'] = 'display_data';\n",
              "          await google.colab.output.renderOutput(dataTable, element);\n",
              "          const docLink = document.createElement('div');\n",
              "          docLink.innerHTML = docLinkHtml;\n",
              "          element.appendChild(docLink);\n",
              "        }\n",
              "      </script>\n",
              "    </div>\n",
              "  </div>\n",
              "  "
            ]
          },
          "metadata": {},
          "execution_count": 43
        }
      ]
    },
    {
      "cell_type": "code",
      "source": [
        "print (data.shape)"
      ],
      "metadata": {
        "colab": {
          "base_uri": "https://localhost:8080/"
        },
        "id": "bOom_CKIkHxv",
        "outputId": "1d484f37-3279-4d95-c825-adb06a3386dd"
      },
      "execution_count": 44,
      "outputs": [
        {
          "output_type": "stream",
          "name": "stdout",
          "text": [
            "(520, 17)\n"
          ]
        }
      ]
    },
    {
      "cell_type": "markdown",
      "source": [
        "Changing gender (string) to int"
      ],
      "metadata": {
        "id": "DqtSk-7P9v2i"
      }
    },
    {
      "cell_type": "code",
      "source": [
        "data[\"gender\"] = data[\"gender\"].apply({\"Male\":1, \"Female\":0}.get)\n",
        "data.head()"
      ],
      "metadata": {
        "colab": {
          "base_uri": "https://localhost:8080/",
          "height": 270
        },
        "id": "gRJpDQLDmPuh",
        "outputId": "215f9035-abef-47b2-9556-9ea0a3b83bf8"
      },
      "execution_count": 45,
      "outputs": [
        {
          "output_type": "execute_result",
          "data": {
            "text/plain": [
              "   age  gender  polyuria  polydipsia  sudden_weight_loss  weakness  \\\n",
              "0   40       1         0           1                   0         1   \n",
              "1   58       1         0           0                   0         1   \n",
              "2   41       1         1           0                   0         1   \n",
              "3   45       1         0           0                   1         1   \n",
              "4   60       1         1           1                   1         1   \n",
              "\n",
              "   polyphagia  genital_thrush  visual_blurring  itching  irritability  \\\n",
              "0           0               0                0        1             0   \n",
              "1           0               0                1        0             0   \n",
              "2           1               0                0        1             0   \n",
              "3           1               1                0        1             0   \n",
              "4           1               0                1        1             1   \n",
              "\n",
              "   delayed_healing  partial_paresis  muscle_stiffness  alopecia  obesity  \\\n",
              "0                1                0                 1         1        1   \n",
              "1                0                1                 0         1        0   \n",
              "2                1                0                 1         1        0   \n",
              "3                1                0                 0         0        0   \n",
              "4                1                1                 1         1        1   \n",
              "\n",
              "   class  \n",
              "0      1  \n",
              "1      1  \n",
              "2      1  \n",
              "3      1  \n",
              "4      1  "
            ],
            "text/html": [
              "\n",
              "  <div id=\"df-a1f96a06-2bf7-48f8-9327-2fefca3c64c4\">\n",
              "    <div class=\"colab-df-container\">\n",
              "      <div>\n",
              "<style scoped>\n",
              "    .dataframe tbody tr th:only-of-type {\n",
              "        vertical-align: middle;\n",
              "    }\n",
              "\n",
              "    .dataframe tbody tr th {\n",
              "        vertical-align: top;\n",
              "    }\n",
              "\n",
              "    .dataframe thead th {\n",
              "        text-align: right;\n",
              "    }\n",
              "</style>\n",
              "<table border=\"1\" class=\"dataframe\">\n",
              "  <thead>\n",
              "    <tr style=\"text-align: right;\">\n",
              "      <th></th>\n",
              "      <th>age</th>\n",
              "      <th>gender</th>\n",
              "      <th>polyuria</th>\n",
              "      <th>polydipsia</th>\n",
              "      <th>sudden_weight_loss</th>\n",
              "      <th>weakness</th>\n",
              "      <th>polyphagia</th>\n",
              "      <th>genital_thrush</th>\n",
              "      <th>visual_blurring</th>\n",
              "      <th>itching</th>\n",
              "      <th>irritability</th>\n",
              "      <th>delayed_healing</th>\n",
              "      <th>partial_paresis</th>\n",
              "      <th>muscle_stiffness</th>\n",
              "      <th>alopecia</th>\n",
              "      <th>obesity</th>\n",
              "      <th>class</th>\n",
              "    </tr>\n",
              "  </thead>\n",
              "  <tbody>\n",
              "    <tr>\n",
              "      <th>0</th>\n",
              "      <td>40</td>\n",
              "      <td>1</td>\n",
              "      <td>0</td>\n",
              "      <td>1</td>\n",
              "      <td>0</td>\n",
              "      <td>1</td>\n",
              "      <td>0</td>\n",
              "      <td>0</td>\n",
              "      <td>0</td>\n",
              "      <td>1</td>\n",
              "      <td>0</td>\n",
              "      <td>1</td>\n",
              "      <td>0</td>\n",
              "      <td>1</td>\n",
              "      <td>1</td>\n",
              "      <td>1</td>\n",
              "      <td>1</td>\n",
              "    </tr>\n",
              "    <tr>\n",
              "      <th>1</th>\n",
              "      <td>58</td>\n",
              "      <td>1</td>\n",
              "      <td>0</td>\n",
              "      <td>0</td>\n",
              "      <td>0</td>\n",
              "      <td>1</td>\n",
              "      <td>0</td>\n",
              "      <td>0</td>\n",
              "      <td>1</td>\n",
              "      <td>0</td>\n",
              "      <td>0</td>\n",
              "      <td>0</td>\n",
              "      <td>1</td>\n",
              "      <td>0</td>\n",
              "      <td>1</td>\n",
              "      <td>0</td>\n",
              "      <td>1</td>\n",
              "    </tr>\n",
              "    <tr>\n",
              "      <th>2</th>\n",
              "      <td>41</td>\n",
              "      <td>1</td>\n",
              "      <td>1</td>\n",
              "      <td>0</td>\n",
              "      <td>0</td>\n",
              "      <td>1</td>\n",
              "      <td>1</td>\n",
              "      <td>0</td>\n",
              "      <td>0</td>\n",
              "      <td>1</td>\n",
              "      <td>0</td>\n",
              "      <td>1</td>\n",
              "      <td>0</td>\n",
              "      <td>1</td>\n",
              "      <td>1</td>\n",
              "      <td>0</td>\n",
              "      <td>1</td>\n",
              "    </tr>\n",
              "    <tr>\n",
              "      <th>3</th>\n",
              "      <td>45</td>\n",
              "      <td>1</td>\n",
              "      <td>0</td>\n",
              "      <td>0</td>\n",
              "      <td>1</td>\n",
              "      <td>1</td>\n",
              "      <td>1</td>\n",
              "      <td>1</td>\n",
              "      <td>0</td>\n",
              "      <td>1</td>\n",
              "      <td>0</td>\n",
              "      <td>1</td>\n",
              "      <td>0</td>\n",
              "      <td>0</td>\n",
              "      <td>0</td>\n",
              "      <td>0</td>\n",
              "      <td>1</td>\n",
              "    </tr>\n",
              "    <tr>\n",
              "      <th>4</th>\n",
              "      <td>60</td>\n",
              "      <td>1</td>\n",
              "      <td>1</td>\n",
              "      <td>1</td>\n",
              "      <td>1</td>\n",
              "      <td>1</td>\n",
              "      <td>1</td>\n",
              "      <td>0</td>\n",
              "      <td>1</td>\n",
              "      <td>1</td>\n",
              "      <td>1</td>\n",
              "      <td>1</td>\n",
              "      <td>1</td>\n",
              "      <td>1</td>\n",
              "      <td>1</td>\n",
              "      <td>1</td>\n",
              "      <td>1</td>\n",
              "    </tr>\n",
              "  </tbody>\n",
              "</table>\n",
              "</div>\n",
              "      <button class=\"colab-df-convert\" onclick=\"convertToInteractive('df-a1f96a06-2bf7-48f8-9327-2fefca3c64c4')\"\n",
              "              title=\"Convert this dataframe to an interactive table.\"\n",
              "              style=\"display:none;\">\n",
              "        \n",
              "  <svg xmlns=\"http://www.w3.org/2000/svg\" height=\"24px\"viewBox=\"0 0 24 24\"\n",
              "       width=\"24px\">\n",
              "    <path d=\"M0 0h24v24H0V0z\" fill=\"none\"/>\n",
              "    <path d=\"M18.56 5.44l.94 2.06.94-2.06 2.06-.94-2.06-.94-.94-2.06-.94 2.06-2.06.94zm-11 1L8.5 8.5l.94-2.06 2.06-.94-2.06-.94L8.5 2.5l-.94 2.06-2.06.94zm10 10l.94 2.06.94-2.06 2.06-.94-2.06-.94-.94-2.06-.94 2.06-2.06.94z\"/><path d=\"M17.41 7.96l-1.37-1.37c-.4-.4-.92-.59-1.43-.59-.52 0-1.04.2-1.43.59L10.3 9.45l-7.72 7.72c-.78.78-.78 2.05 0 2.83L4 21.41c.39.39.9.59 1.41.59.51 0 1.02-.2 1.41-.59l7.78-7.78 2.81-2.81c.8-.78.8-2.07 0-2.86zM5.41 20L4 18.59l7.72-7.72 1.47 1.35L5.41 20z\"/>\n",
              "  </svg>\n",
              "      </button>\n",
              "      \n",
              "  <style>\n",
              "    .colab-df-container {\n",
              "      display:flex;\n",
              "      flex-wrap:wrap;\n",
              "      gap: 12px;\n",
              "    }\n",
              "\n",
              "    .colab-df-convert {\n",
              "      background-color: #E8F0FE;\n",
              "      border: none;\n",
              "      border-radius: 50%;\n",
              "      cursor: pointer;\n",
              "      display: none;\n",
              "      fill: #1967D2;\n",
              "      height: 32px;\n",
              "      padding: 0 0 0 0;\n",
              "      width: 32px;\n",
              "    }\n",
              "\n",
              "    .colab-df-convert:hover {\n",
              "      background-color: #E2EBFA;\n",
              "      box-shadow: 0px 1px 2px rgba(60, 64, 67, 0.3), 0px 1px 3px 1px rgba(60, 64, 67, 0.15);\n",
              "      fill: #174EA6;\n",
              "    }\n",
              "\n",
              "    [theme=dark] .colab-df-convert {\n",
              "      background-color: #3B4455;\n",
              "      fill: #D2E3FC;\n",
              "    }\n",
              "\n",
              "    [theme=dark] .colab-df-convert:hover {\n",
              "      background-color: #434B5C;\n",
              "      box-shadow: 0px 1px 3px 1px rgba(0, 0, 0, 0.15);\n",
              "      filter: drop-shadow(0px 1px 2px rgba(0, 0, 0, 0.3));\n",
              "      fill: #FFFFFF;\n",
              "    }\n",
              "  </style>\n",
              "\n",
              "      <script>\n",
              "        const buttonEl =\n",
              "          document.querySelector('#df-a1f96a06-2bf7-48f8-9327-2fefca3c64c4 button.colab-df-convert');\n",
              "        buttonEl.style.display =\n",
              "          google.colab.kernel.accessAllowed ? 'block' : 'none';\n",
              "\n",
              "        async function convertToInteractive(key) {\n",
              "          const element = document.querySelector('#df-a1f96a06-2bf7-48f8-9327-2fefca3c64c4');\n",
              "          const dataTable =\n",
              "            await google.colab.kernel.invokeFunction('convertToInteractive',\n",
              "                                                     [key], {});\n",
              "          if (!dataTable) return;\n",
              "\n",
              "          const docLinkHtml = 'Like what you see? Visit the ' +\n",
              "            '<a target=\"_blank\" href=https://colab.research.google.com/notebooks/data_table.ipynb>data table notebook</a>'\n",
              "            + ' to learn more about interactive tables.';\n",
              "          element.innerHTML = '';\n",
              "          dataTable['output_type'] = 'display_data';\n",
              "          await google.colab.output.renderOutput(dataTable, element);\n",
              "          const docLink = document.createElement('div');\n",
              "          docLink.innerHTML = docLinkHtml;\n",
              "          element.appendChild(docLink);\n",
              "        }\n",
              "      </script>\n",
              "    </div>\n",
              "  </div>\n",
              "  "
            ]
          },
          "metadata": {},
          "execution_count": 45
        }
      ]
    },
    {
      "cell_type": "code",
      "source": [
        "sns.countplot(x=\"class\", data = data)"
      ],
      "metadata": {
        "id": "y2VMei0D-U6u",
        "outputId": "b36768c4-89be-42aa-8d28-7f2056827b29",
        "colab": {
          "base_uri": "https://localhost:8080/",
          "height": 296
        }
      },
      "execution_count": 46,
      "outputs": [
        {
          "output_type": "execute_result",
          "data": {
            "text/plain": [
              "<matplotlib.axes._subplots.AxesSubplot at 0x7f9e3c927dd0>"
            ]
          },
          "metadata": {},
          "execution_count": 46
        },
        {
          "output_type": "display_data",
          "data": {
            "text/plain": [
              "<Figure size 432x288 with 1 Axes>"
            ],
            "image/png": "[encoded data removed]"
          },
          "metadata": {
            "needs_background": "light"
          }
        }
      ]
    },
    {
      "cell_type": "markdown",
      "source": [
        "**Plotting Heat Map**"
      ],
      "metadata": {
        "id": "AC25zIaIy4nh"
      }
    },
    {
      "cell_type": "code",
      "source": [
        "tc = data.corr()\n",
        "sns.heatmap(tc,annot = False,cmap=\"coolwarm\")"
      ],
      "metadata": {
        "colab": {
          "base_uri": "https://localhost:8080/",
          "height": 376
        },
        "id": "mBSAwOYFkMKw",
        "outputId": "ef668647-4fcc-454a-e4f6-b7c0c6b36fc6"
      },
      "execution_count": 47,
      "outputs": [
        {
          "output_type": "execute_result",
          "data": {
            "text/plain": [
              "<matplotlib.axes._subplots.AxesSubplot at 0x7f9e3c9c5c10>"
            ]
          },
          "metadata": {},
          "execution_count": 47
        },
        {
          "output_type": "display_data",
          "data": {
            "text/plain": [
              "<Figure size 432x288 with 2 Axes>"
            ],
            "image/png": "[encoded data removed]"
          },
          "metadata": {
            "needs_background": "light"
          }
        }
      ]
    },
    {
      "cell_type": "code",
      "source": [
        "data.info()"
      ],
      "metadata": {
        "colab": {
          "base_uri": "https://localhost:8080/"
        },
        "id": "LMzXXfGRmFEB",
        "outputId": "f84747fe-f523-4a84-fc2b-cb849017bb0f"
      },
      "execution_count": 48,
      "outputs": [
        {
          "output_type": "stream",
          "name": "stdout",
          "text": [
            "<class 'pandas.core.frame.DataFrame'>\n",
            "RangeIndex: 520 entries, 0 to 519\n",
            "Data columns (total 17 columns):\n",
            " #   Column              Non-Null Count  Dtype\n",
            "---  ------              --------------  -----\n",
            " 0   age                 520 non-null    int64\n",
            " 1   gender              520 non-null    int64\n",
            " 2   polyuria            520 non-null    int64\n",
            " 3   polydipsia          520 non-null    int64\n",
            " 4   sudden_weight_loss  520 non-null    int64\n",
            " 5   weakness            520 non-null    int64\n",
            " 6   polyphagia          520 non-null    int64\n",
            " 7   genital_thrush      520 non-null    int64\n",
            " 8   visual_blurring     520 non-null    int64\n",
            " 9   itching             520 non-null    int64\n",
            " 10  irritability        520 non-null    int64\n",
            " 11  delayed_healing     520 non-null    int64\n",
            " 12  partial_paresis     520 non-null    int64\n",
            " 13  muscle_stiffness    520 non-null    int64\n",
            " 14  alopecia            520 non-null    int64\n",
            " 15  obesity             520 non-null    int64\n",
            " 16  class               520 non-null    int64\n",
            "dtypes: int64(17)\n",
            "memory usage: 69.2 KB\n"
          ]
        }
      ]
    },
    {
      "cell_type": "markdown",
      "source": [
        "**Split the Dataset Into Training and Test Set**"
      ],
      "metadata": {
        "id": "KfBjL3zuy-UP"
      }
    },
    {
      "cell_type": "code",
      "source": [
        "x = data[data.columns[:-1]]\n",
        "y = data[data.columns[-1]]\n",
        "x_train,x_test,y_train,y_test = train_test_split(x,y,test_size = 0.15,random_state = 10)\n",
        "print(x_train)\n",
        "print(y_train)"
      ],
      "metadata": {
        "colab": {
          "base_uri": "https://localhost:8080/"
        },
        "id": "HpAUhdwomk86",
        "outputId": "aa66e38b-7d7a-47a2-ee7b-b78311f2eb32"
      },
      "execution_count": 49,
      "outputs": [
        {
          "output_type": "stream",
          "name": "stdout",
          "text": [
            "     age  gender  polyuria  polydipsia  sudden_weight_loss  weakness  \\\n",
            "260   33       1         0           1                   0         0   \n",
            "184   48       0         1           1                   1         0   \n",
            "172   60       1         1           0                   0         0   \n",
            "193   36       1         1           0                   0         1   \n",
            "154   62       1         1           0                   0         1   \n",
            "..   ...     ...       ...         ...                 ...       ...   \n",
            "123   47       1         0           1                   0         0   \n",
            "369   47       1         0           0                   0         0   \n",
            "320   65       0         0           0                   0         1   \n",
            "125   55       1         1           1                   1         1   \n",
            "265   28       0         0           0                   0         0   \n",
            "\n",
            "     polyphagia  genital_thrush  visual_blurring  itching  irritability  \\\n",
            "260           0               0                0        0             0   \n",
            "184           1               1                0        0             1   \n",
            "172           0               0                1        0             0   \n",
            "193           0               1                1        1             0   \n",
            "154           0               1                1        1             1   \n",
            "..          ...             ...              ...      ...           ...   \n",
            "123           0               0                1        1             0   \n",
            "369           0               0                0        1             0   \n",
            "320           0               0                0        1             0   \n",
            "125           1               0                1        0             0   \n",
            "265           0               0                1        0             0   \n",
            "\n",
            "     delayed_healing  partial_paresis  muscle_stiffness  alopecia  obesity  \n",
            "260                0                0                 0         0        0  \n",
            "184                1                0                 1         1        1  \n",
            "172                0                1                 0         1        0  \n",
            "193                1                0                 0         0        0  \n",
            "154                0                1                 1         1        1  \n",
            "..               ...              ...               ...       ...      ...  \n",
            "123                0                0                 0         1        1  \n",
            "369                0                0                 0         1        0  \n",
            "320                1                0                 0         1        0  \n",
            "125                1                1                 0         0        0  \n",
            "265                0                1                 1         0        0  \n",
            "\n",
            "[442 rows x 16 columns]\n",
            "260    1\n",
            "184    1\n",
            "172    1\n",
            "193    1\n",
            "154    1\n",
            "      ..\n",
            "123    1\n",
            "369    0\n",
            "320    0\n",
            "125    1\n",
            "265    1\n",
            "Name: class, Length: 442, dtype: int64\n"
          ]
        }
      ]
    },
    {
      "cell_type": "markdown",
      "source": [
        "**Training Dataset**\n",
        "\n",
        "We build and train our diabetes dataset using Deep Neural Network"
      ],
      "metadata": {
        "id": "V0e7qc-4zHIl"
      }
    },
    {
      "cell_type": "code",
      "source": [
        "model = tf.keras.models.Sequential([\n",
        "  tf.keras.layers.Input(shape = (16)),\n",
        "  tf.keras.layers.Dense(units = 300, activation = \"relu\"),\n",
        "  tf.keras.layers.Dense(units = 200, activation = \"relu\"),\n",
        "  tf.keras.layers.Dense(units = 100, activation = \"relu\"),\n",
        "  tf.keras.layers.Dense(units = 1,activation = \"sigmoid\"),\n",
        "  ])\n",
        "\n",
        "model.compile(optimizer = \"Adam\", \n",
        "              loss = \"binary_crossentropy\" , \n",
        "              metrics=[\"accuracy\"])\n",
        "\n",
        "#Here we train our model.\n",
        "history = model.fit(x_train,y_train,epochs = 100,validation_data = (x_test,y_test))\n",
        "#This the inference phase.We try our model on test data.\n",
        "y_pred = model.predict(x_test)\n",
        "y_pred = (y_pred > 0.5)"
      ],
      "metadata": {
        "colab": {
          "base_uri": "https://localhost:8080/"
        },
        "id": "95Tdsk7onrug",
        "outputId": "35387046-d6b6-48cf-919e-838aafd4be7b"
      },
      "execution_count": 72,
      "outputs": [
        {
          "output_type": "stream",
          "name": "stdout",
          "text": [
            "Epoch 1/100\n",
            "14/14 [==============================] - 1s 18ms/step - loss: 0.8276 - accuracy: 0.5928 - val_loss: 0.6270 - val_accuracy: 0.6026\n",
            "Epoch 2/100\n",
            "14/14 [==============================] - 0s 7ms/step - loss: 0.6057 - accuracy: 0.6878 - val_loss: 0.5690 - val_accuracy: 0.8846\n",
            "Epoch 3/100\n",
            "14/14 [==============================] - 0s 7ms/step - loss: 0.5390 - accuracy: 0.7489 - val_loss: 0.4936 - val_accuracy: 0.6154\n",
            "Epoch 4/100\n",
            "14/14 [==============================] - 0s 9ms/step - loss: 0.4732 - accuracy: 0.8009 - val_loss: 0.3735 - val_accuracy: 0.8590\n",
            "Epoch 5/100\n",
            "14/14 [==============================] - 0s 7ms/step - loss: 0.3803 - accuracy: 0.8665 - val_loss: 0.3014 - val_accuracy: 0.8718\n",
            "Epoch 6/100\n",
            "14/14 [==============================] - 0s 7ms/step - loss: 0.3130 - accuracy: 0.8982 - val_loss: 0.3054 - val_accuracy: 0.8846\n",
            "Epoch 7/100\n",
            "14/14 [==============================] - 0s 7ms/step - loss: 0.3748 - accuracy: 0.8054 - val_loss: 0.2094 - val_accuracy: 0.8974\n",
            "Epoch 8/100\n",
            "14/14 [==============================] - 0s 6ms/step - loss: 0.2890 - accuracy: 0.8756 - val_loss: 0.2102 - val_accuracy: 0.8718\n",
            "Epoch 9/100\n",
            "14/14 [==============================] - 0s 5ms/step - loss: 0.2465 - accuracy: 0.9027 - val_loss: 0.1847 - val_accuracy: 0.9359\n",
            "Epoch 10/100\n",
            "14/14 [==============================] - 0s 6ms/step - loss: 0.2434 - accuracy: 0.9072 - val_loss: 0.1816 - val_accuracy: 0.8974\n",
            "Epoch 11/100\n",
            "14/14 [==============================] - 0s 5ms/step - loss: 0.2434 - accuracy: 0.9005 - val_loss: 0.1840 - val_accuracy: 0.9103\n",
            "Epoch 12/100\n",
            "14/14 [==============================] - 0s 5ms/step - loss: 0.2289 - accuracy: 0.9118 - val_loss: 0.1926 - val_accuracy: 0.9231\n",
            "Epoch 13/100\n",
            "14/14 [==============================] - 0s 6ms/step - loss: 0.2175 - accuracy: 0.9095 - val_loss: 0.1767 - val_accuracy: 0.9103\n",
            "Epoch 14/100\n",
            "14/14 [==============================] - 0s 8ms/step - loss: 0.2265 - accuracy: 0.8982 - val_loss: 0.2130 - val_accuracy: 0.8718\n",
            "Epoch 15/100\n",
            "14/14 [==============================] - 0s 5ms/step - loss: 0.2260 - accuracy: 0.9072 - val_loss: 0.1616 - val_accuracy: 0.9103\n",
            "Epoch 16/100\n",
            "14/14 [==============================] - 0s 5ms/step - loss: 0.2009 - accuracy: 0.9253 - val_loss: 0.1634 - val_accuracy: 0.9231\n",
            "Epoch 17/100\n",
            "14/14 [==============================] - 0s 6ms/step - loss: 0.2480 - accuracy: 0.8914 - val_loss: 0.2083 - val_accuracy: 0.8974\n",
            "Epoch 18/100\n",
            "14/14 [==============================] - 0s 5ms/step - loss: 0.2050 - accuracy: 0.9163 - val_loss: 0.1517 - val_accuracy: 0.9103\n",
            "Epoch 19/100\n",
            "14/14 [==============================] - 0s 5ms/step - loss: 0.1961 - accuracy: 0.9118 - val_loss: 0.1663 - val_accuracy: 0.9103\n",
            "Epoch 20/100\n",
            "14/14 [==============================] - 0s 6ms/step - loss: 0.2022 - accuracy: 0.9163 - val_loss: 0.1598 - val_accuracy: 0.9103\n",
            "Epoch 21/100\n",
            "14/14 [==============================] - 0s 5ms/step - loss: 0.2197 - accuracy: 0.9050 - val_loss: 0.1559 - val_accuracy: 0.9103\n",
            "Epoch 22/100\n",
            "14/14 [==============================] - 0s 6ms/step - loss: 0.1854 - accuracy: 0.9276 - val_loss: 0.1552 - val_accuracy: 0.9231\n",
            "Epoch 23/100\n",
            "14/14 [==============================] - 0s 5ms/step - loss: 0.2083 - accuracy: 0.9140 - val_loss: 0.1623 - val_accuracy: 0.9103\n",
            "Epoch 24/100\n",
            "14/14 [==============================] - 0s 6ms/step - loss: 0.1994 - accuracy: 0.9208 - val_loss: 0.1514 - val_accuracy: 0.9231\n",
            "Epoch 25/100\n",
            "14/14 [==============================] - 0s 5ms/step - loss: 0.2283 - accuracy: 0.8937 - val_loss: 0.1389 - val_accuracy: 0.9487\n",
            "Epoch 26/100\n",
            "14/14 [==============================] - 0s 5ms/step - loss: 0.2242 - accuracy: 0.9163 - val_loss: 0.1471 - val_accuracy: 0.9103\n",
            "Epoch 27/100\n",
            "14/14 [==============================] - 0s 5ms/step - loss: 0.1939 - accuracy: 0.9208 - val_loss: 0.2041 - val_accuracy: 0.8718\n",
            "Epoch 28/100\n",
            "14/14 [==============================] - 0s 6ms/step - loss: 0.1877 - accuracy: 0.9140 - val_loss: 0.1355 - val_accuracy: 0.9103\n",
            "Epoch 29/100\n",
            "14/14 [==============================] - 0s 5ms/step - loss: 0.1950 - accuracy: 0.9186 - val_loss: 0.1641 - val_accuracy: 0.9103\n",
            "Epoch 30/100\n",
            "14/14 [==============================] - 0s 5ms/step - loss: 0.1966 - accuracy: 0.9186 - val_loss: 0.1410 - val_accuracy: 0.9231\n",
            "Epoch 31/100\n",
            "14/14 [==============================] - 0s 6ms/step - loss: 0.1857 - accuracy: 0.9186 - val_loss: 0.1613 - val_accuracy: 0.9103\n",
            "Epoch 32/100\n",
            "14/14 [==============================] - 0s 6ms/step - loss: 0.2156 - accuracy: 0.9005 - val_loss: 0.1367 - val_accuracy: 0.9487\n",
            "Epoch 33/100\n",
            "14/14 [==============================] - 0s 6ms/step - loss: 0.1834 - accuracy: 0.9276 - val_loss: 0.1474 - val_accuracy: 0.9103\n",
            "Epoch 34/100\n",
            "14/14 [==============================] - 0s 5ms/step - loss: 0.1799 - accuracy: 0.9253 - val_loss: 0.1382 - val_accuracy: 0.9487\n",
            "Epoch 35/100\n",
            "14/14 [==============================] - 0s 5ms/step - loss: 0.1769 - accuracy: 0.9367 - val_loss: 0.1818 - val_accuracy: 0.9103\n",
            "Epoch 36/100\n",
            "14/14 [==============================] - 0s 6ms/step - loss: 0.1862 - accuracy: 0.9367 - val_loss: 0.1291 - val_accuracy: 0.9872\n",
            "Epoch 37/100\n",
            "14/14 [==============================] - 0s 5ms/step - loss: 0.1776 - accuracy: 0.9321 - val_loss: 0.1534 - val_accuracy: 0.9103\n",
            "Epoch 38/100\n",
            "14/14 [==============================] - 0s 6ms/step - loss: 0.1833 - accuracy: 0.9253 - val_loss: 0.1317 - val_accuracy: 0.9487\n",
            "Epoch 39/100\n",
            "14/14 [==============================] - 0s 5ms/step - loss: 0.2032 - accuracy: 0.9208 - val_loss: 0.1301 - val_accuracy: 0.9487\n",
            "Epoch 40/100\n",
            "14/14 [==============================] - 0s 6ms/step - loss: 0.1739 - accuracy: 0.9412 - val_loss: 0.1738 - val_accuracy: 0.9103\n",
            "Epoch 41/100\n",
            "14/14 [==============================] - 0s 5ms/step - loss: 0.1692 - accuracy: 0.9367 - val_loss: 0.1292 - val_accuracy: 0.9487\n",
            "Epoch 42/100\n",
            "14/14 [==============================] - 0s 5ms/step - loss: 0.1858 - accuracy: 0.9276 - val_loss: 0.2211 - val_accuracy: 0.8718\n",
            "Epoch 43/100\n",
            "14/14 [==============================] - 0s 6ms/step - loss: 0.1874 - accuracy: 0.9253 - val_loss: 0.1521 - val_accuracy: 0.9103\n",
            "Epoch 44/100\n",
            "14/14 [==============================] - 0s 5ms/step - loss: 0.1716 - accuracy: 0.9253 - val_loss: 0.1395 - val_accuracy: 0.9231\n",
            "Epoch 45/100\n",
            "14/14 [==============================] - 0s 6ms/step - loss: 0.2560 - accuracy: 0.8914 - val_loss: 0.1359 - val_accuracy: 0.9231\n",
            "Epoch 46/100\n",
            "14/14 [==============================] - 0s 5ms/step - loss: 0.2475 - accuracy: 0.8846 - val_loss: 0.4066 - val_accuracy: 0.8462\n",
            "Epoch 47/100\n",
            "14/14 [==============================] - 0s 6ms/step - loss: 0.2033 - accuracy: 0.9118 - val_loss: 0.1372 - val_accuracy: 0.9359\n",
            "Epoch 48/100\n",
            "14/14 [==============================] - 0s 6ms/step - loss: 0.1734 - accuracy: 0.9276 - val_loss: 0.1314 - val_accuracy: 0.9487\n",
            "Epoch 49/100\n",
            "14/14 [==============================] - 0s 7ms/step - loss: 0.1754 - accuracy: 0.9231 - val_loss: 0.1918 - val_accuracy: 0.9103\n",
            "Epoch 50/100\n",
            "14/14 [==============================] - 0s 6ms/step - loss: 0.1689 - accuracy: 0.9276 - val_loss: 0.1428 - val_accuracy: 0.9103\n",
            "Epoch 51/100\n",
            "14/14 [==============================] - 0s 5ms/step - loss: 0.1672 - accuracy: 0.9321 - val_loss: 0.1273 - val_accuracy: 0.9487\n",
            "Epoch 52/100\n",
            "14/14 [==============================] - 0s 5ms/step - loss: 0.1628 - accuracy: 0.9321 - val_loss: 0.1369 - val_accuracy: 0.9487\n",
            "Epoch 53/100\n",
            "14/14 [==============================] - 0s 5ms/step - loss: 0.1639 - accuracy: 0.9344 - val_loss: 0.1270 - val_accuracy: 0.9359\n",
            "Epoch 54/100\n",
            "14/14 [==============================] - 0s 5ms/step - loss: 0.1761 - accuracy: 0.9208 - val_loss: 0.1386 - val_accuracy: 0.9359\n",
            "Epoch 55/100\n",
            "14/14 [==============================] - 0s 6ms/step - loss: 0.1797 - accuracy: 0.9321 - val_loss: 0.1538 - val_accuracy: 0.9103\n",
            "Epoch 56/100\n",
            "14/14 [==============================] - 0s 8ms/step - loss: 0.1612 - accuracy: 0.9321 - val_loss: 0.1690 - val_accuracy: 0.9103\n",
            "Epoch 57/100\n",
            "14/14 [==============================] - 0s 8ms/step - loss: 0.1552 - accuracy: 0.9344 - val_loss: 0.1491 - val_accuracy: 0.9103\n",
            "Epoch 58/100\n",
            "14/14 [==============================] - 0s 5ms/step - loss: 0.1552 - accuracy: 0.9434 - val_loss: 0.1452 - val_accuracy: 0.9103\n",
            "Epoch 59/100\n",
            "14/14 [==============================] - 0s 7ms/step - loss: 0.1501 - accuracy: 0.9321 - val_loss: 0.2268 - val_accuracy: 0.8718\n",
            "Epoch 60/100\n",
            "14/14 [==============================] - 0s 9ms/step - loss: 0.2108 - accuracy: 0.9140 - val_loss: 0.1441 - val_accuracy: 0.9359\n",
            "Epoch 61/100\n",
            "14/14 [==============================] - 0s 6ms/step - loss: 0.2137 - accuracy: 0.9027 - val_loss: 0.1607 - val_accuracy: 0.9231\n",
            "Epoch 62/100\n",
            "14/14 [==============================] - 0s 8ms/step - loss: 0.1781 - accuracy: 0.9276 - val_loss: 0.1267 - val_accuracy: 0.9359\n",
            "Epoch 63/100\n",
            "14/14 [==============================] - 0s 7ms/step - loss: 0.1691 - accuracy: 0.9321 - val_loss: 0.1644 - val_accuracy: 0.9103\n",
            "Epoch 64/100\n",
            "14/14 [==============================] - 0s 7ms/step - loss: 0.1612 - accuracy: 0.9457 - val_loss: 0.1343 - val_accuracy: 0.9487\n",
            "Epoch 65/100\n",
            "14/14 [==============================] - 0s 6ms/step - loss: 0.1495 - accuracy: 0.9299 - val_loss: 0.1346 - val_accuracy: 0.9487\n",
            "Epoch 66/100\n",
            "14/14 [==============================] - 0s 7ms/step - loss: 0.1489 - accuracy: 0.9389 - val_loss: 0.1744 - val_accuracy: 0.9103\n",
            "Epoch 67/100\n",
            "14/14 [==============================] - 0s 5ms/step - loss: 0.1692 - accuracy: 0.9231 - val_loss: 0.1252 - val_accuracy: 0.9359\n",
            "Epoch 68/100\n",
            "14/14 [==============================] - 0s 6ms/step - loss: 0.1733 - accuracy: 0.9276 - val_loss: 0.1188 - val_accuracy: 0.9487\n",
            "Epoch 69/100\n",
            "14/14 [==============================] - 0s 6ms/step - loss: 0.1494 - accuracy: 0.9367 - val_loss: 0.1357 - val_accuracy: 0.9487\n",
            "Epoch 70/100\n",
            "14/14 [==============================] - 0s 9ms/step - loss: 0.1425 - accuracy: 0.9480 - val_loss: 0.1240 - val_accuracy: 0.9487\n",
            "Epoch 71/100\n",
            "14/14 [==============================] - 0s 7ms/step - loss: 0.1351 - accuracy: 0.9389 - val_loss: 0.1142 - val_accuracy: 0.9744\n",
            "Epoch 72/100\n",
            "14/14 [==============================] - 0s 7ms/step - loss: 0.1529 - accuracy: 0.9434 - val_loss: 0.1810 - val_accuracy: 0.9103\n",
            "Epoch 73/100\n",
            "14/14 [==============================] - 0s 7ms/step - loss: 0.1503 - accuracy: 0.9389 - val_loss: 0.1212 - val_accuracy: 0.9231\n",
            "Epoch 74/100\n",
            "14/14 [==============================] - 0s 8ms/step - loss: 0.1303 - accuracy: 0.9434 - val_loss: 0.1385 - val_accuracy: 0.9487\n",
            "Epoch 75/100\n",
            "14/14 [==============================] - 0s 7ms/step - loss: 0.1484 - accuracy: 0.9480 - val_loss: 0.1098 - val_accuracy: 0.9487\n",
            "Epoch 76/100\n",
            "14/14 [==============================] - 0s 6ms/step - loss: 0.1371 - accuracy: 0.9502 - val_loss: 0.3001 - val_accuracy: 0.8590\n",
            "Epoch 77/100\n",
            "14/14 [==============================] - 0s 7ms/step - loss: 0.1743 - accuracy: 0.9389 - val_loss: 0.1927 - val_accuracy: 0.8974\n",
            "Epoch 78/100\n",
            "14/14 [==============================] - 0s 8ms/step - loss: 0.1326 - accuracy: 0.9434 - val_loss: 0.1199 - val_accuracy: 0.9487\n",
            "Epoch 79/100\n",
            "14/14 [==============================] - 0s 8ms/step - loss: 0.1265 - accuracy: 0.9457 - val_loss: 0.1162 - val_accuracy: 0.9487\n",
            "Epoch 80/100\n",
            "14/14 [==============================] - 0s 7ms/step - loss: 0.1432 - accuracy: 0.9434 - val_loss: 0.1335 - val_accuracy: 0.9231\n",
            "Epoch 81/100\n",
            "14/14 [==============================] - 0s 6ms/step - loss: 0.1542 - accuracy: 0.9389 - val_loss: 0.1559 - val_accuracy: 0.9231\n",
            "Epoch 82/100\n",
            "14/14 [==============================] - 0s 7ms/step - loss: 0.1583 - accuracy: 0.9321 - val_loss: 0.1231 - val_accuracy: 0.9487\n",
            "Epoch 83/100\n",
            "14/14 [==============================] - 0s 6ms/step - loss: 0.1172 - accuracy: 0.9502 - val_loss: 0.1081 - val_accuracy: 0.9744\n",
            "Epoch 84/100\n",
            "14/14 [==============================] - 0s 7ms/step - loss: 0.1186 - accuracy: 0.9502 - val_loss: 0.1034 - val_accuracy: 0.9872\n",
            "Epoch 85/100\n",
            "14/14 [==============================] - 0s 5ms/step - loss: 0.1154 - accuracy: 0.9570 - val_loss: 0.1489 - val_accuracy: 0.9103\n",
            "Epoch 86/100\n",
            "14/14 [==============================] - 0s 5ms/step - loss: 0.1094 - accuracy: 0.9570 - val_loss: 0.1528 - val_accuracy: 0.9103\n",
            "Epoch 87/100\n",
            "14/14 [==============================] - 0s 5ms/step - loss: 0.1300 - accuracy: 0.9525 - val_loss: 0.0984 - val_accuracy: 0.9872\n",
            "Epoch 88/100\n",
            "14/14 [==============================] - 0s 5ms/step - loss: 0.1258 - accuracy: 0.9412 - val_loss: 0.1407 - val_accuracy: 0.9231\n",
            "Epoch 89/100\n",
            "14/14 [==============================] - 0s 6ms/step - loss: 0.1362 - accuracy: 0.9434 - val_loss: 0.1121 - val_accuracy: 0.9872\n",
            "Epoch 90/100\n",
            "14/14 [==============================] - 0s 5ms/step - loss: 0.1115 - accuracy: 0.9615 - val_loss: 0.1792 - val_accuracy: 0.8974\n",
            "Epoch 91/100\n",
            "14/14 [==============================] - 0s 5ms/step - loss: 0.1365 - accuracy: 0.9434 - val_loss: 0.1541 - val_accuracy: 0.9103\n",
            "Epoch 92/100\n",
            "14/14 [==============================] - 0s 7ms/step - loss: 0.1215 - accuracy: 0.9548 - val_loss: 0.1036 - val_accuracy: 0.9872\n",
            "Epoch 93/100\n",
            "14/14 [==============================] - 0s 5ms/step - loss: 0.0978 - accuracy: 0.9683 - val_loss: 0.0973 - val_accuracy: 0.9872\n",
            "Epoch 94/100\n",
            "14/14 [==============================] - 0s 5ms/step - loss: 0.1063 - accuracy: 0.9570 - val_loss: 0.0973 - val_accuracy: 0.9872\n",
            "Epoch 95/100\n",
            "14/14 [==============================] - 0s 5ms/step - loss: 0.0976 - accuracy: 0.9661 - val_loss: 0.1432 - val_accuracy: 0.9103\n",
            "Epoch 96/100\n",
            "14/14 [==============================] - 0s 5ms/step - loss: 0.0923 - accuracy: 0.9683 - val_loss: 0.0981 - val_accuracy: 0.9872\n",
            "Epoch 97/100\n",
            "14/14 [==============================] - 0s 6ms/step - loss: 0.1057 - accuracy: 0.9638 - val_loss: 0.1230 - val_accuracy: 0.9359\n",
            "Epoch 98/100\n",
            "14/14 [==============================] - 0s 6ms/step - loss: 0.0882 - accuracy: 0.9774 - val_loss: 0.0906 - val_accuracy: 0.9872\n",
            "Epoch 99/100\n",
            "14/14 [==============================] - 0s 5ms/step - loss: 0.0826 - accuracy: 0.9683 - val_loss: 0.0894 - val_accuracy: 0.9872\n",
            "Epoch 100/100\n",
            "14/14 [==============================] - 0s 6ms/step - loss: 0.0728 - accuracy: 0.9774 - val_loss: 0.0885 - val_accuracy: 0.9872\n"
          ]
        }
      ]
    },
    {
      "cell_type": "markdown",
      "source": [
        "**Plot Accuracy and Loss**"
      ],
      "metadata": {
        "id": "QhUkzure3hRS"
      }
    },
    {
      "cell_type": "code",
      "source": [
        "# Retrieve a list of list results on training and test data sets for each training epoch\n",
        "\n",
        "acc      = history.history[ 'accuracy' ]\n",
        "val_acc  = history.history[ 'val_accuracy' ]\n",
        "loss     = history.history[    'loss' ]\n",
        "val_loss = history.history['val_loss' ]\n",
        "\n",
        "\n",
        "fig, axes = plt.subplots(1,2,figsize=(20,5))\n",
        "#Plot accuracy\n",
        "axes[0].plot(acc, color='red')\n",
        "axes[0].plot(val_acc)\n",
        "axes[0].set_title('Accuracy')\n",
        "axes[0].set_xlabel('epochs')\n",
        "axes[0].set_ylabel('acc')\n",
        "axes[0].legend(['acc', 'val_acc'], loc='lower right')\n",
        "#Plot loss\n",
        "axes[1].plot(loss, color='red')\n",
        "axes[1].plot(val_loss)\n",
        "axes[1].set_title('Loss')\n",
        "axes[1].set_xlabel('epochs')\n",
        "axes[1].set_ylabel('loss')\n",
        "axes[1].legend(['loss', 'val_loss'], loc='upper right')"
      ],
      "metadata": {
        "id": "_hwSfw-50GEu",
        "outputId": "c51b2dee-e3ca-4236-f119-7440cc57c40b",
        "colab": {
          "base_uri": "https://localhost:8080/",
          "height": 367
        }
      },
      "execution_count": 73,
      "outputs": [
        {
          "output_type": "execute_result",
          "data": {
            "text/plain": [
              "<matplotlib.legend.Legend at 0x7f9e42a1fd50>"
            ]
          },
          "metadata": {},
          "execution_count": 73
        },
        {
          "output_type": "display_data",
          "data": {
            "text/plain": [
              "<Figure size 1440x360 with 2 Axes>"
            ],
            "image/png": "[encoded data removed]"
          },
          "metadata": {
            "needs_background": "light"
          }
        }
      ]
    },
    {
      "cell_type": "markdown",
      "source": [
        "**Plotting Confusion Matrix**"
      ],
      "metadata": {
        "id": "NsYpWyOnzQZc"
      }
    },
    {
      "cell_type": "code",
      "source": [
        "cm = confusion_matrix(y_test,y_pred)\n",
        "print(cm)\n",
        "accuracy_score(y_test,y_pred)"
      ],
      "metadata": {
        "id": "SJ30uAi3zVAZ",
        "outputId": "e50114af-55b4-4ee6-9369-a223bb99626f",
        "colab": {
          "base_uri": "https://localhost:8080/"
        }
      },
      "execution_count": 74,
      "outputs": [
        {
          "output_type": "stream",
          "name": "stdout",
          "text": [
            "[[31  0]\n",
            " [ 1 46]]\n"
          ]
        },
        {
          "output_type": "execute_result",
          "data": {
            "text/plain": [
              "0.9871794871794872"
            ]
          },
          "metadata": {},
          "execution_count": 74
        }
      ]
    },
    {
      "cell_type": "code",
      "source": [
        "def normalized_confusion_matrix(y_test, conf_mat, model):\n",
        "    _ , counts = np.unique(y_test,return_counts=True)\n",
        "    conf_mat = conf_mat/counts\n",
        "    plt.figure(figsize=(6,5))\n",
        "    ax=sns.heatmap(conf_mat,fmt='.2f',annot=True,annot_kws={'size':20},lw=2, cbar=True, cbar_kws={'label':'% Class accuracy'})\n",
        "    plt.title(f'Confusion Matrix ({model})',size=22)\n",
        "    plt.xticks(size=20)\n",
        "    plt.yticks(size=20)\n",
        "    ax.figure.axes[-1].yaxis.label.set_size(20) ##colorbar label\n",
        "    cax = plt.gcf().axes[-1]  ##colorbar ticks\n",
        "    cax.tick_params(labelsize=20) ## colorbar ticks\n",
        "    plt.savefig(f'confusion-matrix-{model}.png',dpi=300)"
      ],
      "metadata": {
        "id": "UnW9W0hjrJLu"
      },
      "execution_count": 75,
      "outputs": []
    },
    {
      "cell_type": "code",
      "source": [
        "conf_mat = confusion_matrix(y_test,y_pred)\n",
        "normalized_confusion_matrix(y_test,conf_mat, 'Diabetes Pred Model')"
      ],
      "metadata": {
        "colab": {
          "base_uri": "https://localhost:8080/",
          "height": 351
        },
        "id": "r9zCB6K2rqRE",
        "outputId": "0bcea14e-8e0b-467b-9140-1ab630f227eb"
      },
      "execution_count": 76,
      "outputs": [
        {
          "output_type": "display_data",
          "data": {
            "text/plain": [
              "<Figure size 432x360 with 2 Axes>"
            ],
            "image/png": "[encoded data removed]"
          },
          "metadata": {
            "needs_background": "light"
          }
        }
      ]
    },
    {
      "cell_type": "code",
      "source": [
        "model.summary()"
      ],
      "metadata": {
        "colab": {
          "base_uri": "https://localhost:8080/"
        },
        "id": "j04GGyQEoG1F",
        "outputId": "86586a66-63de-48bd-f509-d849dddf0ac8"
      },
      "execution_count": 77,
      "outputs": [
        {
          "output_type": "stream",
          "name": "stdout",
          "text": [
            "Model: \"sequential_24\"\n",
            "_________________________________________________________________\n",
            " Layer (type)                Output Shape              Param #   \n",
            "=================================================================\n",
            " dense_98 (Dense)            (None, 300)               5100      \n",
            "                                                                 \n",
            " dense_99 (Dense)            (None, 200)               60200     \n",
            "                                                                 \n",
            " dense_100 (Dense)           (None, 100)               20100     \n",
            "                                                                 \n",
            " dense_101 (Dense)           (None, 1)                 101       \n",
            "                                                                 \n",
            "=================================================================\n",
            "Total params: 85,501\n",
            "Trainable params: 85,501\n",
            "Non-trainable params: 0\n",
            "_________________________________________________________________\n"
          ]
        }
      ]
    },
    {
      "cell_type": "markdown",
      "source": [
        "**Save the Model**"
      ],
      "metadata": {
        "id": "Ds7OU4nizc9C"
      }
    },
    {
      "cell_type": "code",
      "source": [
        "tf.saved_model.save(\n",
        "    model,\n",
        "    export_dir = \"/tmp/myModel\",\n",
        ")"
      ],
      "metadata": {
        "id": "azt5PZJTsIJ4",
        "outputId": "ec046248-3755-41ad-8769-d36a44fbb0fc",
        "colab": {
          "base_uri": "https://localhost:8080/"
        }
      },
      "execution_count": null,
      "outputs": [
        {
          "output_type": "stream",
          "name": "stdout",
          "text": [
            "INFO:tensorflow:Assets written to: /tmp/myModel/assets\n"
          ]
        }
      ]
    },
    {
      "cell_type": "code",
      "source": [
        "model.save('/tmp/myModel/model.h5')"
      ],
      "metadata": {
        "id": "ET3jrCNZIhtp"
      },
      "execution_count": null,
      "outputs": []
    },
    {
      "cell_type": "code",
      "source": [
        "pickle.dump(model,open('model.pkl','wb'))"
      ],
      "metadata": {
        "colab": {
          "base_uri": "https://localhost:8080/"
        },
        "id": "8RchaCU0l2D0",
        "outputId": "836f48ef-7ed3-4616-d554-21fb57704e9d"
      },
      "execution_count": null,
      "outputs": [
        {
          "output_type": "stream",
          "name": "stdout",
          "text": [
            "INFO:tensorflow:Assets written to: ram://5172d3cb-201c-4b99-b2b8-55c6b8cb91fe/assets\n"
          ]
        }
      ]
    },
    {
      "cell_type": "code",
      "source": [
        "model = pickle.load(open('model.pkl','rb'))"
      ],
      "metadata": {
        "id": "SmIQYhCkmqAq"
      },
      "execution_count": null,
      "outputs": []
    }
  ]
}