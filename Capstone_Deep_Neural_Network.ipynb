{
  "nbformat": 4,
  "nbformat_minor": 0,
  "metadata": {
    "colab": {
      "name": "Copy of Capstone Deep Neural Network",
      "provenance": [],
      "collapsed_sections": [],
      "include_colab_link": true
    },
    "kernelspec": {
      "name": "python3",
      "display_name": "Python 3"
    },
    "language_info": {
      "name": "python"
    }
  },
  "cells": [
    {
      "cell_type": "markdown",
      "metadata": {
        "id": "view-in-github",
        "colab_type": "text"
      },
      "source": [
        "<a href=\"https://colab.research.google.com/github/Insulin-bangkit-2022/deeplearningmethod/blob/main/Capstone_Deep_Neural_Network.ipynb\" target=\"_parent\"><img src=\"https://colab.research.google.com/assets/colab-badge.svg\" alt=\"Open In Colab\"/></a>"
      ]
    },
    {
      "cell_type": "markdown",
      "source": [
        "**Import Libraries**"
      ],
      "metadata": {
        "id": "TU94yADPye0c"
      }
    },
    {
      "cell_type": "code",
      "execution_count": 6,
      "metadata": {
        "id": "s5SSMF1qjq_E"
      },
      "outputs": [],
      "source": [
        "import pandas as pd \n",
        "import matplotlib.pyplot as plt\n",
        "import seaborn as sns\n",
        "import tensorflow as tf\n",
        "import numpy as np\n",
        "import pickle\n",
        "from sklearn.model_selection import train_test_split\n",
        "from sklearn.metrics import confusion_matrix,accuracy_score\n",
        "from keras.models import load_model\n",
        "%matplotlib inline"
      ]
    },
    {
      "cell_type": "markdown",
      "source": [
        "**Import Diabetes Dataset from Kaggle**\n",
        "\n",
        "Diabetes dataset is taken from kaggle and put in the team's github repository"
      ],
      "metadata": {
        "id": "fNuGEZI4yla5"
      }
    },
    {
      "cell_type": "code",
      "source": [
        "url = 'https://raw.githubusercontent.com/Insulin-bangkit-2022/deeplearningmethod/main/diabetes_data.csv'\n",
        "data = pd.read_csv(url, delimiter = ';')\n",
        "data"
      ],
      "metadata": {
        "id": "OyXuTTzA84a8",
        "outputId": "08e8aa24-668e-4f87-ae3d-3a3800637e4c",
        "colab": {
          "base_uri": "https://localhost:8080/",
          "height": 488
        }
      },
      "execution_count": 7,
      "outputs": [
        {
          "output_type": "execute_result",
          "data": {
            "text/plain": [
              "     age  gender  polyuria  polydipsia  sudden_weight_loss  weakness  \\\n",
              "0     40    Male         0           1                   0         1   \n",
              "1     58    Male         0           0                   0         1   \n",
              "2     41    Male         1           0                   0         1   \n",
              "3     45    Male         0           0                   1         1   \n",
              "4     60    Male         1           1                   1         1   \n",
              "..   ...     ...       ...         ...                 ...       ...   \n",
              "612   39  Female         1           1                   1         0   \n",
              "613   48  Female         1           1                   1         1   \n",
              "614   58  Female         1           1                   1         1   \n",
              "615   32  Female         0           0                   0         1   \n",
              "616   42    Male         0           0                   0         0   \n",
              "\n",
              "     polyphagia  genital_thrush  visual_blurring  itching  irritability  \\\n",
              "0             0               0                0        1             0   \n",
              "1             0               0                1        0             0   \n",
              "2             1               0                0        1             0   \n",
              "3             1               1                0        1             0   \n",
              "4             1               0                1        1             1   \n",
              "..          ...             ...              ...      ...           ...   \n",
              "612           1               0                0        1             0   \n",
              "613           1               0                0        1             1   \n",
              "614           1               0                1        0             0   \n",
              "615           0               0                1        1             0   \n",
              "616           0               0                0        0             0   \n",
              "\n",
              "     delayed_healing  partial_paresis  muscle_stiffness  alopecia  obesity  \\\n",
              "0                  1                0                 1         1        1   \n",
              "1                  0                1                 0         1        0   \n",
              "2                  1                0                 1         1        0   \n",
              "3                  1                0                 0         0        0   \n",
              "4                  1                1                 1         1        1   \n",
              "..               ...              ...               ...       ...      ...   \n",
              "612                1                1                 0         0        0   \n",
              "613                1                1                 0         0        0   \n",
              "614                0                1                 1         0        1   \n",
              "615                1                0                 0         1        0   \n",
              "616                0                0                 0         0        0   \n",
              "\n",
              "     class  \n",
              "0        1  \n",
              "1        1  \n",
              "2        1  \n",
              "3        1  \n",
              "4        1  \n",
              "..     ...  \n",
              "612      1  \n",
              "613      1  \n",
              "614      1  \n",
              "615      0  \n",
              "616      0  \n",
              "\n",
              "[617 rows x 17 columns]"
            ],
            "text/html": [
              "\n",
              "  <div id=\"df-4a2f7078-a7c0-4b10-84b5-99bf29704ff2\">\n",
              "    <div class=\"colab-df-container\">\n",
              "      <div>\n",
              "<style scoped>\n",
              "    .dataframe tbody tr th:only-of-type {\n",
              "        vertical-align: middle;\n",
              "    }\n",
              "\n",
              "    .dataframe tbody tr th {\n",
              "        vertical-align: top;\n",
              "    }\n",
              "\n",
              "    .dataframe thead th {\n",
              "        text-align: right;\n",
              "    }\n",
              "</style>\n",
              "<table border=\"1\" class=\"dataframe\">\n",
              "  <thead>\n",
              "    <tr style=\"text-align: right;\">\n",
              "      <th></th>\n",
              "      <th>age</th>\n",
              "      <th>gender</th>\n",
              "      <th>polyuria</th>\n",
              "      <th>polydipsia</th>\n",
              "      <th>sudden_weight_loss</th>\n",
              "      <th>weakness</th>\n",
              "      <th>polyphagia</th>\n",
              "      <th>genital_thrush</th>\n",
              "      <th>visual_blurring</th>\n",
              "      <th>itching</th>\n",
              "      <th>irritability</th>\n",
              "      <th>delayed_healing</th>\n",
              "      <th>partial_paresis</th>\n",
              "      <th>muscle_stiffness</th>\n",
              "      <th>alopecia</th>\n",
              "      <th>obesity</th>\n",
              "      <th>class</th>\n",
              "    </tr>\n",
              "  </thead>\n",
              "  <tbody>\n",
              "    <tr>\n",
              "      <th>0</th>\n",
              "      <td>40</td>\n",
              "      <td>Male</td>\n",
              "      <td>0</td>\n",
              "      <td>1</td>\n",
              "      <td>0</td>\n",
              "      <td>1</td>\n",
              "      <td>0</td>\n",
              "      <td>0</td>\n",
              "      <td>0</td>\n",
              "      <td>1</td>\n",
              "      <td>0</td>\n",
              "      <td>1</td>\n",
              "      <td>0</td>\n",
              "      <td>1</td>\n",
              "      <td>1</td>\n",
              "      <td>1</td>\n",
              "      <td>1</td>\n",
              "    </tr>\n",
              "    <tr>\n",
              "      <th>1</th>\n",
              "      <td>58</td>\n",
              "      <td>Male</td>\n",
              "      <td>0</td>\n",
              "      <td>0</td>\n",
              "      <td>0</td>\n",
              "      <td>1</td>\n",
              "      <td>0</td>\n",
              "      <td>0</td>\n",
              "      <td>1</td>\n",
              "      <td>0</td>\n",
              "      <td>0</td>\n",
              "      <td>0</td>\n",
              "      <td>1</td>\n",
              "      <td>0</td>\n",
              "      <td>1</td>\n",
              "      <td>0</td>\n",
              "      <td>1</td>\n",
              "    </tr>\n",
              "    <tr>\n",
              "      <th>2</th>\n",
              "      <td>41</td>\n",
              "      <td>Male</td>\n",
              "      <td>1</td>\n",
              "      <td>0</td>\n",
              "      <td>0</td>\n",
              "      <td>1</td>\n",
              "      <td>1</td>\n",
              "      <td>0</td>\n",
              "      <td>0</td>\n",
              "      <td>1</td>\n",
              "      <td>0</td>\n",
              "      <td>1</td>\n",
              "      <td>0</td>\n",
              "      <td>1</td>\n",
              "      <td>1</td>\n",
              "      <td>0</td>\n",
              "      <td>1</td>\n",
              "    </tr>\n",
              "    <tr>\n",
              "      <th>3</th>\n",
              "      <td>45</td>\n",
              "      <td>Male</td>\n",
              "      <td>0</td>\n",
              "      <td>0</td>\n",
              "      <td>1</td>\n",
              "      <td>1</td>\n",
              "      <td>1</td>\n",
              "      <td>1</td>\n",
              "      <td>0</td>\n",
              "      <td>1</td>\n",
              "      <td>0</td>\n",
              "      <td>1</td>\n",
              "      <td>0</td>\n",
              "      <td>0</td>\n",
              "      <td>0</td>\n",
              "      <td>0</td>\n",
              "      <td>1</td>\n",
              "    </tr>\n",
              "    <tr>\n",
              "      <th>4</th>\n",
              "      <td>60</td>\n",
              "      <td>Male</td>\n",
              "      <td>1</td>\n",
              "      <td>1</td>\n",
              "      <td>1</td>\n",
              "      <td>1</td>\n",
              "      <td>1</td>\n",
              "      <td>0</td>\n",
              "      <td>1</td>\n",
              "      <td>1</td>\n",
              "      <td>1</td>\n",
              "      <td>1</td>\n",
              "      <td>1</td>\n",
              "      <td>1</td>\n",
              "      <td>1</td>\n",
              "      <td>1</td>\n",
              "      <td>1</td>\n",
              "    </tr>\n",
              "    <tr>\n",
              "      <th>...</th>\n",
              "      <td>...</td>\n",
              "      <td>...</td>\n",
              "      <td>...</td>\n",
              "      <td>...</td>\n",
              "      <td>...</td>\n",
              "      <td>...</td>\n",
              "      <td>...</td>\n",
              "      <td>...</td>\n",
              "      <td>...</td>\n",
              "      <td>...</td>\n",
              "      <td>...</td>\n",
              "      <td>...</td>\n",
              "      <td>...</td>\n",
              "      <td>...</td>\n",
              "      <td>...</td>\n",
              "      <td>...</td>\n",
              "      <td>...</td>\n",
              "    </tr>\n",
              "    <tr>\n",
              "      <th>612</th>\n",
              "      <td>39</td>\n",
              "      <td>Female</td>\n",
              "      <td>1</td>\n",
              "      <td>1</td>\n",
              "      <td>1</td>\n",
              "      <td>0</td>\n",
              "      <td>1</td>\n",
              "      <td>0</td>\n",
              "      <td>0</td>\n",
              "      <td>1</td>\n",
              "      <td>0</td>\n",
              "      <td>1</td>\n",
              "      <td>1</td>\n",
              "      <td>0</td>\n",
              "      <td>0</td>\n",
              "      <td>0</td>\n",
              "      <td>1</td>\n",
              "    </tr>\n",
              "    <tr>\n",
              "      <th>613</th>\n",
              "      <td>48</td>\n",
              "      <td>Female</td>\n",
              "      <td>1</td>\n",
              "      <td>1</td>\n",
              "      <td>1</td>\n",
              "      <td>1</td>\n",
              "      <td>1</td>\n",
              "      <td>0</td>\n",
              "      <td>0</td>\n",
              "      <td>1</td>\n",
              "      <td>1</td>\n",
              "      <td>1</td>\n",
              "      <td>1</td>\n",
              "      <td>0</td>\n",
              "      <td>0</td>\n",
              "      <td>0</td>\n",
              "      <td>1</td>\n",
              "    </tr>\n",
              "    <tr>\n",
              "      <th>614</th>\n",
              "      <td>58</td>\n",
              "      <td>Female</td>\n",
              "      <td>1</td>\n",
              "      <td>1</td>\n",
              "      <td>1</td>\n",
              "      <td>1</td>\n",
              "      <td>1</td>\n",
              "      <td>0</td>\n",
              "      <td>1</td>\n",
              "      <td>0</td>\n",
              "      <td>0</td>\n",
              "      <td>0</td>\n",
              "      <td>1</td>\n",
              "      <td>1</td>\n",
              "      <td>0</td>\n",
              "      <td>1</td>\n",
              "      <td>1</td>\n",
              "    </tr>\n",
              "    <tr>\n",
              "      <th>615</th>\n",
              "      <td>32</td>\n",
              "      <td>Female</td>\n",
              "      <td>0</td>\n",
              "      <td>0</td>\n",
              "      <td>0</td>\n",
              "      <td>1</td>\n",
              "      <td>0</td>\n",
              "      <td>0</td>\n",
              "      <td>1</td>\n",
              "      <td>1</td>\n",
              "      <td>0</td>\n",
              "      <td>1</td>\n",
              "      <td>0</td>\n",
              "      <td>0</td>\n",
              "      <td>1</td>\n",
              "      <td>0</td>\n",
              "      <td>0</td>\n",
              "    </tr>\n",
              "    <tr>\n",
              "      <th>616</th>\n",
              "      <td>42</td>\n",
              "      <td>Male</td>\n",
              "      <td>0</td>\n",
              "      <td>0</td>\n",
              "      <td>0</td>\n",
              "      <td>0</td>\n",
              "      <td>0</td>\n",
              "      <td>0</td>\n",
              "      <td>0</td>\n",
              "      <td>0</td>\n",
              "      <td>0</td>\n",
              "      <td>0</td>\n",
              "      <td>0</td>\n",
              "      <td>0</td>\n",
              "      <td>0</td>\n",
              "      <td>0</td>\n",
              "      <td>0</td>\n",
              "    </tr>\n",
              "  </tbody>\n",
              "</table>\n",
              "<p>617 rows × 17 columns</p>\n",
              "</div>\n",
              "      <button class=\"colab-df-convert\" onclick=\"convertToInteractive('df-4a2f7078-a7c0-4b10-84b5-99bf29704ff2')\"\n",
              "              title=\"Convert this dataframe to an interactive table.\"\n",
              "              style=\"display:none;\">\n",
              "        \n",
              "  <svg xmlns=\"http://www.w3.org/2000/svg\" height=\"24px\"viewBox=\"0 0 24 24\"\n",
              "       width=\"24px\">\n",
              "    <path d=\"M0 0h24v24H0V0z\" fill=\"none\"/>\n",
              "    <path d=\"M18.56 5.44l.94 2.06.94-2.06 2.06-.94-2.06-.94-.94-2.06-.94 2.06-2.06.94zm-11 1L8.5 8.5l.94-2.06 2.06-.94-2.06-.94L8.5 2.5l-.94 2.06-2.06.94zm10 10l.94 2.06.94-2.06 2.06-.94-2.06-.94-.94-2.06-.94 2.06-2.06.94z\"/><path d=\"M17.41 7.96l-1.37-1.37c-.4-.4-.92-.59-1.43-.59-.52 0-1.04.2-1.43.59L10.3 9.45l-7.72 7.72c-.78.78-.78 2.05 0 2.83L4 21.41c.39.39.9.59 1.41.59.51 0 1.02-.2 1.41-.59l7.78-7.78 2.81-2.81c.8-.78.8-2.07 0-2.86zM5.41 20L4 18.59l7.72-7.72 1.47 1.35L5.41 20z\"/>\n",
              "  </svg>\n",
              "      </button>\n",
              "      \n",
              "  <style>\n",
              "    .colab-df-container {\n",
              "      display:flex;\n",
              "      flex-wrap:wrap;\n",
              "      gap: 12px;\n",
              "    }\n",
              "\n",
              "    .colab-df-convert {\n",
              "      background-color: #E8F0FE;\n",
              "      border: none;\n",
              "      border-radius: 50%;\n",
              "      cursor: pointer;\n",
              "      display: none;\n",
              "      fill: #1967D2;\n",
              "      height: 32px;\n",
              "      padding: 0 0 0 0;\n",
              "      width: 32px;\n",
              "    }\n",
              "\n",
              "    .colab-df-convert:hover {\n",
              "      background-color: #E2EBFA;\n",
              "      box-shadow: 0px 1px 2px rgba(60, 64, 67, 0.3), 0px 1px 3px 1px rgba(60, 64, 67, 0.15);\n",
              "      fill: #174EA6;\n",
              "    }\n",
              "\n",
              "    [theme=dark] .colab-df-convert {\n",
              "      background-color: #3B4455;\n",
              "      fill: #D2E3FC;\n",
              "    }\n",
              "\n",
              "    [theme=dark] .colab-df-convert:hover {\n",
              "      background-color: #434B5C;\n",
              "      box-shadow: 0px 1px 3px 1px rgba(0, 0, 0, 0.15);\n",
              "      filter: drop-shadow(0px 1px 2px rgba(0, 0, 0, 0.3));\n",
              "      fill: #FFFFFF;\n",
              "    }\n",
              "  </style>\n",
              "\n",
              "      <script>\n",
              "        const buttonEl =\n",
              "          document.querySelector('#df-4a2f7078-a7c0-4b10-84b5-99bf29704ff2 button.colab-df-convert');\n",
              "        buttonEl.style.display =\n",
              "          google.colab.kernel.accessAllowed ? 'block' : 'none';\n",
              "\n",
              "        async function convertToInteractive(key) {\n",
              "          const element = document.querySelector('#df-4a2f7078-a7c0-4b10-84b5-99bf29704ff2');\n",
              "          const dataTable =\n",
              "            await google.colab.kernel.invokeFunction('convertToInteractive',\n",
              "                                                     [key], {});\n",
              "          if (!dataTable) return;\n",
              "\n",
              "          const docLinkHtml = 'Like what you see? Visit the ' +\n",
              "            '<a target=\"_blank\" href=https://colab.research.google.com/notebooks/data_table.ipynb>data table notebook</a>'\n",
              "            + ' to learn more about interactive tables.';\n",
              "          element.innerHTML = '';\n",
              "          dataTable['output_type'] = 'display_data';\n",
              "          await google.colab.output.renderOutput(dataTable, element);\n",
              "          const docLink = document.createElement('div');\n",
              "          docLink.innerHTML = docLinkHtml;\n",
              "          element.appendChild(docLink);\n",
              "        }\n",
              "      </script>\n",
              "    </div>\n",
              "  </div>\n",
              "  "
            ]
          },
          "metadata": {},
          "execution_count": 7
        }
      ]
    },
    {
      "cell_type": "code",
      "source": [
        "print (data.shape)"
      ],
      "metadata": {
        "colab": {
          "base_uri": "https://localhost:8080/"
        },
        "id": "bOom_CKIkHxv",
        "outputId": "54e6395e-62da-4070-effa-e44c36748201"
      },
      "execution_count": 8,
      "outputs": [
        {
          "output_type": "stream",
          "name": "stdout",
          "text": [
            "(617, 17)\n"
          ]
        }
      ]
    },
    {
      "cell_type": "markdown",
      "source": [
        "Changing gender (string) to int"
      ],
      "metadata": {
        "id": "DqtSk-7P9v2i"
      }
    },
    {
      "cell_type": "code",
      "source": [
        "data[\"gender\"] = data[\"gender\"].apply({\"Male\":1, \"Female\":0}.get)\n",
        "data.head()"
      ],
      "metadata": {
        "colab": {
          "base_uri": "https://localhost:8080/",
          "height": 270
        },
        "id": "gRJpDQLDmPuh",
        "outputId": "4d3a127e-5ec6-4517-9c40-71f74ccec2b8"
      },
      "execution_count": 9,
      "outputs": [
        {
          "output_type": "execute_result",
          "data": {
            "text/plain": [
              "   age  gender  polyuria  polydipsia  sudden_weight_loss  weakness  \\\n",
              "0   40       1         0           1                   0         1   \n",
              "1   58       1         0           0                   0         1   \n",
              "2   41       1         1           0                   0         1   \n",
              "3   45       1         0           0                   1         1   \n",
              "4   60       1         1           1                   1         1   \n",
              "\n",
              "   polyphagia  genital_thrush  visual_blurring  itching  irritability  \\\n",
              "0           0               0                0        1             0   \n",
              "1           0               0                1        0             0   \n",
              "2           1               0                0        1             0   \n",
              "3           1               1                0        1             0   \n",
              "4           1               0                1        1             1   \n",
              "\n",
              "   delayed_healing  partial_paresis  muscle_stiffness  alopecia  obesity  \\\n",
              "0                1                0                 1         1        1   \n",
              "1                0                1                 0         1        0   \n",
              "2                1                0                 1         1        0   \n",
              "3                1                0                 0         0        0   \n",
              "4                1                1                 1         1        1   \n",
              "\n",
              "   class  \n",
              "0      1  \n",
              "1      1  \n",
              "2      1  \n",
              "3      1  \n",
              "4      1  "
            ],
            "text/html": [
              "\n",
              "  <div id=\"df-07abfabf-0b29-4582-a492-866551fca2c4\">\n",
              "    <div class=\"colab-df-container\">\n",
              "      <div>\n",
              "<style scoped>\n",
              "    .dataframe tbody tr th:only-of-type {\n",
              "        vertical-align: middle;\n",
              "    }\n",
              "\n",
              "    .dataframe tbody tr th {\n",
              "        vertical-align: top;\n",
              "    }\n",
              "\n",
              "    .dataframe thead th {\n",
              "        text-align: right;\n",
              "    }\n",
              "</style>\n",
              "<table border=\"1\" class=\"dataframe\">\n",
              "  <thead>\n",
              "    <tr style=\"text-align: right;\">\n",
              "      <th></th>\n",
              "      <th>age</th>\n",
              "      <th>gender</th>\n",
              "      <th>polyuria</th>\n",
              "      <th>polydipsia</th>\n",
              "      <th>sudden_weight_loss</th>\n",
              "      <th>weakness</th>\n",
              "      <th>polyphagia</th>\n",
              "      <th>genital_thrush</th>\n",
              "      <th>visual_blurring</th>\n",
              "      <th>itching</th>\n",
              "      <th>irritability</th>\n",
              "      <th>delayed_healing</th>\n",
              "      <th>partial_paresis</th>\n",
              "      <th>muscle_stiffness</th>\n",
              "      <th>alopecia</th>\n",
              "      <th>obesity</th>\n",
              "      <th>class</th>\n",
              "    </tr>\n",
              "  </thead>\n",
              "  <tbody>\n",
              "    <tr>\n",
              "      <th>0</th>\n",
              "      <td>40</td>\n",
              "      <td>1</td>\n",
              "      <td>0</td>\n",
              "      <td>1</td>\n",
              "      <td>0</td>\n",
              "      <td>1</td>\n",
              "      <td>0</td>\n",
              "      <td>0</td>\n",
              "      <td>0</td>\n",
              "      <td>1</td>\n",
              "      <td>0</td>\n",
              "      <td>1</td>\n",
              "      <td>0</td>\n",
              "      <td>1</td>\n",
              "      <td>1</td>\n",
              "      <td>1</td>\n",
              "      <td>1</td>\n",
              "    </tr>\n",
              "    <tr>\n",
              "      <th>1</th>\n",
              "      <td>58</td>\n",
              "      <td>1</td>\n",
              "      <td>0</td>\n",
              "      <td>0</td>\n",
              "      <td>0</td>\n",
              "      <td>1</td>\n",
              "      <td>0</td>\n",
              "      <td>0</td>\n",
              "      <td>1</td>\n",
              "      <td>0</td>\n",
              "      <td>0</td>\n",
              "      <td>0</td>\n",
              "      <td>1</td>\n",
              "      <td>0</td>\n",
              "      <td>1</td>\n",
              "      <td>0</td>\n",
              "      <td>1</td>\n",
              "    </tr>\n",
              "    <tr>\n",
              "      <th>2</th>\n",
              "      <td>41</td>\n",
              "      <td>1</td>\n",
              "      <td>1</td>\n",
              "      <td>0</td>\n",
              "      <td>0</td>\n",
              "      <td>1</td>\n",
              "      <td>1</td>\n",
              "      <td>0</td>\n",
              "      <td>0</td>\n",
              "      <td>1</td>\n",
              "      <td>0</td>\n",
              "      <td>1</td>\n",
              "      <td>0</td>\n",
              "      <td>1</td>\n",
              "      <td>1</td>\n",
              "      <td>0</td>\n",
              "      <td>1</td>\n",
              "    </tr>\n",
              "    <tr>\n",
              "      <th>3</th>\n",
              "      <td>45</td>\n",
              "      <td>1</td>\n",
              "      <td>0</td>\n",
              "      <td>0</td>\n",
              "      <td>1</td>\n",
              "      <td>1</td>\n",
              "      <td>1</td>\n",
              "      <td>1</td>\n",
              "      <td>0</td>\n",
              "      <td>1</td>\n",
              "      <td>0</td>\n",
              "      <td>1</td>\n",
              "      <td>0</td>\n",
              "      <td>0</td>\n",
              "      <td>0</td>\n",
              "      <td>0</td>\n",
              "      <td>1</td>\n",
              "    </tr>\n",
              "    <tr>\n",
              "      <th>4</th>\n",
              "      <td>60</td>\n",
              "      <td>1</td>\n",
              "      <td>1</td>\n",
              "      <td>1</td>\n",
              "      <td>1</td>\n",
              "      <td>1</td>\n",
              "      <td>1</td>\n",
              "      <td>0</td>\n",
              "      <td>1</td>\n",
              "      <td>1</td>\n",
              "      <td>1</td>\n",
              "      <td>1</td>\n",
              "      <td>1</td>\n",
              "      <td>1</td>\n",
              "      <td>1</td>\n",
              "      <td>1</td>\n",
              "      <td>1</td>\n",
              "    </tr>\n",
              "  </tbody>\n",
              "</table>\n",
              "</div>\n",
              "      <button class=\"colab-df-convert\" onclick=\"convertToInteractive('df-07abfabf-0b29-4582-a492-866551fca2c4')\"\n",
              "              title=\"Convert this dataframe to an interactive table.\"\n",
              "              style=\"display:none;\">\n",
              "        \n",
              "  <svg xmlns=\"http://www.w3.org/2000/svg\" height=\"24px\"viewBox=\"0 0 24 24\"\n",
              "       width=\"24px\">\n",
              "    <path d=\"M0 0h24v24H0V0z\" fill=\"none\"/>\n",
              "    <path d=\"M18.56 5.44l.94 2.06.94-2.06 2.06-.94-2.06-.94-.94-2.06-.94 2.06-2.06.94zm-11 1L8.5 8.5l.94-2.06 2.06-.94-2.06-.94L8.5 2.5l-.94 2.06-2.06.94zm10 10l.94 2.06.94-2.06 2.06-.94-2.06-.94-.94-2.06-.94 2.06-2.06.94z\"/><path d=\"M17.41 7.96l-1.37-1.37c-.4-.4-.92-.59-1.43-.59-.52 0-1.04.2-1.43.59L10.3 9.45l-7.72 7.72c-.78.78-.78 2.05 0 2.83L4 21.41c.39.39.9.59 1.41.59.51 0 1.02-.2 1.41-.59l7.78-7.78 2.81-2.81c.8-.78.8-2.07 0-2.86zM5.41 20L4 18.59l7.72-7.72 1.47 1.35L5.41 20z\"/>\n",
              "  </svg>\n",
              "      </button>\n",
              "      \n",
              "  <style>\n",
              "    .colab-df-container {\n",
              "      display:flex;\n",
              "      flex-wrap:wrap;\n",
              "      gap: 12px;\n",
              "    }\n",
              "\n",
              "    .colab-df-convert {\n",
              "      background-color: #E8F0FE;\n",
              "      border: none;\n",
              "      border-radius: 50%;\n",
              "      cursor: pointer;\n",
              "      display: none;\n",
              "      fill: #1967D2;\n",
              "      height: 32px;\n",
              "      padding: 0 0 0 0;\n",
              "      width: 32px;\n",
              "    }\n",
              "\n",
              "    .colab-df-convert:hover {\n",
              "      background-color: #E2EBFA;\n",
              "      box-shadow: 0px 1px 2px rgba(60, 64, 67, 0.3), 0px 1px 3px 1px rgba(60, 64, 67, 0.15);\n",
              "      fill: #174EA6;\n",
              "    }\n",
              "\n",
              "    [theme=dark] .colab-df-convert {\n",
              "      background-color: #3B4455;\n",
              "      fill: #D2E3FC;\n",
              "    }\n",
              "\n",
              "    [theme=dark] .colab-df-convert:hover {\n",
              "      background-color: #434B5C;\n",
              "      box-shadow: 0px 1px 3px 1px rgba(0, 0, 0, 0.15);\n",
              "      filter: drop-shadow(0px 1px 2px rgba(0, 0, 0, 0.3));\n",
              "      fill: #FFFFFF;\n",
              "    }\n",
              "  </style>\n",
              "\n",
              "      <script>\n",
              "        const buttonEl =\n",
              "          document.querySelector('#df-07abfabf-0b29-4582-a492-866551fca2c4 button.colab-df-convert');\n",
              "        buttonEl.style.display =\n",
              "          google.colab.kernel.accessAllowed ? 'block' : 'none';\n",
              "\n",
              "        async function convertToInteractive(key) {\n",
              "          const element = document.querySelector('#df-07abfabf-0b29-4582-a492-866551fca2c4');\n",
              "          const dataTable =\n",
              "            await google.colab.kernel.invokeFunction('convertToInteractive',\n",
              "                                                     [key], {});\n",
              "          if (!dataTable) return;\n",
              "\n",
              "          const docLinkHtml = 'Like what you see? Visit the ' +\n",
              "            '<a target=\"_blank\" href=https://colab.research.google.com/notebooks/data_table.ipynb>data table notebook</a>'\n",
              "            + ' to learn more about interactive tables.';\n",
              "          element.innerHTML = '';\n",
              "          dataTable['output_type'] = 'display_data';\n",
              "          await google.colab.output.renderOutput(dataTable, element);\n",
              "          const docLink = document.createElement('div');\n",
              "          docLink.innerHTML = docLinkHtml;\n",
              "          element.appendChild(docLink);\n",
              "        }\n",
              "      </script>\n",
              "    </div>\n",
              "  </div>\n",
              "  "
            ]
          },
          "metadata": {},
          "execution_count": 9
        }
      ]
    },
    {
      "cell_type": "code",
      "source": [
        "sns.countplot(x=\"class\", data = data)"
      ],
      "metadata": {
        "id": "y2VMei0D-U6u",
        "outputId": "42178851-1a34-4ffd-8815-2881ba73f7a4",
        "colab": {
          "base_uri": "https://localhost:8080/",
          "height": 296
        }
      },
      "execution_count": 10,
      "outputs": [
        {
          "output_type": "execute_result",
          "data": {
            "text/plain": [
              "<matplotlib.axes._subplots.AxesSubplot at 0x7f2962fefa50>"
            ]
          },
          "metadata": {},
          "execution_count": 10
        },
        {
          "output_type": "display_data",
          "data": {
            "text/plain": [
              "<Figure size 432x288 with 1 Axes>"
            ],
            "image/png": "[encoded data removed]"
          },
          "metadata": {
            "needs_background": "light"
          }
        }
      ]
    },
    {
      "cell_type": "code",
      "source": [
        "sns.countplot(x=\"gender\", data = data)"
      ],
      "metadata": {
        "id": "kAW0iMcfUwb6",
        "outputId": "623c91df-b639-4659-b923-c0ab5d6d0cbf",
        "colab": {
          "base_uri": "https://localhost:8080/",
          "height": 296
        }
      },
      "execution_count": 11,
      "outputs": [
        {
          "output_type": "execute_result",
          "data": {
            "text/plain": [
              "<matplotlib.axes._subplots.AxesSubplot at 0x7f2963064350>"
            ]
          },
          "metadata": {},
          "execution_count": 11
        },
        {
          "output_type": "display_data",
          "data": {
            "text/plain": [
              "<Figure size 432x288 with 1 Axes>"
            ],
            "image/png": "[encoded data removed]"
          },
          "metadata": {
            "needs_background": "light"
          }
        }
      ]
    },
    {
      "cell_type": "markdown",
      "source": [
        "**Plotting Heat Map**"
      ],
      "metadata": {
        "id": "AC25zIaIy4nh"
      }
    },
    {
      "cell_type": "code",
      "source": [
        "tc = data.corr()\n",
        "sns.heatmap(tc,annot = False,cmap=\"coolwarm\")"
      ],
      "metadata": {
        "colab": {
          "base_uri": "https://localhost:8080/",
          "height": 376
        },
        "id": "mBSAwOYFkMKw",
        "outputId": "760c4580-958d-4439-8c3f-1d6085d3f6cf"
      },
      "execution_count": 12,
      "outputs": [
        {
          "output_type": "execute_result",
          "data": {
            "text/plain": [
              "<matplotlib.axes._subplots.AxesSubplot at 0x7f2962fa5d90>"
            ]
          },
          "metadata": {},
          "execution_count": 12
        },
        {
          "output_type": "display_data",
          "data": {
            "text/plain": [
              "<Figure size 432x288 with 2 Axes>"
            ],
            "image/png": "[encoded data removed]"
          },
          "metadata": {
            "needs_background": "light"
          }
        }
      ]
    },
    {
      "cell_type": "code",
      "source": [
        "data.info()"
      ],
      "metadata": {
        "colab": {
          "base_uri": "https://localhost:8080/"
        },
        "id": "LMzXXfGRmFEB",
        "outputId": "fa8befc4-1163-4c9a-f88e-c5e76d94e400"
      },
      "execution_count": 13,
      "outputs": [
        {
          "output_type": "stream",
          "name": "stdout",
          "text": [
            "<class 'pandas.core.frame.DataFrame'>\n",
            "RangeIndex: 617 entries, 0 to 616\n",
            "Data columns (total 17 columns):\n",
            " #   Column              Non-Null Count  Dtype\n",
            "---  ------              --------------  -----\n",
            " 0   age                 617 non-null    int64\n",
            " 1   gender              617 non-null    int64\n",
            " 2   polyuria            617 non-null    int64\n",
            " 3   polydipsia          617 non-null    int64\n",
            " 4   sudden_weight_loss  617 non-null    int64\n",
            " 5   weakness            617 non-null    int64\n",
            " 6   polyphagia          617 non-null    int64\n",
            " 7   genital_thrush      617 non-null    int64\n",
            " 8   visual_blurring     617 non-null    int64\n",
            " 9   itching             617 non-null    int64\n",
            " 10  irritability        617 non-null    int64\n",
            " 11  delayed_healing     617 non-null    int64\n",
            " 12  partial_paresis     617 non-null    int64\n",
            " 13  muscle_stiffness    617 non-null    int64\n",
            " 14  alopecia            617 non-null    int64\n",
            " 15  obesity             617 non-null    int64\n",
            " 16  class               617 non-null    int64\n",
            "dtypes: int64(17)\n",
            "memory usage: 82.1 KB\n"
          ]
        }
      ]
    },
    {
      "cell_type": "markdown",
      "source": [
        "**Split the Dataset Into Training and Test Set**"
      ],
      "metadata": {
        "id": "KfBjL3zuy-UP"
      }
    },
    {
      "cell_type": "code",
      "source": [
        "x = data[data.columns[:-1]]\n",
        "y = data[data.columns[-1]]\n",
        "x_train,x_test,y_train,y_test = train_test_split(x,y,test_size = 0.15,random_state = 10)\n",
        "print(x_train)\n",
        "print(y_train)"
      ],
      "metadata": {
        "colab": {
          "base_uri": "https://localhost:8080/"
        },
        "id": "HpAUhdwomk86",
        "outputId": "9574723a-2899-4f8e-c2e4-0c53ba6d4ffe"
      },
      "execution_count": 14,
      "outputs": [
        {
          "output_type": "stream",
          "name": "stdout",
          "text": [
            "     age  gender  polyuria  polydipsia  sudden_weight_loss  weakness  \\\n",
            "78    39       0         1           1                   1         1   \n",
            "236   60       1         0           0                   0         1   \n",
            "419   72       1         1           0                   0         0   \n",
            "163   45       0         0           0                   0         0   \n",
            "383   51       0         0           0                   0         0   \n",
            "..   ...     ...       ...         ...                 ...       ...   \n",
            "369   37       0         0           0                   0         0   \n",
            "320   65       0         0           0                   0         1   \n",
            "527   46       1         0           0                   0         1   \n",
            "125   55       1         1           1                   1         1   \n",
            "265   28       0         0           0                   0         0   \n",
            "\n",
            "     polyphagia  genital_thrush  visual_blurring  itching  irritability  \\\n",
            "78            1               0                0        1             1   \n",
            "236           1               0                1        1             0   \n",
            "419           1               0                1        1             0   \n",
            "163           1               0                1        1             0   \n",
            "383           0               0                0        0             0   \n",
            "..          ...             ...              ...      ...           ...   \n",
            "369           0               0                0        0             0   \n",
            "320           0               0                0        1             0   \n",
            "527           0               0                0        1             0   \n",
            "125           1               0                1        0             0   \n",
            "265           0               0                1        0             0   \n",
            "\n",
            "     delayed_healing  partial_paresis  muscle_stiffness  alopecia  obesity  \n",
            "78                 1                1                 0         0        0  \n",
            "236                1                0                 1         1        0  \n",
            "419                1                1                 1         1        0  \n",
            "163                0                1                 0         0        0  \n",
            "383                0                0                 0         0        0  \n",
            "..               ...              ...               ...       ...      ...  \n",
            "369                0                0                 0         0        0  \n",
            "320                1                0                 0         1        0  \n",
            "527                1                0                 0         1        0  \n",
            "125                1                1                 0         0        0  \n",
            "265                0                1                 1         0        0  \n",
            "\n",
            "[524 rows x 16 columns]\n",
            "78     1\n",
            "236    0\n",
            "419    0\n",
            "163    1\n",
            "383    0\n",
            "      ..\n",
            "369    0\n",
            "320    0\n",
            "527    0\n",
            "125    1\n",
            "265    1\n",
            "Name: class, Length: 524, dtype: int64\n"
          ]
        }
      ]
    },
    {
      "cell_type": "markdown",
      "source": [
        "**Training Dataset**\n",
        "\n",
        "We build and train our diabetes dataset using Deep Neural Network"
      ],
      "metadata": {
        "id": "V0e7qc-4zHIl"
      }
    },
    {
      "cell_type": "code",
      "source": [
        "model = tf.keras.models.Sequential([\n",
        "  tf.keras.layers.Dropout(0.2, input_dim = 16),\n",
        "  tf.keras.layers.Dense(units = 300, activation = \"relu\"),\n",
        "  tf.keras.layers.Dropout(0.2),\n",
        "  tf.keras.layers.Dense(units = 200, activation = \"relu\"),\n",
        "  tf.keras.layers.Dropout(0.2),\n",
        "  tf.keras.layers.Dense(units = 100, activation = \"relu\"),\n",
        "  tf.keras.layers.Dropout(0.2),\n",
        "  tf.keras.layers.Dense(units = 1,activation = \"sigmoid\"),\n",
        "  ])\n",
        "\n",
        "model.compile(optimizer = \"Adam\", \n",
        "              loss = \"binary_crossentropy\" , \n",
        "              metrics=[\"accuracy\"])\n",
        "\n",
        "#Here we train our model.\n",
        "history = model.fit(x_train,y_train,epochs = 100,validation_data = (x_test,y_test))\n",
        "#This the inference phase.We try our model on test data.\n",
        "y_pred = model.predict(x_test)\n",
        "y_pred = (y_pred > 0.5)"
      ],
      "metadata": {
        "colab": {
          "base_uri": "https://localhost:8080/"
        },
        "id": "95Tdsk7onrug",
        "outputId": "ffcaf0b2-4277-4d50-e2b3-e6fa95275f26"
      },
      "execution_count": 35,
      "outputs": [
        {
          "output_type": "stream",
          "name": "stdout",
          "text": [
            "Epoch 1/100\n",
            "17/17 [==============================] - 2s 15ms/step - loss: 1.1036 - accuracy: 0.5286 - val_loss: 0.8381 - val_accuracy: 0.5484\n",
            "Epoch 2/100\n",
            "17/17 [==============================] - 0s 5ms/step - loss: 0.7834 - accuracy: 0.5248 - val_loss: 0.6436 - val_accuracy: 0.6667\n",
            "Epoch 3/100\n",
            "17/17 [==============================] - 0s 4ms/step - loss: 0.7170 - accuracy: 0.5859 - val_loss: 0.6851 - val_accuracy: 0.4731\n",
            "Epoch 4/100\n",
            "17/17 [==============================] - 0s 5ms/step - loss: 0.6617 - accuracy: 0.6298 - val_loss: 0.6322 - val_accuracy: 0.6452\n",
            "Epoch 5/100\n",
            "17/17 [==============================] - 0s 7ms/step - loss: 0.6800 - accuracy: 0.6240 - val_loss: 0.6148 - val_accuracy: 0.8065\n",
            "Epoch 6/100\n",
            "17/17 [==============================] - 0s 6ms/step - loss: 0.5974 - accuracy: 0.6832 - val_loss: 0.6117 - val_accuracy: 0.6452\n",
            "Epoch 7/100\n",
            "17/17 [==============================] - 0s 5ms/step - loss: 0.5938 - accuracy: 0.6775 - val_loss: 0.4865 - val_accuracy: 0.8495\n",
            "Epoch 8/100\n",
            "17/17 [==============================] - 0s 5ms/step - loss: 0.5117 - accuracy: 0.7691 - val_loss: 0.4339 - val_accuracy: 0.8817\n",
            "Epoch 9/100\n",
            "17/17 [==============================] - 0s 6ms/step - loss: 0.4844 - accuracy: 0.7710 - val_loss: 0.3868 - val_accuracy: 0.8817\n",
            "Epoch 10/100\n",
            "17/17 [==============================] - 0s 4ms/step - loss: 0.5102 - accuracy: 0.7920 - val_loss: 0.3644 - val_accuracy: 0.8280\n",
            "Epoch 11/100\n",
            "17/17 [==============================] - 0s 6ms/step - loss: 0.4948 - accuracy: 0.7824 - val_loss: 0.3656 - val_accuracy: 0.8387\n",
            "Epoch 12/100\n",
            "17/17 [==============================] - 0s 6ms/step - loss: 0.4010 - accuracy: 0.8225 - val_loss: 0.3475 - val_accuracy: 0.8710\n",
            "Epoch 13/100\n",
            "17/17 [==============================] - 0s 4ms/step - loss: 0.4032 - accuracy: 0.8340 - val_loss: 0.3357 - val_accuracy: 0.8817\n",
            "Epoch 14/100\n",
            "17/17 [==============================] - 0s 5ms/step - loss: 0.3814 - accuracy: 0.8454 - val_loss: 0.3394 - val_accuracy: 0.8817\n",
            "Epoch 15/100\n",
            "17/17 [==============================] - 0s 5ms/step - loss: 0.3460 - accuracy: 0.8492 - val_loss: 0.3279 - val_accuracy: 0.8817\n",
            "Epoch 16/100\n",
            "17/17 [==============================] - 0s 5ms/step - loss: 0.3551 - accuracy: 0.8626 - val_loss: 0.3881 - val_accuracy: 0.9032\n",
            "Epoch 17/100\n",
            "17/17 [==============================] - 0s 5ms/step - loss: 0.3684 - accuracy: 0.8531 - val_loss: 0.4346 - val_accuracy: 0.8495\n",
            "Epoch 18/100\n",
            "17/17 [==============================] - 0s 9ms/step - loss: 0.3706 - accuracy: 0.8569 - val_loss: 0.3862 - val_accuracy: 0.9032\n",
            "Epoch 19/100\n",
            "17/17 [==============================] - 0s 11ms/step - loss: 0.3192 - accuracy: 0.8740 - val_loss: 0.3285 - val_accuracy: 0.8817\n",
            "Epoch 20/100\n",
            "17/17 [==============================] - 0s 20ms/step - loss: 0.3425 - accuracy: 0.8569 - val_loss: 0.3979 - val_accuracy: 0.9032\n",
            "Epoch 21/100\n",
            "17/17 [==============================] - 0s 11ms/step - loss: 0.3282 - accuracy: 0.8664 - val_loss: 0.3673 - val_accuracy: 0.9032\n",
            "Epoch 22/100\n",
            "17/17 [==============================] - 0s 11ms/step - loss: 0.3359 - accuracy: 0.8683 - val_loss: 0.3236 - val_accuracy: 0.8710\n",
            "Epoch 23/100\n",
            "17/17 [==============================] - 0s 10ms/step - loss: 0.2771 - accuracy: 0.9122 - val_loss: 0.3559 - val_accuracy: 0.9032\n",
            "Epoch 24/100\n",
            "17/17 [==============================] - 0s 12ms/step - loss: 0.3057 - accuracy: 0.8740 - val_loss: 0.3534 - val_accuracy: 0.9032\n",
            "Epoch 25/100\n",
            "17/17 [==============================] - 0s 12ms/step - loss: 0.2948 - accuracy: 0.8702 - val_loss: 0.3035 - val_accuracy: 0.8817\n",
            "Epoch 26/100\n",
            "17/17 [==============================] - 0s 12ms/step - loss: 0.3582 - accuracy: 0.8645 - val_loss: 0.3008 - val_accuracy: 0.8925\n",
            "Epoch 27/100\n",
            "17/17 [==============================] - 0s 12ms/step - loss: 0.3025 - accuracy: 0.8817 - val_loss: 0.3009 - val_accuracy: 0.8925\n",
            "Epoch 28/100\n",
            "17/17 [==============================] - 0s 10ms/step - loss: 0.3112 - accuracy: 0.8798 - val_loss: 0.2844 - val_accuracy: 0.8602\n",
            "Epoch 29/100\n",
            "17/17 [==============================] - 0s 12ms/step - loss: 0.2875 - accuracy: 0.8855 - val_loss: 0.3011 - val_accuracy: 0.9032\n",
            "Epoch 30/100\n",
            "17/17 [==============================] - 0s 14ms/step - loss: 0.3136 - accuracy: 0.8683 - val_loss: 0.2636 - val_accuracy: 0.8925\n",
            "Epoch 31/100\n",
            "17/17 [==============================] - 0s 12ms/step - loss: 0.2930 - accuracy: 0.8760 - val_loss: 0.2581 - val_accuracy: 0.8925\n",
            "Epoch 32/100\n",
            "17/17 [==============================] - 0s 12ms/step - loss: 0.2930 - accuracy: 0.8950 - val_loss: 0.2576 - val_accuracy: 0.8925\n",
            "Epoch 33/100\n",
            "17/17 [==============================] - 0s 12ms/step - loss: 0.2850 - accuracy: 0.9122 - val_loss: 0.2757 - val_accuracy: 0.9032\n",
            "Epoch 34/100\n",
            "17/17 [==============================] - 0s 12ms/step - loss: 0.2792 - accuracy: 0.9008 - val_loss: 0.3103 - val_accuracy: 0.9032\n",
            "Epoch 35/100\n",
            "17/17 [==============================] - 0s 11ms/step - loss: 0.2849 - accuracy: 0.8989 - val_loss: 0.2887 - val_accuracy: 0.8925\n",
            "Epoch 36/100\n",
            "17/17 [==============================] - 0s 12ms/step - loss: 0.2914 - accuracy: 0.8836 - val_loss: 0.2799 - val_accuracy: 0.8925\n",
            "Epoch 37/100\n",
            "17/17 [==============================] - 0s 7ms/step - loss: 0.2958 - accuracy: 0.8798 - val_loss: 0.3094 - val_accuracy: 0.9032\n",
            "Epoch 38/100\n",
            "17/17 [==============================] - 0s 13ms/step - loss: 0.2514 - accuracy: 0.8989 - val_loss: 0.2823 - val_accuracy: 0.8925\n",
            "Epoch 39/100\n",
            "17/17 [==============================] - 0s 14ms/step - loss: 0.2804 - accuracy: 0.8893 - val_loss: 0.3158 - val_accuracy: 0.9247\n",
            "Epoch 40/100\n",
            "17/17 [==============================] - 0s 10ms/step - loss: 0.3041 - accuracy: 0.8817 - val_loss: 0.2679 - val_accuracy: 0.8925\n",
            "Epoch 41/100\n",
            "17/17 [==============================] - 0s 16ms/step - loss: 0.2978 - accuracy: 0.8817 - val_loss: 0.2752 - val_accuracy: 0.8602\n",
            "Epoch 42/100\n",
            "17/17 [==============================] - 0s 14ms/step - loss: 0.2749 - accuracy: 0.9008 - val_loss: 0.2888 - val_accuracy: 0.8925\n",
            "Epoch 43/100\n",
            "17/17 [==============================] - 0s 10ms/step - loss: 0.2916 - accuracy: 0.8931 - val_loss: 0.3198 - val_accuracy: 0.9140\n",
            "Epoch 44/100\n",
            "17/17 [==============================] - 0s 9ms/step - loss: 0.2464 - accuracy: 0.9103 - val_loss: 0.2704 - val_accuracy: 0.9140\n",
            "Epoch 45/100\n",
            "17/17 [==============================] - 0s 10ms/step - loss: 0.2685 - accuracy: 0.8989 - val_loss: 0.2839 - val_accuracy: 0.9140\n",
            "Epoch 46/100\n",
            "17/17 [==============================] - 0s 12ms/step - loss: 0.2497 - accuracy: 0.9046 - val_loss: 0.2818 - val_accuracy: 0.9140\n",
            "Epoch 47/100\n",
            "17/17 [==============================] - 0s 11ms/step - loss: 0.2789 - accuracy: 0.8989 - val_loss: 0.3041 - val_accuracy: 0.9140\n",
            "Epoch 48/100\n",
            "17/17 [==============================] - 0s 14ms/step - loss: 0.2841 - accuracy: 0.8836 - val_loss: 0.2899 - val_accuracy: 0.9140\n",
            "Epoch 49/100\n",
            "17/17 [==============================] - 0s 20ms/step - loss: 0.2724 - accuracy: 0.8836 - val_loss: 0.2626 - val_accuracy: 0.9140\n",
            "Epoch 50/100\n",
            "17/17 [==============================] - 0s 10ms/step - loss: 0.2772 - accuracy: 0.8855 - val_loss: 0.2503 - val_accuracy: 0.8925\n",
            "Epoch 51/100\n",
            "17/17 [==============================] - 0s 6ms/step - loss: 0.2693 - accuracy: 0.8989 - val_loss: 0.2449 - val_accuracy: 0.8817\n",
            "Epoch 52/100\n",
            "17/17 [==============================] - 0s 5ms/step - loss: 0.2566 - accuracy: 0.8989 - val_loss: 0.2457 - val_accuracy: 0.8925\n",
            "Epoch 53/100\n",
            "17/17 [==============================] - 0s 5ms/step - loss: 0.2641 - accuracy: 0.9008 - val_loss: 0.2618 - val_accuracy: 0.9140\n",
            "Epoch 54/100\n",
            "17/17 [==============================] - 0s 5ms/step - loss: 0.2928 - accuracy: 0.8950 - val_loss: 0.2645 - val_accuracy: 0.9140\n",
            "Epoch 55/100\n",
            "17/17 [==============================] - 0s 5ms/step - loss: 0.2717 - accuracy: 0.9008 - val_loss: 0.3117 - val_accuracy: 0.9140\n",
            "Epoch 56/100\n",
            "17/17 [==============================] - 0s 5ms/step - loss: 0.2934 - accuracy: 0.9065 - val_loss: 0.2572 - val_accuracy: 0.9140\n",
            "Epoch 57/100\n",
            "17/17 [==============================] - 0s 4ms/step - loss: 0.3000 - accuracy: 0.8855 - val_loss: 0.2572 - val_accuracy: 0.8925\n",
            "Epoch 58/100\n",
            "17/17 [==============================] - 0s 5ms/step - loss: 0.2787 - accuracy: 0.9065 - val_loss: 0.2506 - val_accuracy: 0.8925\n",
            "Epoch 59/100\n",
            "17/17 [==============================] - 0s 4ms/step - loss: 0.3015 - accuracy: 0.8798 - val_loss: 0.2608 - val_accuracy: 0.9140\n",
            "Epoch 60/100\n",
            "17/17 [==============================] - 0s 5ms/step - loss: 0.2812 - accuracy: 0.8912 - val_loss: 0.2634 - val_accuracy: 0.9140\n",
            "Epoch 61/100\n",
            "17/17 [==============================] - 0s 4ms/step - loss: 0.2654 - accuracy: 0.8989 - val_loss: 0.2638 - val_accuracy: 0.9032\n",
            "Epoch 62/100\n",
            "17/17 [==============================] - 0s 4ms/step - loss: 0.2667 - accuracy: 0.9008 - val_loss: 0.2448 - val_accuracy: 0.8925\n",
            "Epoch 63/100\n",
            "17/17 [==============================] - 0s 4ms/step - loss: 0.2593 - accuracy: 0.9027 - val_loss: 0.2493 - val_accuracy: 0.9140\n",
            "Epoch 64/100\n",
            "17/17 [==============================] - 0s 6ms/step - loss: 0.2841 - accuracy: 0.8912 - val_loss: 0.3039 - val_accuracy: 0.8925\n",
            "Epoch 65/100\n",
            "17/17 [==============================] - 0s 4ms/step - loss: 0.2830 - accuracy: 0.8874 - val_loss: 0.2439 - val_accuracy: 0.9140\n",
            "Epoch 66/100\n",
            "17/17 [==============================] - 0s 5ms/step - loss: 0.2373 - accuracy: 0.9046 - val_loss: 0.2798 - val_accuracy: 0.9140\n",
            "Epoch 67/100\n",
            "17/17 [==============================] - 0s 6ms/step - loss: 0.2903 - accuracy: 0.8874 - val_loss: 0.2469 - val_accuracy: 0.9140\n",
            "Epoch 68/100\n",
            "17/17 [==============================] - 0s 5ms/step - loss: 0.2626 - accuracy: 0.9008 - val_loss: 0.2669 - val_accuracy: 0.9247\n",
            "Epoch 69/100\n",
            "17/17 [==============================] - 0s 4ms/step - loss: 0.2528 - accuracy: 0.8969 - val_loss: 0.2520 - val_accuracy: 0.9140\n",
            "Epoch 70/100\n",
            "17/17 [==============================] - 0s 4ms/step - loss: 0.2609 - accuracy: 0.9141 - val_loss: 0.2319 - val_accuracy: 0.8925\n",
            "Epoch 71/100\n",
            "17/17 [==============================] - 0s 5ms/step - loss: 0.2482 - accuracy: 0.9103 - val_loss: 0.2346 - val_accuracy: 0.8925\n",
            "Epoch 72/100\n",
            "17/17 [==============================] - 0s 5ms/step - loss: 0.2696 - accuracy: 0.8989 - val_loss: 0.2929 - val_accuracy: 0.9247\n",
            "Epoch 73/100\n",
            "17/17 [==============================] - 0s 4ms/step - loss: 0.2731 - accuracy: 0.8931 - val_loss: 0.2291 - val_accuracy: 0.8925\n",
            "Epoch 74/100\n",
            "17/17 [==============================] - 0s 7ms/step - loss: 0.2592 - accuracy: 0.8969 - val_loss: 0.2258 - val_accuracy: 0.8925\n",
            "Epoch 75/100\n",
            "17/17 [==============================] - 0s 4ms/step - loss: 0.2349 - accuracy: 0.9179 - val_loss: 0.2374 - val_accuracy: 0.9140\n",
            "Epoch 76/100\n",
            "17/17 [==============================] - 0s 4ms/step - loss: 0.2435 - accuracy: 0.9160 - val_loss: 0.2677 - val_accuracy: 0.9247\n",
            "Epoch 77/100\n",
            "17/17 [==============================] - 0s 6ms/step - loss: 0.2462 - accuracy: 0.9122 - val_loss: 0.2402 - val_accuracy: 0.9032\n",
            "Epoch 78/100\n",
            "17/17 [==============================] - 0s 4ms/step - loss: 0.2485 - accuracy: 0.9084 - val_loss: 0.2482 - val_accuracy: 0.9140\n",
            "Epoch 79/100\n",
            "17/17 [==============================] - 0s 4ms/step - loss: 0.2404 - accuracy: 0.9027 - val_loss: 0.2591 - val_accuracy: 0.9140\n",
            "Epoch 80/100\n",
            "17/17 [==============================] - 0s 4ms/step - loss: 0.2498 - accuracy: 0.9046 - val_loss: 0.2407 - val_accuracy: 0.9032\n",
            "Epoch 81/100\n",
            "17/17 [==============================] - 0s 5ms/step - loss: 0.2349 - accuracy: 0.9179 - val_loss: 0.2659 - val_accuracy: 0.9140\n",
            "Epoch 82/100\n",
            "17/17 [==============================] - 0s 5ms/step - loss: 0.2189 - accuracy: 0.9313 - val_loss: 0.2424 - val_accuracy: 0.9140\n",
            "Epoch 83/100\n",
            "17/17 [==============================] - 0s 5ms/step - loss: 0.2497 - accuracy: 0.9218 - val_loss: 0.2484 - val_accuracy: 0.9247\n",
            "Epoch 84/100\n",
            "17/17 [==============================] - 0s 6ms/step - loss: 0.2673 - accuracy: 0.9008 - val_loss: 0.2523 - val_accuracy: 0.9355\n",
            "Epoch 85/100\n",
            "17/17 [==============================] - 0s 6ms/step - loss: 0.2739 - accuracy: 0.8779 - val_loss: 0.2248 - val_accuracy: 0.9140\n",
            "Epoch 86/100\n",
            "17/17 [==============================] - 0s 4ms/step - loss: 0.2321 - accuracy: 0.9046 - val_loss: 0.2160 - val_accuracy: 0.8817\n",
            "Epoch 87/100\n",
            "17/17 [==============================] - 0s 5ms/step - loss: 0.2443 - accuracy: 0.9046 - val_loss: 0.2384 - val_accuracy: 0.9247\n",
            "Epoch 88/100\n",
            "17/17 [==============================] - 0s 6ms/step - loss: 0.2556 - accuracy: 0.9046 - val_loss: 0.2380 - val_accuracy: 0.9247\n",
            "Epoch 89/100\n",
            "17/17 [==============================] - 0s 5ms/step - loss: 0.2545 - accuracy: 0.8969 - val_loss: 0.2480 - val_accuracy: 0.9247\n",
            "Epoch 90/100\n",
            "17/17 [==============================] - 0s 4ms/step - loss: 0.2363 - accuracy: 0.9103 - val_loss: 0.2314 - val_accuracy: 0.9247\n",
            "Epoch 91/100\n",
            "17/17 [==============================] - 0s 6ms/step - loss: 0.2386 - accuracy: 0.9160 - val_loss: 0.2602 - val_accuracy: 0.9247\n",
            "Epoch 92/100\n",
            "17/17 [==============================] - 0s 5ms/step - loss: 0.2380 - accuracy: 0.9103 - val_loss: 0.2198 - val_accuracy: 0.9140\n",
            "Epoch 93/100\n",
            "17/17 [==============================] - 0s 5ms/step - loss: 0.2381 - accuracy: 0.9027 - val_loss: 0.2203 - val_accuracy: 0.9247\n",
            "Epoch 94/100\n",
            "17/17 [==============================] - 0s 4ms/step - loss: 0.2514 - accuracy: 0.9046 - val_loss: 0.2620 - val_accuracy: 0.9247\n",
            "Epoch 95/100\n",
            "17/17 [==============================] - 0s 5ms/step - loss: 0.2589 - accuracy: 0.9065 - val_loss: 0.2253 - val_accuracy: 0.9032\n",
            "Epoch 96/100\n",
            "17/17 [==============================] - 0s 5ms/step - loss: 0.2473 - accuracy: 0.9141 - val_loss: 0.2491 - val_accuracy: 0.9247\n",
            "Epoch 97/100\n",
            "17/17 [==============================] - 0s 6ms/step - loss: 0.2483 - accuracy: 0.9008 - val_loss: 0.2356 - val_accuracy: 0.9247\n",
            "Epoch 98/100\n",
            "17/17 [==============================] - 0s 5ms/step - loss: 0.2502 - accuracy: 0.9046 - val_loss: 0.2579 - val_accuracy: 0.9247\n",
            "Epoch 99/100\n",
            "17/17 [==============================] - 0s 5ms/step - loss: 0.2629 - accuracy: 0.9065 - val_loss: 0.2057 - val_accuracy: 0.9140\n",
            "Epoch 100/100\n",
            "17/17 [==============================] - 0s 6ms/step - loss: 0.2216 - accuracy: 0.9179 - val_loss: 0.1994 - val_accuracy: 0.9247\n"
          ]
        }
      ]
    },
    {
      "cell_type": "markdown",
      "source": [
        "**Plot Accuracy and Loss**"
      ],
      "metadata": {
        "id": "QhUkzure3hRS"
      }
    },
    {
      "cell_type": "code",
      "source": [
        "# Retrieve a list of list results on training and test data sets for each training epoch\n",
        "\n",
        "acc      = history.history[ 'accuracy' ]\n",
        "val_acc  = history.history[ 'val_accuracy' ]\n",
        "loss     = history.history[    'loss' ]\n",
        "val_loss = history.history['val_loss' ]\n",
        "\n",
        "\n",
        "fig, axes = plt.subplots(1,2,figsize=(20,5))\n",
        "#Plot accuracy\n",
        "axes[0].plot(acc, color='red')\n",
        "axes[0].plot(val_acc)\n",
        "axes[0].set_title('Accuracy')\n",
        "axes[0].set_xlabel('epochs')\n",
        "axes[0].set_ylabel('acc')\n",
        "axes[0].legend(['acc', 'val_acc'], loc='lower right')\n",
        "#Plot loss\n",
        "axes[1].plot(loss, color='red')\n",
        "axes[1].plot(val_loss)\n",
        "axes[1].set_title('Loss')\n",
        "axes[1].set_xlabel('epochs')\n",
        "axes[1].set_ylabel('loss')\n",
        "axes[1].legend(['loss', 'val_loss'], loc='upper right')"
      ],
      "metadata": {
        "id": "_hwSfw-50GEu",
        "outputId": "b9dd449d-bd18-4bb5-aec5-468fc283d01a",
        "colab": {
          "base_uri": "https://localhost:8080/",
          "height": 286
        }
      },
      "execution_count": 36,
      "outputs": [
        {
          "output_type": "execute_result",
          "data": {
            "text/plain": [
              "<matplotlib.legend.Legend at 0x7f295c765410>"
            ]
          },
          "metadata": {},
          "execution_count": 36
        },
        {
          "output_type": "display_data",
          "data": {
            "text/plain": [
              "<Figure size 1440x360 with 2 Axes>"
            ],
            "image/png": "[encoded data removed]"
          },
          "metadata": {
            "needs_background": "light"
          }
        }
      ]
    },
    {
      "cell_type": "markdown",
      "source": [
        "**Plotting Confusion Matrix**"
      ],
      "metadata": {
        "id": "NsYpWyOnzQZc"
      }
    },
    {
      "cell_type": "code",
      "source": [
        "cm = confusion_matrix(y_test,y_pred)\n",
        "print(cm)\n",
        "accuracy_score(y_test,y_pred)"
      ],
      "metadata": {
        "id": "SJ30uAi3zVAZ",
        "outputId": "67f5b624-3a31-4997-a97e-cc99f5e5c00f",
        "colab": {
          "base_uri": "https://localhost:8080/"
        }
      },
      "execution_count": 37,
      "outputs": [
        {
          "output_type": "stream",
          "name": "stdout",
          "text": [
            "[[37  5]\n",
            " [ 2 49]]\n"
          ]
        },
        {
          "output_type": "execute_result",
          "data": {
            "text/plain": [
              "0.9247311827956989"
            ]
          },
          "metadata": {},
          "execution_count": 37
        }
      ]
    },
    {
      "cell_type": "code",
      "source": [
        "def normalized_confusion_matrix(y_test, conf_mat, model):\n",
        "    _ , counts = np.unique(y_test,return_counts=True)\n",
        "    conf_mat = conf_mat/counts\n",
        "    plt.figure(figsize=(6,5))\n",
        "    ax=sns.heatmap(conf_mat,fmt='.2f',annot=True,annot_kws={'size':20},lw=2, cbar=True, cbar_kws={'label':'% Class accuracy'})\n",
        "    plt.title(f'Confusion Matrix ({model})',size=22)\n",
        "    plt.xticks(size=20)\n",
        "    plt.yticks(size=20)\n",
        "    ax.figure.axes[-1].yaxis.label.set_size(20) ##colorbar label\n",
        "    cax = plt.gcf().axes[-1]  ##colorbar ticks\n",
        "    cax.tick_params(labelsize=20) ## colorbar ticks\n",
        "    plt.savefig(f'confusion-matrix-{model}.png',dpi=300)"
      ],
      "metadata": {
        "id": "UnW9W0hjrJLu"
      },
      "execution_count": 38,
      "outputs": []
    },
    {
      "cell_type": "code",
      "source": [
        "conf_mat = confusion_matrix(y_test,y_pred)\n",
        "normalized_confusion_matrix(y_test,conf_mat, 'Diabetes Pred Model')"
      ],
      "metadata": {
        "colab": {
          "base_uri": "https://localhost:8080/",
          "height": 351
        },
        "id": "r9zCB6K2rqRE",
        "outputId": "80bc2eca-567a-4db1-d58f-67a1a9a40ac7"
      },
      "execution_count": 39,
      "outputs": [
        {
          "output_type": "display_data",
          "data": {
            "text/plain": [
              "<Figure size 432x360 with 2 Axes>"
            ],
            "image/png": "[encoded data removed]"
          },
          "metadata": {
            "needs_background": "light"
          }
        }
      ]
    },
    {
      "cell_type": "code",
      "source": [
        "model.summary()"
      ],
      "metadata": {
        "colab": {
          "base_uri": "https://localhost:8080/"
        },
        "id": "j04GGyQEoG1F",
        "outputId": "7d116d0f-4aa8-4f4f-cc85-a02f85ad3dfb"
      },
      "execution_count": 40,
      "outputs": [
        {
          "output_type": "stream",
          "name": "stdout",
          "text": [
            "Model: \"sequential_9\"\n",
            "_________________________________________________________________\n",
            " Layer (type)                Output Shape              Param #   \n",
            "=================================================================\n",
            " dropout_14 (Dropout)        (None, 16)                0         \n",
            "                                                                 \n",
            " dense_36 (Dense)            (None, 300)               5100      \n",
            "                                                                 \n",
            " dropout_15 (Dropout)        (None, 300)               0         \n",
            "                                                                 \n",
            " dense_37 (Dense)            (None, 200)               60200     \n",
            "                                                                 \n",
            " dropout_16 (Dropout)        (None, 200)               0         \n",
            "                                                                 \n",
            " dense_38 (Dense)            (None, 100)               20100     \n",
            "                                                                 \n",
            " dropout_17 (Dropout)        (None, 100)               0         \n",
            "                                                                 \n",
            " dense_39 (Dense)            (None, 1)                 101       \n",
            "                                                                 \n",
            "=================================================================\n",
            "Total params: 85,501\n",
            "Trainable params: 85,501\n",
            "Non-trainable params: 0\n",
            "_________________________________________________________________\n"
          ]
        }
      ]
    },
    {
      "cell_type": "markdown",
      "source": [
        "**Save the Model**"
      ],
      "metadata": {
        "id": "Ds7OU4nizc9C"
      }
    },
    {
      "cell_type": "code",
      "source": [
        "tf.saved_model.save(\n",
        "    model,\n",
        "    export_dir = \"/tmp/myModel\",\n",
        ")"
      ],
      "metadata": {
        "id": "azt5PZJTsIJ4",
        "outputId": "2da0f349-d988-4261-bf98-50bb408985d9",
        "colab": {
          "base_uri": "https://localhost:8080/"
        }
      },
      "execution_count": 41,
      "outputs": [
        {
          "output_type": "stream",
          "name": "stdout",
          "text": [
            "INFO:tensorflow:Assets written to: /tmp/myModel/assets\n"
          ]
        }
      ]
    },
    {
      "cell_type": "code",
      "source": [
        "model.save('/tmp/myModel/new_model.h5')"
      ],
      "metadata": {
        "id": "ET3jrCNZIhtp"
      },
      "execution_count": 42,
      "outputs": []
    },
    {
      "cell_type": "code",
      "source": [
        "pickle.dump(model,open('model.pkl','wb'))"
      ],
      "metadata": {
        "colab": {
          "base_uri": "https://localhost:8080/"
        },
        "id": "8RchaCU0l2D0",
        "outputId": "836f48ef-7ed3-4616-d554-21fb57704e9d"
      },
      "execution_count": null,
      "outputs": [
        {
          "output_type": "stream",
          "name": "stdout",
          "text": [
            "INFO:tensorflow:Assets written to: ram://5172d3cb-201c-4b99-b2b8-55c6b8cb91fe/assets\n"
          ]
        }
      ]
    },
    {
      "cell_type": "code",
      "source": [
        "model = pickle.load(open('model.pkl','rb'))"
      ],
      "metadata": {
        "id": "SmIQYhCkmqAq"
      },
      "execution_count": null,
      "outputs": []
    }
  ]
}